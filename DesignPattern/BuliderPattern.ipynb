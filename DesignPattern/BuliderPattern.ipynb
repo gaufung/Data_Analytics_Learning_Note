{
 "cells": [
  {
   "cell_type": "markdown",
   "metadata": {},
   "source": [
    "建造者模式(Build Pattern)"
   ]
  },
  {
   "cell_type": "markdown",
   "metadata": {},
   "source": [
    "# 1 快餐点餐系统"
   ]
  },
  {
   "cell_type": "code",
   "execution_count": 1,
   "metadata": {
    "collapsed": true
   },
   "outputs": [],
   "source": [
    "class Burger():\n",
    "    name=\"\"\n",
    "    price=0.0\n",
    "    def getPrice(self):\n",
    "        return self.price\n",
    "    def setPrice(self,price):\n",
    "        self.price=price\n",
    "    def getName(self):\n",
    "        return self.name\n",
    "class cheeseBurger(Burger):\n",
    "    def __init__(self):\n",
    "        self.name=\"cheese burger\"\n",
    "        self.price=10.0\n",
    "class spicyChickenBurger(Burger):\n",
    "    def __init__(self):\n",
    "        self.name=\"spicy chicken burger\"\n",
    "        self.price=15.0\n",
    "class Snack():\n",
    "    name = \"\"\n",
    "    price = 0.0\n",
    "    type = \"SNACK\"\n",
    "    def getPrice(self):\n",
    "        return self.price\n",
    "    def setPrice(self, price):\n",
    "        self.price = price\n",
    "    def getName(self):\n",
    "        return self.name\n",
    "\n",
    "\n",
    "class chips(Snack):\n",
    "    def __init__(self):\n",
    "        self.name = \"chips\"\n",
    "        self.price = 6.0\n",
    "\n",
    "\n",
    "class chickenWings(Snack):\n",
    "    def __init__(self):\n",
    "        self.name = \"chicken wings\"\n",
    "        self.price = 12.0\n",
    "class Beverage():\n",
    "    name = \"\"\n",
    "    price = 0.0\n",
    "    type = \"BEVERAGE\"\n",
    "    def getPrice(self):\n",
    "        return self.price\n",
    "    def setPrice(self, price):\n",
    "        self.price = price\n",
    "    def getName(self):\n",
    "        return self.name\n",
    "\n",
    "\n",
    "class coke(Beverage):\n",
    "    def __init__(self):\n",
    "        self.name = \"coke\"\n",
    "        self.price = 4.0\n",
    "\n",
    "\n",
    "class milk(Beverage):\n",
    "    def __init__(self):\n",
    "        self.name = \"milk\"\n",
    "        self.price = 5.0"
   ]
  },
  {
   "cell_type": "code",
   "execution_count": 2,
   "metadata": {
    "collapsed": true
   },
   "outputs": [],
   "source": [
    "class Order(object):\n",
    "    burger=''\n",
    "    snack=''\n",
    "    beverage=''\n",
    "    def __init__(self,orderBuilder):\n",
    "        self.burger=orderBuilder.bBurger\n",
    "        self.snack=orderBuilder.bSnack\n",
    "        self.beverage=orderBuilder.bBeverage\n",
    "    def show(self):\n",
    "        print('Burger: %s' %self.burger.getName())\n",
    "        print('Snack: %s' % self.snack.getName())\n",
    "        print('Beverage: %s' % self.beverage.getName())\n"
   ]
  },
  {
   "cell_type": "code",
   "execution_count": 6,
   "metadata": {
    "collapsed": true
   },
   "outputs": [],
   "source": [
    "class orderBuilder():\n",
    "    bBurger=\"\"\n",
    "    bSnack=\"\"\n",
    "    bBeverage=\"\"\n",
    "    def addBurger(self,xBurger):\n",
    "        self.bBurger=xBurger\n",
    "        return self\n",
    "    def addSnack(self,xSnack):\n",
    "        self.bSnack=xSnack\n",
    "        return self\n",
    "    def addBeverage(self,xBeverage):\n",
    "        self.bBeverage=xBeverage\n",
    "        return self\n",
    "    def build(self):\n",
    "        return Order(self)"
   ]
  },
  {
   "cell_type": "code",
   "execution_count": 7,
   "metadata": {
    "collapsed": false
   },
   "outputs": [
    {
     "name": "stdout",
     "output_type": "stream",
     "text": [
      "Burger: spicy chicken burger\n",
      "Snack: chips\n",
      "Beverage: milk\n"
     ]
    }
   ],
   "source": [
    "order_1=orderBuilder().addBurger(spicyChickenBurger()).addSnack(chips()).addBeverage(milk()).build()\n",
    "order_1.show()"
   ]
  },
  {
   "cell_type": "markdown",
   "metadata": {},
   "source": [
    "# 2 说明\n",
    "将一个复杂对象的构建与它的表示分离，使得同样的构建过程可以创建不同的表示。\n",
    "建造者模式的作用，就是将“构建”和“表示”分离，以达到解耦的作用。"
   ]
  },
  {
   "cell_type": "markdown",
   "metadata": {},
   "source": [
    "# 3 Advantage\n",
    "+ 封装性好\n",
    "+ 系统扩展容易\n",
    "+ 模式易使用\n",
    "+ 便于细节控制"
   ]
  },
  {
   "cell_type": "markdown",
   "metadata": {},
   "source": [
    "# 4 Disvantage"
   ]
  },
  {
   "cell_type": "markdown",
   "metadata": {},
   "source": [
    "+ 加工工艺不透明"
   ]
  }
 ],
 "metadata": {
  "kernelspec": {
   "display_name": "Python 3",
   "language": "python",
   "name": "python3"
  },
  "language_info": {
   "codemirror_mode": {
    "name": "ipython",
    "version": 3
   },
   "file_extension": ".py",
   "mimetype": "text/x-python",
   "name": "python",
   "nbconvert_exporter": "python",
   "pygments_lexer": "ipython3",
   "version": "3.6.0"
  }
 },
 "nbformat": 4,
 "nbformat_minor": 2
}
