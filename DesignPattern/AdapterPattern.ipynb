{
 "cells": [
  {
   "cell_type": "markdown",
   "metadata": {},
   "source": [
    "适配器模式(Adapter Pattern)"
   ]
  },
  {
   "cell_type": "markdown",
   "metadata": {},
   "source": [
    "# 1 代码\n",
    "假设某公司A与某公司B需要合作，公司A需要访问公司B的人员信息，但公司A与公司B协议接口不同，该如何处理？先将公司A和公司B针对各自的人员信息访问系统封装了对象接口。"
   ]
  },
  {
   "cell_type": "code",
   "execution_count": 1,
   "metadata": {
    "collapsed": true
   },
   "outputs": [],
   "source": [
    "class ACpnStaff(object):\n",
    "    name=\"\"\n",
    "    id=\"\"\n",
    "    phone=\"\"\n",
    "    def __init__(self,id):\n",
    "        self.id=id\n",
    "    def getName(self):\n",
    "        print (\"A protocol getName method...id:%s\"%self.id)\n",
    "        return self.name\n",
    "    def setName(self,name):\n",
    "        print (\"A protocol setName method...id:%s\"%self.id)\n",
    "        self.name=name\n",
    "    def getPhone(self):\n",
    "        print (\"A protocol getPhone method...id:%s\"%self.id)\n",
    "        return self.phone\n",
    "    def setPhone(self,phone):\n",
    "        print (\"A protocol setPhone method...id:%s\"%self.id)\n",
    "        self.phone=phone\n",
    "class BCpnStaff(object):\n",
    "    name=\"\"\n",
    "    id=\"\"\n",
    "    telephone=\"\"\n",
    "    def __init__(self,id):\n",
    "        self.id=id\n",
    "    def get_name(self):\n",
    "        print (\"B protocol get_name method...id:%s\"%self.id)\n",
    "        return self.name\n",
    "    def set_name(self,name):\n",
    "        print (\"B protocol set_name method...id:%s\"%self.id)\n",
    "        self.name=name\n",
    "    def get_telephone(self):\n",
    "        print (\"B protocol get_telephone method...id:%s\"%self.id)\n",
    "        return self.telephone\n",
    "    def set_telephone(self,telephone):\n",
    "        print (\"B protocol get_name method...id:%s\"%self.id)\n",
    "        self.telephone=telephone"
   ]
  },
  {
   "cell_type": "markdown",
   "metadata": {},
   "source": [
    "为在A公司平台复用B公司接口，直接调用B公司人员接口是个办法，但会对现在业务流程造成不确定的风险。为减少耦合，规避风险，我们需要一个帮手，就像是转换电器电压的适配器一样，这个帮手就是协议和接口转换的适配器。适配器构造如下："
   ]
  },
  {
   "cell_type": "code",
   "execution_count": 2,
   "metadata": {
    "collapsed": true
   },
   "outputs": [],
   "source": [
    "class CpnStaffAdapter(object):\n",
    "    b_cpn=\"\"\n",
    "    def __init__(self,id):\n",
    "        self.b_cpn=BCpnStaff(id)\n",
    "    def getName(self):\n",
    "        return self.b_cpn.get_name()\n",
    "    def getPhone(self):\n",
    "        return self.b_cpn.get_telephone()\n",
    "    def setName(self,name):\n",
    "        self.b_cpn.set_name(name)\n",
    "    def setPhone(self,phone):\n",
    "        self.b_cpn.set_telephone(phone)"
   ]
  },
  {
   "cell_type": "markdown",
   "metadata": {},
   "source": [
    "适配器将B公司人员接口封装，而对外接口形式与A公司人员接口一致，达到用A公司人员接口访问B公司人员信息的效果。\n",
    "业务示例如下："
   ]
  },
  {
   "cell_type": "code",
   "execution_count": 3,
   "metadata": {
    "collapsed": false
   },
   "outputs": [
    {
     "name": "stdout",
     "output_type": "stream",
     "text": [
      "A protocol setName method...id:123\n",
      "A protocol setPhone method...id:123\n",
      "A protocol getName method...id:123\n",
      "A Staff Name:X-A\n",
      "A protocol getPhone method...id:123\n",
      "A Staff Phone:10012345678\n",
      "B protocol set_name method...id:456\n",
      "B protocol get_name method...id:456\n",
      "B protocol get_name method...id:456\n",
      "B Staff Name:Y-B\n",
      "B protocol get_telephone method...id:456\n",
      "B Staff Phone:99987654321\n"
     ]
    }
   ],
   "source": [
    "acpn_staff=ACpnStaff(\"123\")\n",
    "acpn_staff.setName(\"X-A\")\n",
    "acpn_staff.setPhone(\"10012345678\")\n",
    "print (\"A Staff Name:%s\"%acpn_staff.getName())\n",
    "print (\"A Staff Phone:%s\"%acpn_staff.getPhone())\n",
    "bcpn_staff=CpnStaffAdapter(\"456\")\n",
    "bcpn_staff.setName(\"Y-B\")\n",
    "bcpn_staff.setPhone(\"99987654321\")\n",
    "print (\"B Staff Name:%s\"%bcpn_staff.getName())\n",
    "print (\"B Staff Phone:%s\"%bcpn_staff.getPhone())"
   ]
  },
  {
   "cell_type": "markdown",
   "metadata": {},
   "source": [
    "# 2 Description\n",
    "适配器模式定义如下：将一个类的接口变换成客户端期待的另一种接口，从而使原本因接口不匹配而无法在一起工作的两个类能够在一起工作。适配器模式和装饰模式有一定的相似性，都起包装的作用，但二者本质上又是不同的，装饰模式的结果，是给一个对象增加了一些额外的职责，而适配器模式，则是将另一个对象进行了“伪装”。"
   ]
  },
  {
   "cell_type": "markdown",
   "metadata": {},
   "source": [
    "# 3 Advantages\n",
    "+ 适配器模式可以让两个接口不同，甚至关系不大的两个类一起运行\n",
    "+ 提高了类的复用度，经过“伪装”的类，可以充当新的角色；\n",
    "+ 适配器可以灵活“拆卸”\n",
    "\n",
    "# 4 Usages \n",
    "+ 不修改现有接口，同时也要使该接口适用或兼容新场景业务中，\n",
    "\n",
    "# 5 Disadvantages\n",
    "+ 适配器模式与原配接口相比，毕竟增加了一层调用关系，所以，在设计系统时，不要使用适配器模式。"
   ]
  }
 ],
 "metadata": {
  "kernelspec": {
   "display_name": "Python 3",
   "language": "python",
   "name": "python3"
  },
  "language_info": {
   "codemirror_mode": {
    "name": "ipython",
    "version": 3
   },
   "file_extension": ".py",
   "mimetype": "text/x-python",
   "name": "python",
   "nbconvert_exporter": "python",
   "pygments_lexer": "ipython3",
   "version": "3.6.0"
  }
 },
 "nbformat": 4,
 "nbformat_minor": 2
}
