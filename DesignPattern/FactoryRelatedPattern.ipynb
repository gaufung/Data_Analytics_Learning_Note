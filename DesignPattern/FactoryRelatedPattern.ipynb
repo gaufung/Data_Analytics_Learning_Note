{
 "cells": [
  {
   "cell_type": "markdown",
   "metadata": {},
   "source": [
    "工厂类相关设计模式(Factory Related Pattern)"
   ]
  },
  {
   "cell_type": "markdown",
   "metadata": {},
   "source": [
    "# 1 快餐点餐系统\n",
    "在一个大的触摸显示屏上，有三类可以选择的上餐品：汉堡等主餐、小食、饮料。当我们选择好自己需要的食物，支付完成后，订单就生成了。下面，我们用今天的主角--工厂模式--来生成这些食物的逻辑主体。"
   ]
  },
  {
   "cell_type": "code",
   "execution_count": 7,
   "metadata": {
    "collapsed": true
   },
   "outputs": [],
   "source": [
    "class Burger(object):\n",
    "    name=''\n",
    "    price=0.0\n",
    "    def getPrice(self):\n",
    "        return self.price\n",
    "    def setprice(self, price):\n",
    "        self.price=price\n",
    "    def getName(self):\n",
    "        return self.name\n",
    "class cheeseBurger(Burger):\n",
    "    def __init__(self):\n",
    "        self.name='cheese burger'\n",
    "        self.price=10.0\n",
    "class spicyChickenBurger(Burger):\n",
    "    def __init__(self):\n",
    "        self.name=\"spicy chicken burger\"\n",
    "        self.price=15.0"
   ]
  },
  {
   "cell_type": "code",
   "execution_count": 8,
   "metadata": {
    "collapsed": true
   },
   "outputs": [],
   "source": [
    "class Snack():\n",
    "    name = \"\"\n",
    "    price = 0.0\n",
    "    type = \"SNACK\"\n",
    "    def getPrice(self):\n",
    "        return self.price\n",
    "    def setPrice(self, price):\n",
    "        self.price = price\n",
    "    def getName(self):\n",
    "        return self.name\n",
    "\n",
    "\n",
    "class chips(Snack):\n",
    "    def __init__(self):\n",
    "        self.name = \"chips\"\n",
    "        self.price = 6.0\n",
    "\n",
    "\n",
    "class chickenWings(Snack):\n",
    "    def __init__(self):\n",
    "        self.name = \"chicken wings\"\n",
    "        self.price = 12.0"
   ]
  },
  {
   "cell_type": "code",
   "execution_count": 9,
   "metadata": {
    "collapsed": true
   },
   "outputs": [],
   "source": [
    "class Beverage():\n",
    "    name = \"\"\n",
    "    price = 0.0\n",
    "    type = \"BEVERAGE\"\n",
    "    def getPrice(self):\n",
    "        return self.price\n",
    "    def setPrice(self, price):\n",
    "        self.price = price\n",
    "    def getName(self):\n",
    "        return self.name\n",
    "\n",
    "\n",
    "class coke(Beverage):\n",
    "    def __init__(self):\n",
    "        self.name = \"coke\"\n",
    "        self.price = 4.0\n",
    "\n",
    "\n",
    "class milk(Beverage):\n",
    "    def __init__(self):\n",
    "        self.name = \"milk\"\n",
    "        self.price = 5.0"
   ]
  },
  {
   "cell_type": "code",
   "execution_count": 10,
   "metadata": {
    "collapsed": true
   },
   "outputs": [],
   "source": [
    "class foodFactory():\n",
    "    type=\"\"\n",
    "    def createFood(self,foodClass):\n",
    "        print (self.type,\" factory produce a instance.\")\n",
    "        foodIns=foodClass()\n",
    "        return foodIns\n",
    "class burgerFactory(foodFactory):\n",
    "    def __init__(self):\n",
    "        self.type=\"BURGER\"\n",
    "class snackFactory(foodFactory):\n",
    "    def __init__(self):\n",
    "        self.type=\"SNACK\"\n",
    "class beverageFactory(foodFactory):\n",
    "    def __init__(self):\n",
    "        self.type=\"BEVERAGE\""
   ]
  },
  {
   "cell_type": "markdown",
   "metadata": {},
   "source": [
    "foodFactory为抽象的工厂类，而burgerFactory，snackFactory和beverageFactory则为具体的工厂类"
   ]
  },
  {
   "cell_type": "code",
   "execution_count": 11,
   "metadata": {
    "collapsed": false
   },
   "outputs": [
    {
     "name": "stdout",
     "output_type": "stream",
     "text": [
      "BURGER  factory produce a instance.\n",
      "cheese burger 10.0\n",
      "SNACK  factory produce a instance.\n",
      "chicken wings 12.0\n",
      "BEVERAGE  factory produce a instance.\n",
      "coke 4.0\n"
     ]
    }
   ],
   "source": [
    "burger_factory=burgerFactory()\n",
    "snack_factorry=snackFactory()\n",
    "beverage_factory=beverageFactory()\n",
    "cheese_burger=burger_factory.createFood(cheeseBurger)\n",
    "print(cheese_burger.getName(),cheese_burger.getPrice())\n",
    "chicken_wings=snack_factorry.createFood(chickenWings)\n",
    "print(chicken_wings.getName(),chicken_wings.getPrice())\n",
    "coke_drink=beverage_factory.createFood(coke)\n",
    "print (coke_drink.getName(),coke_drink.getPrice())"
   ]
  },
  {
   "cell_type": "markdown",
   "metadata": {},
   "source": [
    "以上工厂在使用前必须实例化，如果为工厂添加类方法，那么就是简单工厂模式"
   ]
  },
  {
   "cell_type": "code",
   "execution_count": 16,
   "metadata": {
    "collapsed": false
   },
   "outputs": [],
   "source": [
    "class simpleFoodFactory():\n",
    "    @classmethod\n",
    "    def createFood(cls,foodClass):\n",
    "        foodIns = foodClass()\n",
    "        return foodIns"
   ]
  },
  {
   "cell_type": "code",
   "execution_count": 17,
   "metadata": {
    "collapsed": false
   },
   "outputs": [
    {
     "name": "stdout",
     "output_type": "stream",
     "text": [
      "15.0\n"
     ]
    }
   ],
   "source": [
    "spicy_chickend_burger=simpleFoodFactory.createFood(spicyChickenBurger)\n",
    "print(spicy_chickend_burger.getPrice())"
   ]
  },
  {
   "cell_type": "markdown",
   "metadata": {},
   "source": [
    "# 2 Advantage\n",
    "+ 封装性\n",
    "+ 屏蔽产品类\n",
    "+ 较高的扩展性"
   ]
  },
  {
   "cell_type": "markdown",
   "metadata": {},
   "source": [
    "# 3 Disadvantage\n",
    "+ 较为复杂\n",
    "+ 产品类扩展较为复杂"
   ]
  },
  {
   "cell_type": "code",
   "execution_count": null,
   "metadata": {
    "collapsed": true
   },
   "outputs": [],
   "source": []
  }
 ],
 "metadata": {
  "kernelspec": {
   "display_name": "Python 3",
   "language": "python",
   "name": "python3"
  },
  "language_info": {
   "codemirror_mode": {
    "name": "ipython",
    "version": 3
   },
   "file_extension": ".py",
   "mimetype": "text/x-python",
   "name": "python",
   "nbconvert_exporter": "python",
   "pygments_lexer": "ipython3",
   "version": "3.6.0"
  }
 },
 "nbformat": 4,
 "nbformat_minor": 2
}
