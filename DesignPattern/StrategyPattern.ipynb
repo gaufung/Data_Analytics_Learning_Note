{
 "cells": [
  {
   "cell_type": "markdown",
   "metadata": {},
   "source": [
    "策略模式(Strategy Pattern)  \n",
    "# 1 代码 \n",
    "假设某司维护着一些客户资料，需要在该司有新产品上市或者举行新活动时通知客户。现通知客户的方式有两种：短信通知、邮件通知。应如何设计该系统的客户通知部分？为解决该问题，我们先构造客户类，包括客户常用的联系方式和基本信息，同时也包括要发送的内容。"
   ]
  },
  {
   "cell_type": "code",
   "execution_count": 2,
   "metadata": {
    "collapsed": true
   },
   "outputs": [],
   "source": [
    "class customer:\n",
    "    def setPhone(self,phone):\n",
    "        self.phone=phone\n",
    "    def setEmail(self,mail):\n",
    "        self.email=mail\n",
    "    def getPhone(self):\n",
    "        return self.phone\n",
    "    def getEmail(self):\n",
    "        return self.email\n",
    "    def setInfo(self,info):\n",
    "        self.info=info\n",
    "    def setName(self,name):\n",
    "        self.customer_name=name\n",
    "    def setBrdWay(self,snd_way):\n",
    "        self.snd_way=snd_way\n",
    "    def sndMsg(self):\n",
    "        self.snd_way.send(self.info)"
   ]
  },
  {
   "cell_type": "markdown",
   "metadata": {},
   "source": [
    "snd_way向客户发送信息的方式，该方式置为可设，即可根据业务来进行策略的选择。\n",
    "发送方式构建如下："
   ]
  },
  {
   "cell_type": "code",
   "execution_count": 3,
   "metadata": {
    "collapsed": true
   },
   "outputs": [],
   "source": [
    "class msgSender:\n",
    "    def setCode(self,code):\n",
    "        self.dst_code=code\n",
    "    def send(self,info):\n",
    "        pass\n",
    "class emailSender(msgSender):\n",
    "    def send(self,info):\n",
    "        print (\"EMAIL_ADDRESS:%s EMAIL:%s\"%(self.dst_code,info))\n",
    "class textSender(msgSender):\n",
    "    def send(self,info):\n",
    "        print (\"TEXT_CODE:%s EMAIL:%s\"%(self.dst_code,info))"
   ]
  },
  {
   "cell_type": "markdown",
   "metadata": {},
   "source": [
    "在业务场景中将发送方式作为策略，根据需求进行发送。"
   ]
  },
  {
   "cell_type": "code",
   "execution_count": 4,
   "metadata": {
    "collapsed": false
   },
   "outputs": [
    {
     "name": "stdout",
     "output_type": "stream",
     "text": [
      "TEXT_CODE:10023456789 EMAIL:Welcome to our new party!\n",
      "EMAIL_ADDRESS:customer_x@xmail.com EMAIL:Welcome to our new party!\n"
     ]
    }
   ],
   "source": [
    "customer_x=customer()\n",
    "customer_x.setName(\"CUSTOMER_X\")\n",
    "customer_x.setPhone(\"10023456789\")\n",
    "customer_x.setEmail(\"customer_x@xmail.com\")\n",
    "customer_x.setInfo(\"Welcome to our new party!\")\n",
    "text_sender=textSender()\n",
    "text_sender.setCode(customer_x.getPhone())\n",
    "customer_x.setBrdWay(text_sender)\n",
    "customer_x.sndMsg()\n",
    "mail_sender=emailSender()\n",
    "mail_sender.setCode(customer_x.getEmail())\n",
    "customer_x.setBrdWay(mail_sender)\n",
    "customer_x.sndMsg()"
   ]
  },
  {
   "cell_type": "markdown",
   "metadata": {},
   "source": [
    "# 2 Discriptions\n",
    "策略模式定义如下：定义一组算法，将每个算法都封装起来，并使他们之间可互换。以上述例子为例，customer类扮演的角色（Context）直接依赖抽象策略的接口，在具体策略实现类中即可定义个性化的策略方式，且可以方便替换。  \n",
    "上一节中我们介绍了桥接模式，仔细比较一下桥接模式和策略模式，如果把策略模式的Context设计成抽象类和实现类的方式，那么策略模式和桥接模式就可以划等号了。从类图看上去，桥接模式比策略模式多了对一种角色（抽象角色）的抽象。二者结构的高度同构，也只能让我们从使用意图上去区分两种模式：桥接模式解决抽象角色和实现角色都可以扩展的问题；而策略模式解决算法切换和扩展的问题。"
   ]
  },
  {
   "cell_type": "markdown",
   "metadata": {},
   "source": [
    "# 3 Advantages \n",
    "+ 各个策略可以自由切换：这也是依赖抽象类设计接口的好处之一；\n",
    "+ 减少代码冗余；\n",
    "+ 扩展性优秀，移植方便，使用灵活。\n",
    "\n",
    "# 4 Usages \n",
    "+ 算法策略比较经常地需要被替换时，可以使用策略模式。如现在超市前台，会常遇到刷卡、某宝支付、某信支付等方式，就可以参考策略模式。\n",
    "\n",
    "# 5 Disadvantages \n",
    "+ 项目比较庞大时，策略可能比较多，不便于维护；\n",
    "+ 策略的使用方必须知道有哪些策略，才能决定使用哪一个策略，这与迪米特法则是相违背的。"
   ]
  }
 ],
 "metadata": {
  "kernelspec": {
   "display_name": "Python 3",
   "language": "python",
   "name": "python3"
  },
  "language_info": {
   "codemirror_mode": {
    "name": "ipython",
    "version": 3
   },
   "file_extension": ".py",
   "mimetype": "text/x-python",
   "name": "python",
   "nbconvert_exporter": "python",
   "pygments_lexer": "ipython3",
   "version": "3.6.0"
  }
 },
 "nbformat": 4,
 "nbformat_minor": 2
}
