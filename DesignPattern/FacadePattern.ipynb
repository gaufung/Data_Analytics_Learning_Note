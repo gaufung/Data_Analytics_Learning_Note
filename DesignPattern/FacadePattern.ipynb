{
 "cells": [
  {
   "cell_type": "markdown",
   "metadata": {},
   "source": [
    "门面模式(Facade Pattern)  \n",
    "# 1 代码  \n",
    "假设有一组火警报警系统，由三个子元件构成：一个警报器，一个喷水器，一个自动拨打电话的装置。其抽象如下："
   ]
  },
  {
   "cell_type": "code",
   "execution_count": 1,
   "metadata": {
    "collapsed": true
   },
   "outputs": [],
   "source": [
    "class AlarmSensor:\n",
    "    def run(self):\n",
    "        print (\"Alarm Ring...\")\n",
    "class WaterSprinker:\n",
    "    def run(self):\n",
    "        print (\"Spray Water...\")\n",
    "class EmergencyDialer:\n",
    "    def run(self):\n",
    "        print (\"Dial 119...\")"
   ]
  },
  {
   "cell_type": "markdown",
   "metadata": {},
   "source": [
    "在业务中如果需要将三个部件启动，例如，如果有一个烟雾传感器，检测到了烟雾。在业务环境中需要做如下操作："
   ]
  },
  {
   "cell_type": "code",
   "execution_count": 2,
   "metadata": {
    "collapsed": false
   },
   "outputs": [
    {
     "name": "stdout",
     "output_type": "stream",
     "text": [
      "Alarm Ring...\n",
      "Spray Water...\n",
      "Dial 119...\n"
     ]
    }
   ],
   "source": [
    "alarm_sensor = AlarmSensor()\n",
    "water_sprinker = WaterSprinker()\n",
    "emergency_dialer = EmergencyDialer()\n",
    "alarm_sensor.run()\n",
    "water_sprinker.run()\n",
    "emergency_dialer.run()"
   ]
  },
  {
   "cell_type": "markdown",
   "metadata": {},
   "source": [
    "但如果在多个业务场景中需要启动三个部件，怎么办？Ctrl+C加上Ctrl+V么？当然可以这样，但作为码农的基本修养之一，减少重复代码是应该会被很轻易想到的方法。这样，需要将其进行封装，在设计模式中，被封装成的新对象，叫做门面。门面构建如下"
   ]
  },
  {
   "cell_type": "code",
   "execution_count": 3,
   "metadata": {
    "collapsed": true
   },
   "outputs": [],
   "source": [
    "class EmergencyFacade(object):\n",
    "    def __init__(self):\n",
    "        self.alarm_sensor=AlarmSensor()\n",
    "        self.water_sprinker=WaterSprinker()\n",
    "        self.emergency_dialer=EmergencyDialer()\n",
    "    def runAll(self):\n",
    "        self.alarm_sensor.run()\n",
    "        self.water_sprinker.run()\n",
    "        self.emergency_dialer.run()"
   ]
  },
  {
   "cell_type": "code",
   "execution_count": 4,
   "metadata": {
    "collapsed": false
   },
   "outputs": [
    {
     "name": "stdout",
     "output_type": "stream",
     "text": [
      "Alarm Ring...\n",
      "Spray Water...\n",
      "Dial 119...\n"
     ]
    }
   ],
   "source": [
    "emergency_facade=EmergencyFacade()\n",
    "emergency_facade.runAll()"
   ]
  },
  {
   "cell_type": "markdown",
   "metadata": {},
   "source": [
    "# 2 Description\n",
    "门面模式也叫外观模式，定义如下：要求一个子系统的外部与其内部的通信必须通过一个统一的对象进行。门面模式提供一个高层次的接口，使得子系统更易于使用。门面模式注重“统一的对象”，也就是提供一个访问子系统的接口。门面模式与之前说过的模板模式有类似的地方，都是对一些需要重复方法的封装。\n",
    "\n",
    "# 3 Advantages\n",
    "+ 减少了系统之间的相互依赖，提高了系统的灵活\n",
    "+ 提高了整体系统的安全性\n",
    "\n",
    "# 4 Usages\n",
    "+ 为一个复杂的子系统提供一个外界访问的接口\n",
    "+ 需要简化操作界面时\n",
    "\n",
    "# 5 Disadvantages\n",
    "+ 不符合开闭原则，一旦系统成形后需要修改，几乎只能重写门面代码，"
   ]
  }
 ],
 "metadata": {
  "kernelspec": {
   "display_name": "Python 3",
   "language": "python",
   "name": "python3"
  },
  "language_info": {
   "codemirror_mode": {
    "name": "ipython",
    "version": 3
   },
   "file_extension": ".py",
   "mimetype": "text/x-python",
   "name": "python",
   "nbconvert_exporter": "python",
   "pygments_lexer": "ipython3",
   "version": "3.6.0"
  }
 },
 "nbformat": 4,
 "nbformat_minor": 2
}
