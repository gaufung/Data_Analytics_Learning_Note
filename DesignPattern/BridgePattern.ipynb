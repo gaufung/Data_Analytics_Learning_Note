{
 "cells": [
  {
   "cell_type": "markdown",
   "metadata": {},
   "source": [
    "桥梁模式(Bridge Pattern)  \n",
    "# 1 代码 \n",
    "在一个画图程序中，常会见到这样的情况：有一些预设的图形，如矩形、圆形等，还有一个对象-画笔，调节画笔的类型（如画笔还是画刷，还是毛笔效果等）并设定参数（如颜色、线宽等），选定图形，就可以在画布上画出想要的图形了。要实现以上需求，先从最抽象的元素开始设计，即形状和画笔（暂时忽略画布，同时忽略画笔参数，只考虑画笔类型）。"
   ]
  },
  {
   "cell_type": "code",
   "execution_count": 2,
   "metadata": {
    "collapsed": true
   },
   "outputs": [],
   "source": [
    "class Shape(object):\n",
    "    name=\"\"\n",
    "    param=\"\"\n",
    "    def __init__(self,*param):\n",
    "        pass\n",
    "    def getName(self):\n",
    "        return self.name\n",
    "    def getParam(self):\n",
    "        return self.name,self.param\n",
    "\n",
    "class Pen(object):\n",
    "    shape=\"\"\n",
    "    type=\"\"\n",
    "    def __init__(self,shape):\n",
    "        self.shape=shape\n",
    "    def draw(self):\n",
    "        pass"
   ]
  },
  {
   "cell_type": "markdown",
   "metadata": {},
   "source": [
    "形状对象和画笔对象是最为抽象的形式。接下来，构造多个形状，如矩形和圆形："
   ]
  },
  {
   "cell_type": "code",
   "execution_count": 3,
   "metadata": {
    "collapsed": true
   },
   "outputs": [],
   "source": [
    "class Rectangle(Shape):\n",
    "    def __init__(self,long,width):\n",
    "        self.name=\"Rectangle\"\n",
    "        self.param=\"Long:%s Width:%s\"%(long,width)\n",
    "        print (\"Create a rectangle:%s\"%self.param)\n",
    "class Circle(Shape):\n",
    "    def __init__(self,radius):\n",
    "        self.name=\"Circle\"\n",
    "        self.param=\"Radius:%s\"%radius\n",
    "        print (\"Create a circle:%s\"%self.param)"
   ]
  },
  {
   "cell_type": "markdown",
   "metadata": {},
   "source": [
    "紧接着是构造多种画笔，如普通画笔和画刷："
   ]
  },
  {
   "cell_type": "code",
   "execution_count": 5,
   "metadata": {
    "collapsed": false
   },
   "outputs": [],
   "source": [
    "class NormalPen(Pen):\n",
    "    def __init__(self,shape):\n",
    "        Pen.__init__(self,shape)\n",
    "        self.type=\"Normal Line\"\n",
    "    def draw(self):\n",
    "        print (\"DRAWING %s:%s----PARAMS:%s\"%(self.type,self.shape.getName(),self.shape.getParam()))\n",
    "class BrushPen(Pen):\n",
    "    def __init__(self,shape):\n",
    "        Pen.__init__(self,shape)\n",
    "        self.type=\"Brush Line\"\n",
    "    def draw(self):\n",
    "        print (\"DRAWING %s:%s----PARAMS:%s\" % (self.type,self.shape.getName(), self.shape.getParam()))"
   ]
  },
  {
   "cell_type": "code",
   "execution_count": 6,
   "metadata": {
    "collapsed": false
   },
   "outputs": [
    {
     "name": "stdout",
     "output_type": "stream",
     "text": [
      "Create a rectangle:Long:20cm Width:10cm\n",
      "Create a circle:Radius:15cm\n",
      "DRAWING Normal Line:Rectangle----PARAMS:('Rectangle', 'Long:20cm Width:10cm')\n",
      "DRAWING Brush Line:Circle----PARAMS:('Circle', 'Radius:15cm')\n"
     ]
    }
   ],
   "source": [
    "normal_pen = NormalPen(Rectangle('20cm','10cm'))\n",
    "brush_pen = BrushPen(Circle('15cm'))\n",
    "normal_pen.draw()\n",
    "brush_pen.draw()"
   ]
  },
  {
   "cell_type": "markdown",
   "metadata": {},
   "source": [
    "# 2 Discriptions \n",
    "桥梁模式又叫桥接模式，定义如下：将抽象与实现解耦（注意此处的抽象和实现，并非抽象类和实现类的那种关系，而是一种角色的关系，这里需要好好区分一下），可以使其独立变化。在形如上例中，Pen只负责画，但没有形状，它终究是不知道要画什么的，所以我们把它叫做抽象化角色；而Shape是具体的形状，我们把它叫做实现化角色。抽象化角色和实现化角色是解耦的，这也就意味着，所谓的桥，就是抽象化角色的抽象类和实现化角色的抽象类之间的引用关系。\n",
    "\n",
    "# 3 Advantages \n",
    "+ 抽象角色与实现角色相分离，二者可以独立设计，不受约束；\n",
    "+ 扩展性强：抽象角色和实现角色可以非常灵活地扩展。"
   ]
  },
  {
   "cell_type": "markdown",
   "metadata": {},
   "source": [
    "# 4 Usages\n",
    "+ 不适用继承或者原继承关系中抽象类可能频繁变动的情况，可以将原类进行拆分，拆成实现化角色和抽象化角色。\n",
    "+ 重用性比较大的场景。比如开关控制逻辑的程序，开关就是抽象化角色，开关的形式有很多种，\n",
    "\n",
    "# 5 Disadvantages \n",
    "+ 增加对系统理解的难度"
   ]
  }
 ],
 "metadata": {
  "kernelspec": {
   "display_name": "Python 3",
   "language": "python",
   "name": "python3"
  },
  "language_info": {
   "codemirror_mode": {
    "name": "ipython",
    "version": 3
   },
   "file_extension": ".py",
   "mimetype": "text/x-python",
   "name": "python",
   "nbconvert_exporter": "python",
   "pygments_lexer": "ipython3",
   "version": "3.6.0"
  }
 },
 "nbformat": 4,
 "nbformat_minor": 2
}
