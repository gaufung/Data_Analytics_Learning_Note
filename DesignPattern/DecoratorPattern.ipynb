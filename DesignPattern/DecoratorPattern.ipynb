{
 "cells": [
  {
   "cell_type": "markdown",
   "metadata": {},
   "source": [
    "装饰器模式(Decorator Pattern)\n",
    "# 1 点餐系统"
   ]
  },
  {
   "cell_type": "code",
   "execution_count": 1,
   "metadata": {
    "collapsed": true
   },
   "outputs": [],
   "source": [
    "class Beverage(object):\n",
    "    name = \"\"\n",
    "    price = 0.0\n",
    "    type = \"BEVERAGE\"\n",
    "    def getPrice(self):\n",
    "        return self.price\n",
    "    def setPrice(self, price):\n",
    "        self.price = price\n",
    "    def getName(self):\n",
    "        return self.name\n",
    "\n",
    "\n",
    "class coke(Beverage):\n",
    "    def __init__(self):\n",
    "        self.name = \"coke\"\n",
    "        self.price = 4.0\n",
    "\n",
    "\n",
    "class milk(Beverage):\n",
    "    def __init__(self):\n",
    "        self.name = \"milk\"\n",
    "        self.price = 5.0"
   ]
  },
  {
   "cell_type": "markdown",
   "metadata": {},
   "source": [
    "除了基本配置，快餐店卖可乐时，可以选择加冰，如果加冰的话，要在原价上加0.3元；卖牛奶时，可以选择加糖，如果加糖的话，要原价上加0.5元。怎么解决这样的问题？可以选择装饰器模式来解决这一类的问题。首先，定义装饰器类："
   ]
  },
  {
   "cell_type": "code",
   "execution_count": 5,
   "metadata": {
    "collapsed": true
   },
   "outputs": [],
   "source": [
    "class drinkDecorator(object):\n",
    "    def getName(self):\n",
    "        pass\n",
    "    def getPrice(self):\n",
    "        pass\n",
    "\n",
    "class iceDecorator(drinkDecorator):\n",
    "    def __init__(self,beverage):\n",
    "        self.beverage=beverage\n",
    "    def getName(self):\n",
    "        return self.beverage.getName()+\"+ice\"\n",
    "    def getPrice(self):\n",
    "        return self.beverage.getPrice()+0.3\n",
    "\n",
    "class sugarDecorator(drinkDecorator):\n",
    "    def __init__(self,beverage):\n",
    "        self.beverage=beverage\n",
    "    def getName(self):\n",
    "        return self.beverage.getName()+\"+sugar\"\n",
    "    def getPrice(self):\n",
    "        return self.beverage.getPrice()+0.5"
   ]
  },
  {
   "cell_type": "markdown",
   "metadata": {},
   "source": [
    "构建好装饰器后，在具体的业务场景中，就可以与饮料类进行关联。以可乐+冰为例，示例业务场景如下："
   ]
  },
  {
   "cell_type": "code",
   "execution_count": 6,
   "metadata": {
    "collapsed": false
   },
   "outputs": [
    {
     "name": "stdout",
     "output_type": "stream",
     "text": [
      "Name: coke  Price: 4.0\n",
      "Name: coke+ice  Price: 4.3\n"
     ]
    }
   ],
   "source": [
    "coke_cola = coke()\n",
    "print('Name:', coke_cola.getName(),' Price:',coke_cola.getPrice())\n",
    "ice_coke=iceDecorator(coke_cola)\n",
    "print('Name:', ice_coke.getName(), ' Price:',ice_coke.getPrice())"
   ]
  },
  {
   "cell_type": "markdown",
   "metadata": {},
   "source": [
    "装饰器模式和上一节说到的代理模式非常相似，可以认为，装饰器模式就是代理模式的一个特殊应用，两者的共同点是都具有相同的接口，不同点是侧重对主题类的过程的控制，而装饰模式则侧重对类功能的加强或减弱。"
   ]
  },
  {
   "cell_type": "markdown",
   "metadata": {},
   "source": [
    "# 2 Python语法装饰器"
   ]
  },
  {
   "cell_type": "code",
   "execution_count": 8,
   "metadata": {
    "collapsed": false
   },
   "outputs": [
    {
     "name": "stdout",
     "output_type": "stream",
     "text": [
      "call now():\n",
      "2016-12-04\n"
     ]
    }
   ],
   "source": [
    "def log(func):\n",
    "    def wrapper(*args, **kw):\n",
    "        print ('call %s():' % func.__name__)\n",
    "        return func(*args, **kw)\n",
    "    return wrapper\n",
    "\n",
    "@log\n",
    "def now():\n",
    "    print('2016-12-04')\n",
    "now()"
   ]
  },
  {
   "cell_type": "markdown",
   "metadata": {},
   "source": [
    "# 3 advantages\n",
    "+ 装饰器模式是继承方式的一个替代方案，可以轻量级的扩展被装饰对象的功能；\n",
    "+ Python的装饰器模式是实现AOP的一种方式，便于相同操作位于不同调用位置的统一管理。"
   ]
  },
  {
   "cell_type": "markdown",
   "metadata": {},
   "source": [
    "# 4 Usages\n",
    "+ 需要扩展、增强或者减弱一个类的功能，如本例。\n",
    "\n",
    "# 5 Disadvantages\n",
    "+ 多层装饰器的调试和维护有比较大的困难。"
   ]
  }
 ],
 "metadata": {
  "kernelspec": {
   "display_name": "Python 3",
   "language": "python",
   "name": "python3"
  },
  "language_info": {
   "codemirror_mode": {
    "name": "ipython",
    "version": 3
   },
   "file_extension": ".py",
   "mimetype": "text/x-python",
   "name": "python",
   "nbconvert_exporter": "python",
   "pygments_lexer": "ipython3",
   "version": "3.6.0"
  }
 },
 "nbformat": 4,
 "nbformat_minor": 2
}
