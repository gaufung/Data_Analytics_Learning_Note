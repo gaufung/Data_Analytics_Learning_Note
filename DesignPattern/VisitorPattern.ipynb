{
 "cells": [
  {
   "cell_type": "markdown",
   "metadata": {},
   "source": [
    "访问者模式(Visitor Pattern)\n",
    "# 1 代码\n",
    "假设一个药房，有一些大夫，一个药品划价员和一个药房管理员，它们通过一个药房管理系统组织工作流程。大夫开出药方后，药品划价员确定药品是否正常，价格是否正确；通过后药房管理员进行开药处理。该系统可以如何实现？最简单的想法，是分别用一个一个if…else…把划价员处理流程和药房管理流程实现，这样做的问题在于，扩展性不强，而且单一性不强，一旦有新药的加入或者划价流程、开药流程有些变动，会牵扯比较多的改动。今天介绍一种解决这类问题的模式：访问者模式。\n",
    "首先，构造药品类和工作人员类："
   ]
  },
  {
   "cell_type": "code",
   "execution_count": 1,
   "metadata": {
    "collapsed": true
   },
   "outputs": [],
   "source": [
    "class Medicine:\n",
    "    name=\"\"\n",
    "    price=0.0\n",
    "    def __init__(self,name,price):\n",
    "        self.name=name\n",
    "        self.price=price\n",
    "    def getName(self):\n",
    "        return self.name\n",
    "    def setName(self,name):\n",
    "        self.name=name\n",
    "    def getPrice(self):\n",
    "        return self.price\n",
    "    def setPrice(self,price):\n",
    "        self.price=price\n",
    "    def accept(self,visitor):\n",
    "        pass\n",
    "class Antibiotic(Medicine):\n",
    "    def accept(self,visitor):\n",
    "        visitor.visit(self)\n",
    "class Coldrex(Medicine):\n",
    "    def accept(self,visitor):\n",
    "        visitor.visit(self)"
   ]
  },
  {
   "cell_type": "markdown",
   "metadata": {},
   "source": [
    "药品类中有两个子类，抗生素和感冒药；"
   ]
  },
  {
   "cell_type": "code",
   "execution_count": 2,
   "metadata": {
    "collapsed": true
   },
   "outputs": [],
   "source": [
    "class Visitor:\n",
    "    name=\"\"\n",
    "    def setName(self,name):\n",
    "        self.name=name\n",
    "    def visit(self,medicine):\n",
    "        pass\n",
    "class Charger(Visitor):\n",
    "    def visit(self,medicine):\n",
    "        print (\"CHARGE: %s lists the Medicine %s. Price:%s \" % (self.name,medicine.getName(),medicine.getPrice()))\n",
    "class Pharmacy(Visitor):\n",
    "    def visit(self,medicine):\n",
    "        print (\"PHARMACY:%s offers the Medicine %s. Price:%s\" % (self.name,medicine.getName(),medicine.getPrice()))"
   ]
  },
  {
   "cell_type": "markdown",
   "metadata": {},
   "source": [
    "工作人员分为划价员和药房管理员。\n",
    "在药品类中，有一个accept方法，其参数是个visitor；而工作人员就是从Visitor类中继承而来的，也就是说，他们就是Visitor，都包含一个visit方法，其参数又恰是medicine。药品作为处理元素，依次允许（Accept）Visitor对其进行操作，这就好比是一条流水线上的一个个工人，对产品进行一次次的加工。整个业务流程还差一步，即药方类的构建（流水线大机器）。"
   ]
  },
  {
   "cell_type": "code",
   "execution_count": 3,
   "metadata": {
    "collapsed": true
   },
   "outputs": [],
   "source": [
    "class ObjectStructure:\n",
    "    pass\n",
    "class Prescription(ObjectStructure):\n",
    "    medicines=[]\n",
    "    def addMedicine(self,medicine):\n",
    "        self.medicines.append(medicine)\n",
    "    def rmvMedicine(self,medicine):\n",
    "        self.medicines.append(medicine)\n",
    "    def visit(self,visitor):\n",
    "        for medc in self.medicines:\n",
    "            medc.accept(visitor)"
   ]
  },
  {
   "cell_type": "code",
   "execution_count": 4,
   "metadata": {
    "collapsed": false
   },
   "outputs": [
    {
     "name": "stdout",
     "output_type": "stream",
     "text": [
      "CHARGE: Doctor Strange lists the Medicine Yinqiao Pill. Price:2.0 \n",
      "CHARGE: Doctor Strange lists the Medicine Penicillin. Price:3.0 \n",
      "PHARMACY:Doctor Wei offers the Medicine Yinqiao Pill. Price:2.0\n",
      "PHARMACY:Doctor Wei offers the Medicine Penicillin. Price:3.0\n"
     ]
    }
   ],
   "source": [
    "yinqiao_pill=Coldrex(\"Yinqiao Pill\",2.0)\n",
    "penicillin=Antibiotic(\"Penicillin\",3.0)\n",
    "doctor_prsrp=Prescription()\n",
    "doctor_prsrp.addMedicine(yinqiao_pill)\n",
    "doctor_prsrp.addMedicine(penicillin)\n",
    "charger=Charger()\n",
    "charger.setName(\"Doctor Strange\")\n",
    "pharmacy=Pharmacy()\n",
    "pharmacy.setName(\"Doctor Wei\")\n",
    "doctor_prsrp.visit(charger)\n",
    "doctor_prsrp.visit(pharmacy)"
   ]
  },
  {
   "cell_type": "markdown",
   "metadata": {},
   "source": [
    "# 2 Discriptions\n",
    "访问者模式的定义如下：封装一些作用于某种数据结构中的各元素的操作，它可以在不改变数据结构的前提下定义于作用于这些元素的新操作。\n",
    "\n",
    "# 3 Advantages \n",
    "+ 将不同的职责非常明确地分离开来，符合单一职责原则；\n",
    "+ 职责的分开也直接导致扩展非常优良，灵活性非常高，加减元素和访问者都非常容易。\n",
    "\n",
    "# 4 Occasions\n",
    "+ 要遍历不同的对象，根据对象进行不同的操作的场景；或者一个对象被多个不同对象顺次处理的情况，可以考虑使用访问者模式。除本例外，报表生成器也可以使用访问者模式实现，报表的数据源由多个不同的对象提供，每个对象都是Visitor，报表这个Element顺次Accept各访问者完善并生成对象。\n",
    "\n",
    "# 5 Disadvantages \n",
    "+ 访问者得知了元素细节，与最小隔离原则相悖；\n",
    "+ 元素变更依旧可能引起Visitor的修改。"
   ]
  }
 ],
 "metadata": {
  "kernelspec": {
   "display_name": "Python 3",
   "language": "python",
   "name": "python3"
  },
  "language_info": {
   "codemirror_mode": {
    "name": "ipython",
    "version": 3
   },
   "file_extension": ".py",
   "mimetype": "text/x-python",
   "name": "python",
   "nbconvert_exporter": "python",
   "pygments_lexer": "ipython3",
   "version": "3.6.0"
  }
 },
 "nbformat": 4,
 "nbformat_minor": 2
}
