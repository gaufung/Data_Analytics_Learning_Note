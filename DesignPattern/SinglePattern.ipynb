{
 "cells": [
  {
   "cell_type": "markdown",
   "metadata": {},
   "source": [
    "单例模式(Single Pattern)  \n",
    "Ensure a class has only one instancem, and provides a global point to access to it."
   ]
  },
  {
   "cell_type": "code",
   "execution_count": 8,
   "metadata": {
    "collapsed": true
   },
   "outputs": [],
   "source": [
    "import threading\n",
    "import time\n",
    "class Singleton(object):\n",
    "    def __new__(cls,*args,**kw):\n",
    "        if not hasattr(cls,'_instance'):\n",
    "            orig=super(Singleton,cls)\n",
    "            cls._instance=orig.__new__(cls,*args,**kw)\n",
    "        return cls._instance"
   ]
  },
  {
   "cell_type": "code",
   "execution_count": 6,
   "metadata": {
    "collapsed": false
   },
   "outputs": [
    {
     "name": "stdout",
     "output_type": "stream",
     "text": [
      "Entity 0 begin to run...\n",
      "4533282352\n",
      "Entity 1 begin to run...\n",
      "4533282800\n",
      "Entity 2 begin to run...\n",
      "4533282632\n",
      "Sending single data... Entity_0\n",
      "Sending single data... Entity_1\n",
      "Sending single data... Entity_2\n"
     ]
    }
   ],
   "source": [
    "class Bus(Singleton):\n",
    "    lock=threading.RLock()\n",
    "    def sendData(self,data):\n",
    "        self.lock.acquire()\n",
    "        time.sleep(3)\n",
    "        print('Sending single data...',data)\n",
    "        self.lock.release()\n",
    "\n",
    "class VisitEntity(threading.Thread):\n",
    "    my_bus=''\n",
    "    name=''\n",
    "    def getName(self):\n",
    "        return name\n",
    "    def setName(self,name):\n",
    "        self.name=name\n",
    "    def run(self):\n",
    "        self.my_bus=Bus()\n",
    "        self.my_bus.sendData(self.name)\n",
    "for i in range(3):\n",
    "    print('Entity %d begin to run...'%i)\n",
    "    my_entity=VisitEntity()\n",
    "    my_entity.setName('Entity_'+str(i))\n",
    "    my_entity.start()"
   ]
  },
  {
   "cell_type": "markdown",
   "metadata": {},
   "source": [
    "# advantage"
   ]
  },
  {
   "cell_type": "markdown",
   "metadata": {},
   "source": [
    "+ Because of only one instance in global environment, it can save memory.\n",
    "+ Because of the only one access point, it can be used to concurrent.\n",
    "+ The only one Instace can store in memory, avoiding creating instance."
   ]
  },
  {
   "cell_type": "markdown",
   "metadata": {},
   "source": [
    "# Disadvantage"
   ]
  },
  {
   "cell_type": "markdown",
   "metadata": {},
   "source": [
    "+ Difficulty for expansion\n",
    "+ revolt the Single Responsibilyt Principle\n",
    "+ Unfriendly unit test"
   ]
  },
  {
   "cell_type": "code",
   "execution_count": null,
   "metadata": {
    "collapsed": true
   },
   "outputs": [],
   "source": []
  }
 ],
 "metadata": {
  "kernelspec": {
   "display_name": "Python 3",
   "language": "python",
   "name": "python3"
  },
  "language_info": {
   "codemirror_mode": {
    "name": "ipython",
    "version": 3
   },
   "file_extension": ".py",
   "mimetype": "text/x-python",
   "name": "python",
   "nbconvert_exporter": "python",
   "pygments_lexer": "ipython3",
   "version": "3.6.0"
  }
 },
 "nbformat": 4,
 "nbformat_minor": 2
}
