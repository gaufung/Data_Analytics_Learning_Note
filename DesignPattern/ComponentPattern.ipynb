{
 "cells": [
  {
   "cell_type": "markdown",
   "metadata": {},
   "source": [
    "组合模式(Component Pattern)   \n",
    "# 1 代码 \n",
    "每一个公司都有自己的组织结构，越是大型的企业，其组织结构就会越复杂。大多数情况下，公司喜欢用“树形”结构来组织复杂的公司人事关系和公司间的结构关系。一般情况下，根结点代表公司的最高行政权利单位，分支节点表示一个个部门，而叶子结点则会用来代表每一个员工。每一个结点的子树，表示该结点代表的部门所管理的单位。假设一个具有HR部门，财务部门和研发部门，同时在全国有分支公司的总公司，其公司结构，可以表示成如下逻辑："
   ]
  },
  {
   "cell_type": "code",
   "execution_count": 1,
   "metadata": {
    "collapsed": true
   },
   "outputs": [],
   "source": [
    "class Company:\n",
    "    name = ''\n",
    "    def __init__(self, name):\n",
    "        self.name = name\n",
    "    def add(self, company):\n",
    "        pass\n",
    "    def remove(self, company):\n",
    "        pass\n",
    "    def display(self, depth):\n",
    "        pass\n",
    "    def listDuty(self):\n",
    "        pass\n",
    "\n",
    "class ConcreteCompany(Company):\n",
    "    childrenCompany = None\n",
    "    def __init__(self, name):\n",
    "        Company.__init__(self,name)\n",
    "        self.childrenCompany = []\n",
    "    def add(self, company):\n",
    "        self.childrenCompany.append(company)\n",
    "    def remove(self, company):\n",
    "        self.childrenCompany.remove(company)\n",
    "    def display(self, depth):\n",
    "        print('-'*depth + self.name)\n",
    "        for component in self.childrenCompany:\n",
    "            component.display(depth+1)\n",
    "    def listDuty(self):\n",
    "        for component in self.childrenCompany:\n",
    "            component.listDuty()"
   ]
  },
  {
   "cell_type": "code",
   "execution_count": 2,
   "metadata": {
    "collapsed": true
   },
   "outputs": [],
   "source": [
    "class HRDepartment(Company):\n",
    "    def __init__(self, name):\n",
    "         Company.__init__(self,name)\n",
    "    def display(self, depth):\n",
    "        print ('-'*depth + self.name)\n",
    "    def listDuty(self): #履行职责\n",
    "        print ('%s\\t Enrolling & Transfering management.' % self.name)\n",
    "class FinanceDepartment(Company):\n",
    "    def __init__(self, name):\n",
    "        Company.__init__(self,name)\n",
    "    def display(self, depth):\n",
    "        print (\"-\" * depth + self.name)\n",
    "    def listDuty(self): #履行职责\n",
    "        print ('%s\\tFinance Management.'%self.name)\n",
    "\n",
    "class RdDepartment(Company):\n",
    "    def __init__(self,name):\n",
    "        Company.__init__(self,name)\n",
    "    def display(self, depth):\n",
    "        print (\"-\"*depth+self.name)\n",
    "    def listDuty(self):\n",
    "        print (\"%s\\tResearch & Development.\"% self.name)"
   ]
  },
  {
   "cell_type": "markdown",
   "metadata": {},
   "source": [
    "在该例中，公司结构抽象仅考虑公司（ConcreteCompany）和部门（Department），公司有子公司的可能性，公司也有自己的部门，部门是最终的叶子结点。\n",
    "假设总公司下设东边的分公司一个，东边的分公司下设东北公司和东南公司，显示公司层级，并罗列这些的公司中各部门的职责，可以构建如下业务场景："
   ]
  },
  {
   "cell_type": "code",
   "execution_count": 3,
   "metadata": {
    "collapsed": false
   },
   "outputs": [
    {
     "name": "stdout",
     "output_type": "stream",
     "text": [
      "-HeadQuarter\n",
      "--HQ HR\n",
      "--HQ Finance\n",
      "--HQ R&D\n",
      "--East Branch\n",
      "---East.Br HR\n",
      "---East.Br Finance\n",
      "---East.Br R&D\n",
      "---Northast Branch\n",
      "----Northeast.Br HR\n",
      "----Northeast.Br Finance\n",
      "----Northeast.Br R&D\n",
      "---Southeast Branch\n",
      "----Southeast.Br HR\n",
      "----Southeast.Br Finance\n",
      "----Southeast.Br R&D\n",
      "HQ HR\t Enrolling & Transfering management.\n",
      "HQ Finance\tFinance Management.\n",
      "HQ R&D\tResearch & Development.\n",
      "East.Br HR\t Enrolling & Transfering management.\n",
      "East.Br Finance\tFinance Management.\n",
      "East.Br R&D\tResearch & Development.\n",
      "Northeast.Br HR\t Enrolling & Transfering management.\n",
      "Northeast.Br Finance\tFinance Management.\n",
      "Northeast.Br R&D\tResearch & Development.\n",
      "Southeast.Br HR\t Enrolling & Transfering management.\n",
      "Southeast.Br Finance\tFinance Management.\n",
      "Southeast.Br R&D\tResearch & Development.\n"
     ]
    }
   ],
   "source": [
    "root = ConcreteCompany('HeadQuarter')\n",
    "root.add(HRDepartment('HQ HR'))\n",
    "root.add(FinanceDepartment('HQ Finance'))\n",
    "root.add(RdDepartment(\"HQ R&D\"))\n",
    "\n",
    "comp = ConcreteCompany('East Branch')\n",
    "comp.add(HRDepartment('East.Br HR'))\n",
    "comp.add(FinanceDepartment('East.Br Finance'))\n",
    "comp.add(RdDepartment(\"East.Br R&D\"))\n",
    "root.add(comp)\n",
    "\n",
    "comp1 = ConcreteCompany('Northast Branch')\n",
    "comp1.add(HRDepartment('Northeast.Br HR'))\n",
    "comp1.add(FinanceDepartment('Northeast.Br Finance'))\n",
    "comp1.add(RdDepartment(\"Northeast.Br R&D\"))\n",
    "comp.add(comp1)\n",
    "\n",
    "comp2 = ConcreteCompany('Southeast Branch')\n",
    "comp2.add(HRDepartment('Southeast.Br HR'))\n",
    "comp2.add(FinanceDepartment('Southeast.Br Finance'))\n",
    "comp2.add(RdDepartment(\"Southeast.Br R&D\"))\n",
    "comp.add(comp2)\n",
    "\n",
    "root.display(1)\n",
    "\n",
    "root.listDuty()"
   ]
  },
  {
   "cell_type": "markdown",
   "metadata": {},
   "source": [
    "# 2 Discription\n",
    "组合模式也叫作部分-整体模式，其定义如下：将对象组合成树形结构以表示“部分”和“整体”的层次结构，使得用户对单个对象和组合对象的使用具有一致性。"
   ]
  },
  {
   "cell_type": "markdown",
   "metadata": {},
   "source": [
    "# 3 Advantages \n",
    "\n",
    "+ 节点增加和减少是非常自由和方便的，这也是树形结构的一大特点；\n",
    "+ 所有节点，不管是分支节点还是叶子结点，不管是调用一个结点，还是调用一个结点群，都是非常方便的。\n",
    "\n",
    "# 4 Usages\n",
    "+ 维护部分与整体的逻辑关系，或者动态调用整体或部分的功能接口 \n",
    "\n",
    "# 5 Disadvantages \n",
    "+ 由于叶子结点和分支结点直接使用了实现类，而不方便使用抽象类，这大大限制了接口的影响范围；若结点接口发生变更，对系统造成的风险会比较大"
   ]
  }
 ],
 "metadata": {
  "kernelspec": {
   "display_name": "Python 3",
   "language": "python",
   "name": "python3"
  },
  "language_info": {
   "codemirror_mode": {
    "name": "ipython",
    "version": 3
   },
   "file_extension": ".py",
   "mimetype": "text/x-python",
   "name": "python",
   "nbconvert_exporter": "python",
   "pygments_lexer": "ipython3",
   "version": "3.6.0"
  }
 },
 "nbformat": 4,
 "nbformat_minor": 2
}
