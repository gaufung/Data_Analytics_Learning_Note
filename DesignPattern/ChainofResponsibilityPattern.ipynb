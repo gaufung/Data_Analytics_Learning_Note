{
 "cells": [
  {
   "cell_type": "markdown",
   "metadata": {},
   "source": [
    "责任链模式(Chain of Responsibility Pattern)  \n",
    "# 1 代码  \n",
    "假设有这么一个请假系统：员工若想要请3天以内（包括3天的假），只需要直属经理批准就可以了；如果想请3-7天，不仅需要直属经理批准，部门经理需要最终批准；如果请假大于7天，不光要前两个经理批准，也需要总经理最终批准。类似的系统相信大家都遇到过，那么该如何实现呢？首先想到的当然是if…else…，但一旦遇到需求变动，其臃肿的代码和复杂的耦合缺点都显现出来。简单分析下需求，“假条”在三个经理间是单向传递关系，像一条链条一样，因而，我们可以用一条“链”把他们进行有序连接。"
   ]
  },
  {
   "cell_type": "code",
   "execution_count": 2,
   "metadata": {
    "collapsed": false
   },
   "outputs": [],
   "source": [
    "class manager():\n",
    "    def __init__(self, name):\n",
    "        self.name = name\n",
    "    def setSuccessor(self, successor):\n",
    "        self.successor = successor\n",
    "    def handleRequest(self, request):\n",
    "        pass\n",
    "class lineManager(manager):\n",
    "    def handleRequest(self, request):\n",
    "        if request.requestType == 'DaysOff' and request.number <= 3:\n",
    "            print ('%s:%s Num:%d Accepted OVER' % (self.name, request.requestContent, request.number))\n",
    "        else:\n",
    "            print ('%s:%s Num:%d Accepted CONTINUE' % (self.name, request.requestContent, request.number))\n",
    "            if self.successor != None:\n",
    "                self.successor.handleRequest(request)\n",
    "class departmentManager(manager):\n",
    "    def handleRequest(self, request):\n",
    "        if request.requestType == 'DaysOff' and request.number <= 7:\n",
    "            print ('%s:%s Num:%d Accepted OVER' % (self.name, request.requestContent, request.number))\n",
    "        else:\n",
    "            print ('%s:%s Num:%d Accepted CONTINUE' % (self.name, request.requestContent, request.number))\n",
    "            if self.successor != None:\n",
    "                self.successor.handleRequest(request)\n",
    "class generalManager(manager):\n",
    "    def handleRequest(self, request):\n",
    "        if request.requestType == 'DaysOff':\n",
    "            print ('%s:%s Num:%d Accepted OVER' % (self.name, request.requestContent, request.number))\n",
    "class request():\n",
    "    requestType = ''\n",
    "    requestContent = ''\n",
    "    number = 0\n"
   ]
  },
  {
   "cell_type": "markdown",
   "metadata": {},
   "source": [
    "request类封装了假期请求。在具体的经理类中，可以通过setSuccessor接口来构建“责任链”，并在handleRequest接口中实现逻辑。场景类中实现如下："
   ]
  },
  {
   "cell_type": "code",
   "execution_count": 3,
   "metadata": {
    "collapsed": false
   },
   "outputs": [
    {
     "name": "stdout",
     "output_type": "stream",
     "text": [
      "LINE MANAGER:Ask 1 day off Num:1 Accepted OVER\n",
      "LINE MANAGER:Ask 5 days off Num:5 Accepted CONTINUE\n",
      "DEPARTMENT MANAGER:Ask 5 days off Num:5 Accepted OVER\n",
      "LINE MANAGER:Ask 10 days off Num:10 Accepted CONTINUE\n",
      "DEPARTMENT MANAGER:Ask 10 days off Num:10 Accepted CONTINUE\n",
      "GENERAL MANAGER:Ask 10 days off Num:10 Accepted OVER\n"
     ]
    }
   ],
   "source": [
    "line_manager = lineManager('LINE MANAGER')\n",
    "department_manager = departmentManager('DEPARTMENT MANAGER')\n",
    "general_manager = generalManager('GENERAL MANAGER')\n",
    "\n",
    "line_manager.setSuccessor(department_manager)\n",
    "department_manager.setSuccessor(general_manager)\n",
    "\n",
    "req = request()\n",
    "req.requestType = 'DaysOff'\n",
    "req.requestContent = 'Ask 1 day off'\n",
    "req.number = 1\n",
    "line_manager.handleRequest(req)\n",
    "\n",
    "req.requestType = 'DaysOff'\n",
    "req.requestContent = 'Ask 5 days off'\n",
    "req.number = 5\n",
    "line_manager.handleRequest(req)\n",
    "\n",
    "req.requestType = 'DaysOff'\n",
    "req.requestContent = 'Ask 10 days off'\n",
    "req.number = 10\n",
    "line_manager.handleRequest(req)"
   ]
  },
  {
   "cell_type": "markdown",
   "metadata": {},
   "source": [
    "# 2 Discriptions\n",
    "责任链模式的定义如下：使多个对象都有机会处理请求，从而避免了请求的发送者和接收者之间的耦合关系。将这些对象连成一条链，并沿着这条链传递该请求，直到有对象处理它为止。\n",
    "\n",
    "# 3 Advantages \n",
    "+ 将请求者与处理者分离，请求者并不知道请求是被哪个处理者所处理，易于扩展。\n",
    "\n",
    "# 4 Usages \n",
    "+ 若一个请求可能由一个对请求有链式优先级的处理群所处理时，可以考虑责任链模式。\n",
    "\n",
    "# 5 Disadvantages \n",
    "+ 如果责任链比较长，会有比较大的性能问题；\n",
    "+ 如果责任链比较长，若业务出现问题，比较难定位是哪个处理者的问题。"
   ]
  }
 ],
 "metadata": {
  "kernelspec": {
   "display_name": "Python 3",
   "language": "python",
   "name": "python3"
  },
  "language_info": {
   "codemirror_mode": {
    "name": "ipython",
    "version": 3
   },
   "file_extension": ".py",
   "mimetype": "text/x-python",
   "name": "python",
   "nbconvert_exporter": "python",
   "pygments_lexer": "ipython3",
   "version": "3.6.0"
  }
 },
 "nbformat": 4,
 "nbformat_minor": 2
}
