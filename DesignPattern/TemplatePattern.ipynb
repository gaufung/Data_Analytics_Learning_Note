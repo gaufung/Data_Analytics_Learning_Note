{
 "cells": [
  {
   "cell_type": "markdown",
   "metadata": {},
   "source": [
    "模板模式(Template Pattern)\n",
    "\n",
    "# 1 代码\n",
    "投资股票是种常见的理财方式，我国股民越来越多，实时查询股票的需求也越来越大。今天，我们通过一个简单的股票查询客户端来认识一种简单的设计模式：模板模式。\n",
    "根据股票代码来查询股价分为如下几个步骤：登录、设置股票代码、查询、展示。构造如下的虚拟股票查询器："
   ]
  },
  {
   "cell_type": "code",
   "execution_count": 1,
   "metadata": {
    "collapsed": true
   },
   "outputs": [],
   "source": [
    "class StockQueryDevice():\n",
    "    stock_code=\"0\"\n",
    "    stock_price=0.0\n",
    "    def login(self,usr,pwd):\n",
    "        pass\n",
    "    def setCode(self,code):\n",
    "        self.stock_code=code\n",
    "    def queryPrice(self):\n",
    "        pass\n",
    "    def showPrice(self):\n",
    "        pass"
   ]
  },
  {
   "cell_type": "markdown",
   "metadata": {},
   "source": [
    "现在查询机构很多，我们可以根据不同的查询机构和查询方式，来通过继承的方式实现其对应的股票查询器类。例如，WebA和WebB的查询器类可以构造如下："
   ]
  },
  {
   "cell_type": "code",
   "execution_count": 6,
   "metadata": {
    "collapsed": true
   },
   "outputs": [],
   "source": [
    "class WebAStockQueryDevice(StockQueryDevice):\n",
    "    def login(self,usr,pwd):\n",
    "        if usr==\"myStockA\" and pwd==\"myPwdA\":\n",
    "            print (\"Web A:Login OK... user:%s pwd:%s\"%(usr,pwd))\n",
    "            return True\n",
    "        else:\n",
    "            print (\"Web A:Login ERROR... user:%s pwd:%s\"%(usr,pwd))\n",
    "            return False\n",
    "    def queryPrice(self):\n",
    "        print (\"Web A Querying...code:%s \"%self.stock_code)\n",
    "        self.stock_price=20.00\n",
    "    def showPrice(self):\n",
    "        print (\"Web A Stock Price...code:%s price:%s\"%(self.stock_code,self.stock_price))\n",
    "class WebBStockQueryDevice(StockQueryDevice):\n",
    "    def login(self,usr,pwd):\n",
    "        if usr==\"myStockB\" and pwd==\"myPwdB\":\n",
    "            print (\"Web B:Login OK... user:%s pwd:%s\"%(usr,pwd))\n",
    "            return True\n",
    "        else:\n",
    "            print (\"Web B:Login ERROR... user:%s pwd:%s\"%(usr,pwd))\n",
    "            return False\n",
    "    def queryPrice(self):\n",
    "        print (\"Web B Querying...code:%s \"%self.stock_code)\n",
    "        self.stock_price=30.00\n",
    "    def showPrice(self):\n",
    "        print (\"Web B Stock Price...code:%s price:%s\"%(self.stock_code,self.stock_price))"
   ]
  },
  {
   "cell_type": "markdown",
   "metadata": {},
   "source": [
    "在场景中，想要在网站A上查询股票，需要进行如下操作："
   ]
  },
  {
   "cell_type": "code",
   "execution_count": 3,
   "metadata": {
    "collapsed": false
   },
   "outputs": [
    {
     "name": "stdout",
     "output_type": "stream",
     "text": [
      "Web A:Login OK... user:myStockA pwd:myPwdA\n",
      "Web A Querying...code:12345 \n",
      "Web A Stock Price...code:12345 price:20.0\n"
     ]
    }
   ],
   "source": [
    "web_a_query_dev=WebAStockQueryDevice()\n",
    "web_a_query_dev.login(\"myStockA\",\"myPwdA\")\n",
    "web_a_query_dev.setCode(\"12345\")\n",
    "web_a_query_dev.queryPrice()\n",
    "web_a_query_dev.showPrice()"
   ]
  },
  {
   "cell_type": "markdown",
   "metadata": {},
   "source": [
    "每次操作，都会调用登录，设置代码，查询，展示这几步，是不是有些繁琐？既然有些繁琐，何不将这几步过程封装成一个接口。由于各个子类中的操作过程基本满足这个流程，所以这个方法可以写在父类中："
   ]
  },
  {
   "cell_type": "code",
   "execution_count": 4,
   "metadata": {
    "collapsed": true
   },
   "outputs": [],
   "source": [
    "class StockQueryDevice():\n",
    "    stock_code=\"0\"\n",
    "    stock_price=0.0\n",
    "    def login(self,usr,pwd):\n",
    "        pass\n",
    "    def setCode(self,code):\n",
    "        self.stock_code=code\n",
    "    def queryPrice(self):\n",
    "        pass\n",
    "    def showPrice(self):\n",
    "        pass\n",
    "    def operateQuery(self,usr,pwd,code):\n",
    "        self.login(usr,pwd)\n",
    "        self.setCode(code)\n",
    "        self.queryPrice()\n",
    "        self.showPrice()\n",
    "        return True"
   ]
  },
  {
   "cell_type": "code",
   "execution_count": 7,
   "metadata": {
    "collapsed": false
   },
   "outputs": [
    {
     "name": "stdout",
     "output_type": "stream",
     "text": [
      "Web A:Login OK... user:myStockA pwd:myPwdA\n",
      "Web A Querying...code:12345 \n",
      "Web A Stock Price...code:12345 price:20.0\n"
     ]
    },
    {
     "data": {
      "text/plain": [
       "True"
      ]
     },
     "execution_count": 7,
     "metadata": {},
     "output_type": "execute_result"
    }
   ],
   "source": [
    "web_a_query_dev=WebAStockQueryDevice()\n",
    "web_a_query_dev.operateQuery(\"myStockA\",\"myPwdA\",\"12345\")"
   ]
  },
  {
   "cell_type": "markdown",
   "metadata": {},
   "source": [
    "# 2 Discriptions\n",
    "模板模式定义如下：定义一个操作中的算法的框架，而将一些步骤延迟到子类中，使得子类可以不改变一个算法的结构即可重新定义该算法的某些特定的步骤。子类实现的具体方法叫作基本方法，实现对基本方法高度的框架方法，叫作模板方法。"
   ]
  },
  {
   "cell_type": "markdown",
   "metadata": {},
   "source": [
    "# 3 Advantages \n",
    "+ 可变的部分可以充分扩展，不变的步骤可以充分封装；\n",
    "+ 提取公共代码，减少冗余代码，便于维护；\n",
    "+ 具体过程可以定制，总体流程方便掌控。\n",
    "\n",
    "# 4 Usages\n",
    "+ 某超类的子类中有公有的方法，并且逻辑基本相同，可以使用模板模式。必要时可以使用钩子方法约束其行为。具体如本节例子；\n",
    "+ 比较复杂的算法，可以把核心算法提取出来，周边功能在子类中实现。例如，机器学习中的监督学习算法有很多，如决策树、KNN、SVM等，但机器学习的流程大致相同，都包含输入样本、拟合（fit）、预测等过程，这样就可以把这些过程提取出来，构造模板方法，并通过钩子方法控制流程。"
   ]
  },
  {
   "cell_type": "markdown",
   "metadata": {},
   "source": [
    "# 5 Disadvantages\n",
    "模板模式在抽象类中定义了子类的方法，即子类对父类产生了影响，部分影响了代码的可读性。"
   ]
  }
 ],
 "metadata": {
  "kernelspec": {
   "display_name": "Python 3",
   "language": "python",
   "name": "python3"
  },
  "language_info": {
   "codemirror_mode": {
    "name": "ipython",
    "version": 3
   },
   "file_extension": ".py",
   "mimetype": "text/x-python",
   "name": "python",
   "nbconvert_exporter": "python",
   "pygments_lexer": "ipython3",
   "version": "3.6.0"
  }
 },
 "nbformat": 4,
 "nbformat_minor": 2
}
