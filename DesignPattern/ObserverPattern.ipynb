{
 "cells": [
  {
   "cell_type": "markdown",
   "metadata": {},
   "source": [
    "观测者模式(Observer Pattern)\n",
    "# 1 代码 \n",
    "在门面模式中，我们提到过火警报警器。在当时，我们关注的是通过封装减少代码重复。而今天，我们将从业务流程的实现角度，来再次实现该火警报警器。"
   ]
  },
  {
   "cell_type": "code",
   "execution_count": 1,
   "metadata": {
    "collapsed": true
   },
   "outputs": [],
   "source": [
    "class AlarmSensor:\n",
    "    def run(self):\n",
    "        print (\"Alarm Ring...\")\n",
    "class WaterSprinker:\n",
    "    def run(self):\n",
    "        print (\"Spray Water...\")\n",
    "class EmergencyDialer:\n",
    "    def run(self):\n",
    "        print (\"Dial 119...\")"
   ]
  },
  {
   "cell_type": "markdown",
   "metadata": {},
   "source": [
    "以上是门面模式中的三个传感器类的结构。仔细分析业务，报警器、洒水器、拨号器都是“观察”烟雾传感器的情况来做反应的。因而，他们三个都是观察者，而烟雾传感器则是被观察对象了。根据分析，将三个类提取共性，泛化出“观察者”类，并构造被观察者。\n",
    "观察者如下："
   ]
  },
  {
   "cell_type": "code",
   "execution_count": 2,
   "metadata": {
    "collapsed": true
   },
   "outputs": [],
   "source": [
    "class Observer:\n",
    "    def update(self):\n",
    "        pass\n",
    "class AlarmSensor(Observer):\n",
    "    def update(self,action):\n",
    "        print (\"Alarm Got: %s\" % action)\n",
    "        self.runAlarm()\n",
    "    def runAlarm(self):\n",
    "        print (\"Alarm Ring...\")\n",
    "class WaterSprinker(Observer):\n",
    "    def update(self,action):\n",
    "        print (\"Sprinker Got: %s\" % action)\n",
    "        self.runSprinker()\n",
    "    def runSprinker(self):\n",
    "        print (\"Spray Water...\")\n",
    "class EmergencyDialer(Observer):\n",
    "    def update(self,action):\n",
    "        print (\"Dialer Got: %s\"%action)\n",
    "        self.runDialer()\n",
    "    def runDialer(self):\n",
    "        print (\"Dial 119...\")"
   ]
  },
  {
   "cell_type": "markdown",
   "metadata": {},
   "source": [
    "观察者中定义了update接口，如果被观察者状态比较多，或者每个具体的观察者方法比较多，可以通过update传参数进行更丰富的控制。\n",
    "下面构造被观察者。"
   ]
  },
  {
   "cell_type": "code",
   "execution_count": 3,
   "metadata": {
    "collapsed": true
   },
   "outputs": [],
   "source": [
    "class Observed:\n",
    "    observers=[]\n",
    "    action=\"\"\n",
    "    def addObserver(self,observer):\n",
    "        self.observers.append(observer)\n",
    "    def notifyAll(self):\n",
    "        for obs in self.observers:\n",
    "            obs.update(self.action)\n",
    "class smokeSensor(Observed):\n",
    "    def setAction(self,action):\n",
    "        self.action=action\n",
    "    def isFire(self):\n",
    "        return True"
   ]
  },
  {
   "cell_type": "markdown",
   "metadata": {},
   "source": [
    "被观察者中首先将观察对象加入到观察者数组中，若发生情况，则通过notifyAll通知各观察者。\n",
    "业务代码如下："
   ]
  },
  {
   "cell_type": "code",
   "execution_count": 4,
   "metadata": {
    "collapsed": false
   },
   "outputs": [
    {
     "name": "stdout",
     "output_type": "stream",
     "text": [
      "Alarm Got: On Fire!\n",
      "Alarm Ring...\n",
      "Sprinker Got: On Fire!\n",
      "Spray Water...\n",
      "Dialer Got: On Fire!\n",
      "Dial 119...\n"
     ]
    }
   ],
   "source": [
    "alarm=AlarmSensor()\n",
    "sprinker=WaterSprinker()\n",
    "dialer=EmergencyDialer()\n",
    "\n",
    "smoke_sensor=smokeSensor()\n",
    "smoke_sensor.addObserver(alarm)\n",
    "smoke_sensor.addObserver(sprinker)\n",
    "smoke_sensor.addObserver(dialer)\n",
    "\n",
    "\n",
    "if smoke_sensor.isFire():\n",
    "    smoke_sensor.setAction(\"On Fire!\")\n",
    "    smoke_sensor.notifyAll()"
   ]
  },
  {
   "cell_type": "markdown",
   "metadata": {},
   "source": [
    "# 2 Discriptions\n",
    "观察者模式也叫发布-订阅模式，其定义如下：定义对象间一种一对多的依赖关系，使得当该对象状态改变时，所有依赖于它的对象都会得到通知，并被自动更新。\n",
    "观察者模式的通知方式可以通过直接调用等同步方式实现（如函数调用，HTTP接口调用等），也可以通过消息队列异步调用（同步调用指被观察者发布消息后，必须等所有观察者响应结束后才可以进行接下来的操作；异步调用指被观察者发布消息后，即可进行接下来的操作。）。事实上，许多开源的消息队列就直接支持发布-订阅模式，如Zero MQ等。\n",
    "\n",
    "# 3 Advantages \n",
    "+ 观察者与被观察者之间是抽象耦合的；\n",
    "+ 可以将许多符合单一职责原则的模块进行触发，也可以很方便地实现广播。\n",
    "\n",
    "# 4 Occasions\n",
    "+ 消息交换场景。如上述说到的消息队列等；\n",
    "+ 多级触发场景。比如支持中断模式的场景中，一个中断即会引发一连串反应，就可以使用观察者模式。\n",
    "\n",
    "# 5 Disadvantages \n",
    "+ 观察者模式可能会带来整体系统效率的浪费；\n",
    "+ 如果被观察者之间有依赖关系，其逻辑关系的梳理需要费些心思。"
   ]
  }
 ],
 "metadata": {
  "kernelspec": {
   "display_name": "Python 3",
   "language": "python",
   "name": "python3"
  },
  "language_info": {
   "codemirror_mode": {
    "name": "ipython",
    "version": 3
   },
   "file_extension": ".py",
   "mimetype": "text/x-python",
   "name": "python",
   "nbconvert_exporter": "python",
   "pygments_lexer": "ipython3",
   "version": "3.6.0"
  }
 },
 "nbformat": 4,
 "nbformat_minor": 2
}
