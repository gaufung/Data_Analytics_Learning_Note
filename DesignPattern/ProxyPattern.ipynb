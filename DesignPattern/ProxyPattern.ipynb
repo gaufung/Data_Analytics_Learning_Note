{
 "cells": [
  {
   "cell_type": "markdown",
   "metadata": {},
   "source": [
    "代理模式(Proxy Pattern)"
   ]
  },
  {
   "cell_type": "markdown",
   "metadata": {},
   "source": [
    "代理模式是一种使用频率非常高的模式，在多个著名的开源软件和当前多个著名的互联网产品后台程序中都有所应用。下面我们用一个抽象化的简单例子，来说明代理模式。"
   ]
  },
  {
   "cell_type": "code",
   "execution_count": 2,
   "metadata": {
    "collapsed": true
   },
   "outputs": [],
   "source": [
    "info_struct=dict()\n",
    "info_struct['addr']=10000\n",
    "info_struct['content']=''\n",
    "class Server(object):\n",
    "    content=''\n",
    "    def recv(self, info):\n",
    "        pass\n",
    "    def send(self, info):\n",
    "        pass\n",
    "    def show(self):\n",
    "        pass\n",
    "class infoServer(Server):\n",
    "    def recv(self,info):\n",
    "        self.content=info\n",
    "        return 'recv OK!'\n",
    "    def send(self, info):\n",
    "        pass\n",
    "    def show(self):\n",
    "        print('SHOW:%s'%self.content)"
   ]
  },
  {
   "cell_type": "markdown",
   "metadata": {},
   "source": [
    "infoServer有接收和发送的功能，发送功能由于暂时用不到，保留。另外新加一个接口show，用来展示服务器接收的内容。接收的数据格式必须如info_struct所示，服务器仅接受info_struct的content字段。那么，如何给这个服务器设置一个白名单，使得只有白名单里的地址可以访问服务器呢？修改Server结构是个方法，但这显然不符合软件设计原则中的单一职责原则。在此基础之上，使用代理，是个不错的方法。代理配置如下："
   ]
  },
  {
   "cell_type": "code",
   "execution_count": 3,
   "metadata": {
    "collapsed": true
   },
   "outputs": [],
   "source": [
    "class serverProxy(object):\n",
    "    pass\n",
    "class infoServerProxy(serverProxy):\n",
    "    server=''\n",
    "    def __init__(self,server):\n",
    "        self.server=server\n",
    "    def recv(self,info):\n",
    "        return self.server.recv(info)\n",
    "    def show(self):\n",
    "        self.server.show()\n",
    "class WhiteInfoServerProxy(infoServerProxy):\n",
    "    whilte_list=[]\n",
    "    def recv(self,info):\n",
    "        try:\n",
    "            assert type(info)==dict\n",
    "        except:\n",
    "            return 'info structure is not correct'\n",
    "        addr = info.get('addr',0)\n",
    "        if not addr in self.whilte_list:\n",
    "            return 'Your address is not the  white list'\n",
    "        else:\n",
    "            content=info.get('content','')\n",
    "            return self.server.recv(content)\n",
    "    def addWhite(self, addr):\n",
    "        self.whilte_list.append(addr)\n",
    "    def rmvWhite(self, addr):\n",
    "        self.whilte_list.remove(addr)\n",
    "    def clearWhite(self):\n",
    "        self.whilte_list=[]"
   ]
  },
  {
   "cell_type": "code",
   "execution_count": 4,
   "metadata": {
    "collapsed": false
   },
   "outputs": [
    {
     "name": "stdout",
     "output_type": "stream",
     "text": [
      "Your address is not the  white list\n",
      "SHOW:\n",
      "recv OK!\n",
      "SHOW:Hello World!\n"
     ]
    }
   ],
   "source": [
    "info_struct=dict()\n",
    "info_struct['addr']=10010\n",
    "info_struct['content']='Hello World!'\n",
    "info_server = infoServer()\n",
    "info_server_proxy = WhiteInfoServerProxy(info_server)\n",
    "print(info_server_proxy.recv(info_struct))\n",
    "info_server_proxy.show()\n",
    "info_server_proxy.addWhite(10010)\n",
    "print(info_server_proxy.recv(info_struct))\n",
    "info_server_proxy.show()"
   ]
  },
  {
   "cell_type": "markdown",
   "metadata": {},
   "source": [
    "# Advantages\n",
    "+ 职责清晰：非常符合单一职责原则，主题对象实现真实业务逻辑，而非本职责的事务，交由代理完成；\n",
    "+ 扩展性强：面对主题对象可能会有的改变，代理模式在不改变对外接口的情况下，可以实现最大程度的扩展；\n",
    "+ 保证主题对象的处理逻辑：代理可以通过检查参数的方式，保证主题对象的处理逻辑输入在理想范围内。"
   ]
  },
  {
   "cell_type": "markdown",
   "metadata": {},
   "source": [
    "# Usages\n",
    "+ 针对某特定对象进行功能和增强性扩展。如IP防火墙、远程访问代理等技术的应用；\n",
    "+ 对主题对象进行保护。如大流量代理，安全代理等；\n",
    "+ 减轻主题对象负载。如权限代理等。"
   ]
  }
 ],
 "metadata": {
  "kernelspec": {
   "display_name": "Python 3",
   "language": "python",
   "name": "python3"
  },
  "language_info": {
   "codemirror_mode": {
    "name": "ipython",
    "version": 3
   },
   "file_extension": ".py",
   "mimetype": "text/x-python",
   "name": "python",
   "nbconvert_exporter": "python",
   "pygments_lexer": "ipython3",
   "version": "3.6.0"
  }
 },
 "nbformat": 4,
 "nbformat_minor": 2
}
