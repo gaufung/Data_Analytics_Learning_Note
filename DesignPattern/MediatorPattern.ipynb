{
 "cells": [
  {
   "cell_type": "markdown",
   "metadata": {},
   "source": [
    "中介者模式(Mediator Pattern)\n",
    "# 1 代码\n",
    "有一个手机仓储管理系统，使用者有三方：销售、仓库管理员、采购。需求是：销售一旦达成订单，销售人员会通过系统的销售子系统部分通知仓储子系统，仓储子系统会将可出仓手机数量减少，同时通知采购管理子系统当前销售订单；仓储子系统的库存到达阈值以下，会通知销售子系统和采购子系统，并督促采购子系统采购；采购完成后，采购人员会把采购信息填入采购子系统，采购子系统会通知销售子系统采购完成，并通知仓库子系统增加库存。\n",
    "从需求描述来看，每个子系统都和其它子系统有所交流，在设计系统时，如果直接在一个子系统中集成对另两个子系统的操作，一是耦合太大，二是不易扩展。为解决这类问题，我们需要引入一个新的角色-中介者-来将“网状结构”精简为“星形结构”。（为充分说明设计模式，某些系统细节暂时不考虑，例如：仓库满了怎么办该怎么设计。类似业务性的内容暂时不考虑）\n",
    "首先构造三个子系统，即三个类（在中介者模式中，这些类叫做同事些）："
   ]
  },
  {
   "cell_type": "code",
   "execution_count": 1,
   "metadata": {
    "collapsed": true
   },
   "outputs": [],
   "source": [
    "class colleague():\n",
    "    mediator = None\n",
    "    def __init__(self,mediator):\n",
    "        self.mediator = mediator\n",
    "class purchaseColleague(colleague):\n",
    "    def buyStuff(self,num):\n",
    "        print (\"PURCHASE:Bought %s\"%num)\n",
    "        self.mediator.execute(\"buy\",num)\n",
    "    def getNotice(self,content):\n",
    "        print (\"PURCHASE:Get Notice--%s\"%content)\n",
    "class warehouseColleague(colleague):\n",
    "    total=0\n",
    "    threshold=100\n",
    "    def setThreshold(self,threshold):\n",
    "        self.threshold=threshold\n",
    "    def isEnough(self):\n",
    "        if self.total<self.threshold:\n",
    "            print (\"WAREHOUSE:Warning...Stock is low... \")\n",
    "            self.mediator.execute(\"warning\",self.total)\n",
    "            return False\n",
    "        else:\n",
    "            return True\n",
    "    def inc(self,num):\n",
    "        self.total+=num\n",
    "        print (\"WAREHOUSE:Increase %s\"%num)\n",
    "        self.mediator.execute(\"increase\",num)\n",
    "        self.isEnough()\n",
    "    def dec(self,num):\n",
    "        if num>self.total:\n",
    "            print (\"WAREHOUSE:Error...Stock is not enough\")\n",
    "        else:\n",
    "            self.total-=num\n",
    "            print (\"WAREHOUSE:Decrease %s\"%num)\n",
    "            self.mediator.execute(\"decrease\",num)\n",
    "        self.isEnough()\n",
    "class salesColleague(colleague):\n",
    "    def sellStuff(self,num):\n",
    "        print (\"SALES:Sell %s\"%num)\n",
    "        self.mediator.execute(\"sell\",num)\n",
    "    def getNotice(self, content):\n",
    "        print (\"SALES:Get Notice--%s\" % content)"
   ]
  },
  {
   "cell_type": "markdown",
   "metadata": {},
   "source": [
    "当各个类在初始时都会指定一个中介者，而各个类在有变动时，也会通知中介者，由中介者协调各个类的操作。\n",
    "中介者实现如下："
   ]
  },
  {
   "cell_type": "code",
   "execution_count": 3,
   "metadata": {
    "collapsed": false
   },
   "outputs": [],
   "source": [
    "class abstractMediator():\n",
    "    purchase=\"\"\n",
    "    sales=\"\"\n",
    "    warehouse=\"\"\n",
    "    def setPurchase(self,purchase):\n",
    "        self.purchase=purchase\n",
    "    def setWarehouse(self,warehouse):\n",
    "        self.warehouse=warehouse\n",
    "    def setSales(self,sales):\n",
    "        self.sales=sales\n",
    "    def execute(self,content,num):\n",
    "        pass\n",
    "class stockMediator(abstractMediator):\n",
    "    def execute(self,content,num):\n",
    "        print (\"MEDIATOR:Get Info--%s\"%content)\n",
    "        if  content==\"buy\":\n",
    "            self.warehouse.inc(num)\n",
    "            self.sales.getNotice(\"Bought %s\"%num)\n",
    "        elif content==\"increase\":\n",
    "            self.sales.getNotice(\"Inc %s\"%num)\n",
    "            self.purchase.getNotice(\"Inc %s\"%num)\n",
    "        elif content==\"decrease\":\n",
    "            self.sales.getNotice(\"Dec %s\"%num)\n",
    "            self.purchase.getNotice(\"Dec %s\"%num)\n",
    "        elif content==\"warning\":\n",
    "            self.sales.getNotice(\"Stock is low.%s Left.\"%num)\n",
    "            self.purchase.getNotice(\"Stock is low. Please Buy More!!! %s Left\"%num)\n",
    "        elif content==\"sell\":\n",
    "            self.warehouse.dec(num)\n",
    "            self.purchase.getNotice(\"Sold %s\"%num)\n",
    "        else:\n",
    "            pass"
   ]
  },
  {
   "cell_type": "markdown",
   "metadata": {},
   "source": [
    "中介者模式中的execute是最重要的方法，它根据同事类传递的信息，直接协调各个同事的工作。\n",
    "在场景类中，设置仓储阈值为200，先采购300，再卖出120，实现如下："
   ]
  },
  {
   "cell_type": "code",
   "execution_count": 9,
   "metadata": {
    "collapsed": false
   },
   "outputs": [
    {
     "name": "stdout",
     "output_type": "stream",
     "text": [
      "PURCHASE:Bought 300\n",
      "MEDIATOR:Get Info--buy\n",
      "WAREHOUSE:Increase 300\n",
      "MEDIATOR:Get Info--increase\n",
      "SALES:Get Notice--Inc 300\n",
      "PURCHASE:Get Notice--Inc 300\n",
      "SALES:Get Notice--Bought 300\n",
      "SALES:Sell 120\n",
      "MEDIATOR:Get Info--sell\n",
      "WAREHOUSE:Decrease 120\n",
      "MEDIATOR:Get Info--decrease\n",
      "SALES:Get Notice--Dec 120\n",
      "PURCHASE:Get Notice--Dec 120\n",
      "WAREHOUSE:Warning...Stock is low... \n",
      "MEDIATOR:Get Info--warning\n",
      "SALES:Get Notice--Stock is low.180 Left.\n",
      "PURCHASE:Get Notice--Stock is low. Please Buy More!!! 180 Left\n",
      "PURCHASE:Get Notice--Sold 120\n"
     ]
    }
   ],
   "source": [
    "mobile_mediator=stockMediator()#先配置\n",
    "\n",
    "mobile_purchase=purchaseColleague(mobile_mediator)\n",
    "mobile_warehouse=warehouseColleague(mobile_mediator)\n",
    "mobile_sales=salesColleague(mobile_mediator)\n",
    "\n",
    "mobile_mediator.setPurchase(mobile_purchase)\n",
    "mobile_mediator.setWarehouse(mobile_warehouse)\n",
    "mobile_mediator.setSales(mobile_sales)\n",
    "\n",
    "mobile_warehouse.setThreshold(200)\n",
    "mobile_purchase.buyStuff(300)\n",
    "mobile_sales.sellStuff(120)"
   ]
  },
  {
   "cell_type": "markdown",
   "metadata": {},
   "source": [
    "# 2 Discriptions\n",
    "中介者模式的定义为：用一个中介对象封装一系列的对象交互。中介者使各对象不需要显式地互相作用，从而使其耦合松散，并可以独立地改变它们之间的交互。"
   ]
  },
  {
   "cell_type": "markdown",
   "metadata": {},
   "source": [
    "# 3 Advantages \n",
    "+ 减少类与类的依赖，降低了类和类之间的耦合；\n",
    "+ 容易扩展规模。\n",
    "\n",
    "# 4 Usages\n",
    "+ 设计类图时，出现了网状结构时，可以考虑将类图设计成星型结构，这样就可以使用中介者模式了。如机场调度系统（多个跑道、飞机、指挥塔之间的调度）、路由系统；著名的MVC框架中，其中的C（Controller）就是M（Model）和V（View）的中介者。"
   ]
  },
  {
   "cell_type": "markdown",
   "metadata": {},
   "source": [
    "# 5 Disadvantages\n",
    "+ 中介者本身的复杂性可能会很大，例如，同事类的方法如果很多的话，本例中的execute逻辑会很复杂。"
   ]
  }
 ],
 "metadata": {
  "kernelspec": {
   "display_name": "Python 3",
   "language": "python",
   "name": "python3"
  },
  "language_info": {
   "codemirror_mode": {
    "name": "ipython",
    "version": 3
   },
   "file_extension": ".py",
   "mimetype": "text/x-python",
   "name": "python",
   "nbconvert_exporter": "python",
   "pygments_lexer": "ipython3",
   "version": "3.6.0"
  }
 },
 "nbformat": 4,
 "nbformat_minor": 2
}
