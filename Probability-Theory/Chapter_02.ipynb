{
 "cells": [
  {
   "cell_type": "markdown",
   "metadata": {},
   "source": [
    "Chapter02"
   ]
  },
  {
   "cell_type": "markdown",
   "metadata": {},
   "source": [
    "# 1 Discrete random variable"
   ]
  },
  {
   "cell_type": "markdown",
   "metadata": {},
   "source": [
    "## 1.1 (0-1) distribution\n",
    "$P(X=k)=p^k(1-p)^{1-k}, k=0,1 \\space (0<p<1)$"
   ]
  },
  {
   "cell_type": "markdown",
   "metadata": {},
   "source": [
    "## 1.2 binomial distribution\n",
    "$P(X=k)=C_n^kp^k(1-p)^{n-k}, \\space k=0,1,\\ldots,n \\space (0<p<1)$   \n",
    "Marked as $X \\sim B(n,p)$"
   ]
  },
  {
   "cell_type": "markdown",
   "metadata": {},
   "source": [
    "## 1.3 possion Distribution\n",
    "$P(X=k)=\\frac{\\lambda^k e^{-\\lambda}}{k!} \\space \\lambda > 0,\\space k=0,1,2,\\ldots$.   \n",
    "Marked as $X\\sim \\pi(\\lambda)$\n",
    "***\n",
    "If  $X \\sim B(n,p)$ and $n$ is big enough and $p$ is small enough, then: $$P(X=k)=C_n^kp^k(1-p)^{n-k} \\approx \\frac{\\lambda^k e^{-\\lambda}}{k!} $$ where: $\\lambda=np$"
   ]
  },
  {
   "cell_type": "markdown",
   "metadata": {},
   "source": [
    "## 1.4 geometric distribution\n",
    "$P(X=k)=(1-p)^{k-1}p, \\space k=1,2,3,\\dots$"
   ]
  },
  {
   "cell_type": "markdown",
   "metadata": {},
   "source": [
    "# 2 Continues random variables"
   ]
  },
  {
   "cell_type": "markdown",
   "metadata": {},
   "source": [
    "## 2.1 uniform distribution\n",
    "$$f(x)=\\begin{cases}\n",
    "\\frac{1}{b-a}, a<x<b \\\\\n",
    "0, others\n",
    "\\end{cases}$$"
   ]
  },
  {
   "cell_type": "code",
   "execution_count": 24,
   "metadata": {
    "collapsed": false
   },
   "outputs": [
    {
     "data": {
      "image/png": "[encoded data removed]",
      "text/plain": [
       "<matplotlib.figure.Figure at 0x10ea135c0>"
      ]
     },
     "metadata": {},
     "output_type": "display_data"
    }
   ],
   "source": [
    "import numpy as np\n",
    "import matplotlib.pyplot as plt\n",
    "plt.plot([1,2], [1,1], linewidth=2,c='k')\n",
    "plt.plot([1,1], [0,1],'k--', linewidth=2)\n",
    "plt.plot([2,2], [0,1],'k--', linewidth=2)\n",
    "plt.plot([0,1], [1,1],'k--')\n",
    "plt.xticks([1,2],[r'$a$',r'$b$'])\n",
    "plt.yticks([1],[r'$\\frac{1}{b-a}$'])\n",
    "plt.xlabel('x')\n",
    "plt.ylabel(r'$f(x)$')\n",
    "plt.axis([0, 2.5, 0, 2])\n",
    "gca = plt.gca()\n",
    "gca.spines['right'].set_color('none')\n",
    "gca.spines['top'].set_color('none')\n",
    "gca.xaxis.set_ticks_position('bottom')\n",
    "gca.yaxis.set_ticks_position('left')\n",
    "plt.show()"
   ]
  },
  {
   "cell_type": "markdown",
   "metadata": {},
   "source": [
    "## 2.2 exponential distribution\n",
    "$$f(x)=\n",
    "\\begin{cases}\n",
    "\\lambda e^{-\\lambda x}, x >0 \\\\\n",
    "0, x \\le 0\n",
    "\\end{cases}$$"
   ]
  },
  {
   "cell_type": "code",
   "execution_count": 31,
   "metadata": {
    "collapsed": false
   },
   "outputs": [
    {
     "data": {
      "image/png": "[encoded data removed]",
      "text/plain": [
       "<matplotlib.figure.Figure at 0x10ea1d0f0>"
      ]
     },
     "metadata": {},
     "output_type": "display_data"
    }
   ],
   "source": [
    "import numpy as np\n",
    "import matplotlib.pyplot as plt\n",
    "lam = 5\n",
    "x = np.linspace(0.01, 1, 1000)\n",
    "f_x = lam * np.power(np.e, -1.0*lam*x)\n",
    "plt.plot(x, f_x)\n",
    "plt.xlabel('x')\n",
    "plt.ylabel(r'$f(x)$')\n",
    "plt.axis([0, 1.1, 0, 2])\n",
    "plt.xticks(())\n",
    "plt.yticks(())\n",
    "gca = plt.gca()\n",
    "gca.spines['right'].set_color('none')\n",
    "gca.spines['top'].set_color('none')\n",
    "gca.xaxis.set_ticks_position('bottom')\n",
    "gca.yaxis.set_ticks_position('left')\n",
    "plt.show()"
   ]
  },
  {
   "cell_type": "markdown",
   "metadata": {},
   "source": [
    "## 2.3 normal distribution\n",
    "$$f(x)=\n",
    "\\frac{1}{\\sqrt{2\\pi}\\sigma}e^{-\\frac{(x-\\mu)^{2}}{2\\sigma^2}}\n",
    "$$\n",
    "where: $-\\infty < x < \\infty$"
   ]
  },
  {
   "cell_type": "code",
   "execution_count": 66,
   "metadata": {
    "collapsed": false
   },
   "outputs": [
    {
     "data": {
      "image/png": "[encoded data removed]",
      "text/plain": [
       "<matplotlib.figure.Figure at 0x10eb827b8>"
      ]
     },
     "metadata": {},
     "output_type": "display_data"
    }
   ],
   "source": [
    "import math\n",
    "import numpy as np\n",
    "import matplotlib.pyplot as plt\n",
    "def gauss(x, mu, sigma):\n",
    "    return 1.0 / (np.sqrt(2*np.pi) * sigma) * np.power(np.e, -1.0 * np.power(x-1, 2)/ (2))\n",
    "mu = 1.0\n",
    "sigma = 1.0\n",
    "x = np.linspace(-2.0, 4.0, 1000)\n",
    "y = gauss(x, mu, sigma)\n",
    "plt.plot(x, y)\n",
    "plt.xticks([1.0], [r'$\\mu$'])\n",
    "plt.yticks(())\n",
    "plt.xlabel('x')\n",
    "plt.plot([1.0, 1.0],[0.0, gauss(1.0, mu, sigma)], 'k--')\n",
    "plt.plot([0,1.0],[gauss(1.0, mu, sigma),gauss(1.0, mu, sigma)],'k--')\n",
    "plt.text(0-.2, gauss(1.0, mu, sigma), r'$\\frac{1}{\\sqrt{2\\pi}}$',ha='right', va='center')\n",
    "plt.axis([-3,5,0,0.5])\n",
    "#plt.(r'$\\frac{1}{\\sqrt{2\\pi}}e^{-\\frac{(x-1)^{2}}{2\\sigma^2}}$')\n",
    "gca = plt.gca()\n",
    "gca.spines['right'].set_color('none')\n",
    "gca.spines['top'].set_color('none')\n",
    "gca.xaxis.set_ticks_position('bottom')\n",
    "gca.spines['bottom'].set_position(('data',0))\n",
    "gca.yaxis.set_ticks_position('left')\n",
    "gca.spines['left'].set_position(('data',0))\n",
    "plt.show()"
   ]
  },
  {
   "cell_type": "markdown",
   "metadata": {},
   "source": [
    "# 3  Single Variate Distribution\n",
    "If a random variable has probability density function is $ f_X(x), -\\infty < x < \\infty$, and the function $g(x)$ can be derivated anywhere and $g^{'}(x) < 0$, then the random variable $Y=g(X)$'s probability density function is : \n",
    "$$f_Y(y)=\n",
    "\\begin{cases}\n",
    "f_X(h(y))\\rvert h'(y)\\rvert, \\alpha< y < \\beta \\\\\n",
    "0, ohters\n",
    "\\end{cases}$$\n",
    "where $\\alpha=min(g(-\\infty), g(+\\infty)), \\beta=max(g(-\\infty), g(+\\infty))$ and $h(y)$ is inverse function of the $y=g(x)$."
   ]
  }
 ],
 "metadata": {
  "kernelspec": {
   "display_name": "Python 3",
   "language": "python",
   "name": "python3"
  },
  "language_info": {
   "codemirror_mode": {
    "name": "ipython",
    "version": 3
   },
   "file_extension": ".py",
   "mimetype": "text/x-python",
   "name": "python",
   "nbconvert_exporter": "python",
   "pygments_lexer": "ipython3",
   "version": "3.6.0"
  }
 },
 "nbformat": 4,
 "nbformat_minor": 2
}
