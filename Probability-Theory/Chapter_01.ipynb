{
 "cells": [
  {
   "cell_type": "markdown",
   "metadata": {},
   "source": [
    "Chapter 01"
   ]
  },
  {
   "cell_type": "markdown",
   "metadata": {
    "collapsed": true
   },
   "source": [
    "# 1 Condition Probability\n",
    "The probability of **A** given **B** \n",
    "$$P(A \\rvert B) = \\frac{P(AB)}{P(B)}$$  \n",
    "$\\Rightarrow$   \n",
    "\n",
    "**Product Rule**\n",
    "$$\\begin{cases}\n",
    "P(AB) = P(A)P(B \\vert A) \\\\\n",
    "P(AB) = P(B)P(A \\vert B)\n",
    "\\end{cases}$$"
   ]
  },
  {
   "cell_type": "markdown",
   "metadata": {},
   "source": [
    "# 2  Law of Total Probability\n",
    "If $\\{ B_n: n = 1, 2, 3, \\ldots \\}$ is a finite or contably infinite partition of a sample space and each event $B_n$ is measureable. then for any event $A$ of the same probabilty space:\n",
    "$$P(A) = \\sum_{n} P(A \\vert B_n)P(B_n)$$"
   ]
  },
  {
   "cell_type": "markdown",
   "metadata": {},
   "source": [
    "# 3 Bayes' Theorem"
   ]
  },
  {
   "cell_type": "markdown",
   "metadata": {},
   "source": [
    "Describe the probabilty of an envent, base on the prior knowledge of condition that might be related to the event."
   ]
  },
  {
   "cell_type": "markdown",
   "metadata": {},
   "source": [
    "$$P(B_i|A)=\\frac{P(B_iA)}{P(A)}=\\frac{P(A|B_i)P(B_i)}{P(A)}=\\frac{P(A|B_i)P(B_i)}{ \\sum_{n} P(A \\vert B_n)P(B_n)}$$"
   ]
  },
  {
   "cell_type": "markdown",
   "metadata": {},
   "source": [
    "# 4 Prior Probability Vs Posterior Probability"
   ]
  },
  {
   "cell_type": "markdown",
   "metadata": {},
   "source": [
    "## 4.1 Prior Probability\n",
    "Express one's beliefs about this quantity before some evidence is taken into account. The unknown quantity may be a paramter of the model of the latent variable ranther than the an observation variable. And the paramter of prior distrubtions are kind of hyperparamters."
   ]
  },
  {
   "cell_type": "markdown",
   "metadata": {},
   "source": [
    "## 4.2 Posterior Probability\n",
    "A random event or an uncertain proposition is the conditional probability that is assigned after the relevant evidence or background is taken into account.  \n",
    "The posterior probability is the probability of the parameter $\\theta$ given the evdence $X$: $p(\\theta \\rvert X)$. According to Bayes Theorem, the posterior probability is defined as \n",
    "$$p(\\theta | x)=\\frac{p(x|\\theta)p(\\theta)}{x})$$"
   ]
  },
  {
   "cell_type": "markdown",
   "metadata": {},
   "source": [
    "$\\text{Posterior probability} \\propto \\text{Likelihood} \\times \\text{Proior probability}$"
   ]
  },
  {
   "cell_type": "code",
   "execution_count": null,
   "metadata": {
    "collapsed": true
   },
   "outputs": [],
   "source": []
  }
 ],
 "metadata": {
  "kernelspec": {
   "display_name": "Python 3",
   "language": "python",
   "name": "python3"
  },
  "language_info": {
   "codemirror_mode": {
    "name": "ipython",
    "version": 3
   },
   "file_extension": ".py",
   "mimetype": "text/x-python",
   "name": "python",
   "nbconvert_exporter": "python",
   "pygments_lexer": "ipython3",
   "version": "3.6.0"
  }
 },
 "nbformat": 4,
 "nbformat_minor": 2
}
