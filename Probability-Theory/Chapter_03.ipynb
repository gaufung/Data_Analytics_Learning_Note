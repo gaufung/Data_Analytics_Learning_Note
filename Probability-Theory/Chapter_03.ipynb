{
 "cells": [
  {
   "cell_type": "markdown",
   "metadata": {},
   "source": [
    "Mulit-dimension variables and distribution"
   ]
  },
  {
   "cell_type": "markdown",
   "metadata": {},
   "source": [
    "# 1 2-dimensional discrete random variables"
   ]
  },
  {
   "cell_type": "markdown",
   "metadata": {},
   "source": [
    "$$P(X=x_i,Y=y_j)=p_{ij} \\quad i,j=1,2,\\ldots$$"
   ]
  },
  {
   "cell_type": "markdown",
   "metadata": {},
   "source": [
    "# 2 2-dimensional continuous random variables\n",
    "If the 2-dimensional variables $X,Y$'s ditributional function is $F(x,y)$, and statisfiy the equation:\n",
    "$$F(x,y)=\\int_{-\\infty}^{y}\\int_{-\\infty}^{x}f(u,v)dudv$$\n",
    "for any $x,y$。"
   ]
  },
  {
   "cell_type": "markdown",
   "metadata": {},
   "source": [
    "## 2.1 Properties\n",
    "+ $f(x,y)\\ge 0$\n",
    "+ $\\int_{-\\infty}^{+\\infty}\\int_{-\\infty}^{+\\infty}f(x,y)dxdy=1$\n",
    "+ if $D$ is a region in the $XOY$ plane, then $P((X,Y)\\in D)={\\iint_D}f(x,y)dxdy$ \n",
    "+ $\\frac{\\partial{F(x,y)}^{2}}{\\partial {x}\\partial{y}}=f(x,y)$"
   ]
  },
  {
   "cell_type": "markdown",
   "metadata": {},
   "source": [
    "## 2.2 2-dimensional uniform distribution\n",
    "$$\n",
    "f(x,y)=\n",
    "\\begin{cases}\n",
    "\\frac{1}{S_D}, & (x,y) \\in D \\\\\n",
    "0, others\n",
    "\\end{cases}\n",
    "$$"
   ]
  },
  {
   "cell_type": "markdown",
   "metadata": {},
   "source": [
    "## 2.3 2-dimensional uniform distribution\n",
    "$$\n",
    "f(x,y)=\\frac{1}{2\\pi \\sigma_1 \\sigma_2 \\sqrt{1-\\rho^2}}e^{\\frac{-1}{2(1-\\rho^2)}\\big[\\frac{(x-\\mu_1)^2}{\\sigma_1^2}-2\\rho\\frac{(x-\\mu_1)(y-\\mu_2)}{\\sigma_1\\sigma_2}+\\frac{(y-\\mu_2)^2}{\\sigma_2^2}\\big]}\n",
    "$$"
   ]
  },
  {
   "cell_type": "markdown",
   "metadata": {},
   "source": [
    "# 3 Marginal Distribution Law\n",
    "$F_x(x)=P(X\\le x)=P(X\\le x,y<+\\infty)=F(x,+\\infty)$\n",
    "\n",
    "$F_y(y)=P(Y\\le y)=P(x\\le +\\infty,Y<y)=F(+\\infty,y)$"
   ]
  },
  {
   "cell_type": "markdown",
   "metadata": {},
   "source": [
    "## 3.1 Discrete Marginal Distribution Law\n",
    "$p_{i\\cdot}=P(X=x_i)=\\sum_{j=1}^{+\\infty}P_{ij}$\n",
    "\n",
    "$p_{\\cdot j}=P(Y=y_j)=\\sum_{i=1}^{+\\infty}P_{ij}$"
   ]
  },
  {
   "cell_type": "markdown",
   "metadata": {},
   "source": [
    "## 3.2 Marginal Probability density function\n",
    "$f_X(x)=\\int_{-\\infty}^{+\\infty}f(x,y)dy$\n",
    "\n",
    "$f_Y(y)=\\int_{-\\infty}^{+\\infty}f(x,y)dx$"
   ]
  },
  {
   "cell_type": "markdown",
   "metadata": {},
   "source": [
    "# 4 2-dimensional conditional distribution"
   ]
  },
  {
   "cell_type": "markdown",
   "metadata": {},
   "source": [
    "## 4.1 Discrete conditional distribution law\n",
    "$P(X=x_i | Y=y_j)=\\frac{P(X=x_i,Y=y_j)}{P(Y=y_j)}=\\frac{p_{ij}}{p_{\\cdot j}}$\n",
    "\n",
    "$P(Y=y_j | X=x_i)=\\frac{P(X=x_i,Y=y_j)}{P(X=x_i)}=\\frac{p_{ij}}{p_{i \\cdot}}$"
   ]
  },
  {
   "cell_type": "markdown",
   "metadata": {},
   "source": [
    "## 4.2  conditional probability density\n",
    "$f_{X|Y}(x|y)=\\frac{f(x,y)}{f_y{(y)}}$\n",
    "\n",
    "$f_{Y|X}(y|x)=\\frac{f(x,y)}{f_x{(x)}}$"
   ]
  },
  {
   "cell_type": "markdown",
   "metadata": {},
   "source": [
    "## 4.3 conditional probability distribution\n",
    "$F_{X|Y}(x|y)=P(X\\le x | Y=y)=\\int_{-\\infty}^{x}\\frac{f(x,y)}{f_Y(y)}dx$\n",
    "\n",
    "$F_{Y|X}(y|x)=P(Y\\le y | X=x)=\\int_{-\\infty}^{y}\\frac{f(x,y)}{f_X(x)}dy$"
   ]
  },
  {
   "cell_type": "code",
   "execution_count": null,
   "metadata": {
    "collapsed": true
   },
   "outputs": [],
   "source": []
  }
 ],
 "metadata": {
  "kernelspec": {
   "display_name": "Python 3",
   "language": "python",
   "name": "python3"
  },
  "language_info": {
   "codemirror_mode": {
    "name": "ipython",
    "version": 3
   },
   "file_extension": ".py",
   "mimetype": "text/x-python",
   "name": "python",
   "nbconvert_exporter": "python",
   "pygments_lexer": "ipython3",
   "version": "3.6.0"
  }
 },
 "nbformat": 4,
 "nbformat_minor": 2
}
