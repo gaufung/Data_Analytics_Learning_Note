{
 "cells": [
  {
   "cell_type": "markdown",
   "metadata": {},
   "source": [
    "# Python 数据分析实战笔记\n",
    "## 简介\n",
    "**作者： fung gau **   \n",
    "[python 数据分析实战](https://item.jd.com/12027532.html)，使用 `jupyter notebook (ipython notebook)` 编写展示。  \n",
    "`Github` 加载 `.ipynb` 的速度较慢，建议在 [Nbviewer](http://nbviewer.jupyter.org/github/gaufung/Data_Analytics_Learning_Note/blob/master/ReadMe.ipynb) 中查看该项目。  \n",
    "\n",
    "--- \n",
    "\n",
    "- 第1章 [numpy 库学习](numpy.ipynb)\n",
    "- 第2章 [pandas 库学习](pandas.ipynb)\n",
    "- 第3章 [pandas 数据读写](pandasIO.ipynb)\n",
    "- 第4章 [pandas 数据分析](pandasAdvance.ipynb)\n",
    "- 第5章 [matplotlib 数据可视化](matplotlib.ipynb)\n",
    "- 第6章 [scikit-learn机器学习](scikit_learning.ipynb)\n",
    "- 第7章 [实例](digits.ipynb)\n",
    "\n",
    "笔记格式借鉴[Jin Li](https://github.com/lijin-THU/)的[机器学习笔记](https://github.com/lijin-THU/notes-machine-learning)。\n"
   ]
  }
 ],
 "metadata": {
  "anaconda-cloud": {},
  "kernelspec": {
   "display_name": "Python 2",
   "language": "python",
   "name": "python2"
  },
  "language_info": {
   "codemirror_mode": {
    "name": "ipython",
    "version": 2
   },
   "file_extension": ".py",
   "mimetype": "text/x-python",
   "name": "python",
   "nbconvert_exporter": "python",
   "pygments_lexer": "ipython2",
   "version": "2.7.12"
  }
 },
 "nbformat": 4,
 "nbformat_minor": 1
}
