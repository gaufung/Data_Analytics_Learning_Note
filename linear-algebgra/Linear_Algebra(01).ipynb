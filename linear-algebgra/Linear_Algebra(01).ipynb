{
 "cells": [
  {
   "cell_type": "markdown",
   "metadata": {},
   "source": [
    "Linear-Algebra(一)\n",
    "# 1 预备知识\n",
    "## 1.1 矩阵乘法\n",
    "对于矩阵$A_{m \\times n}$和矩阵$B_{n \\times p}$，$A \\times B = C$，其中$C$为$m \\times p$的矩阵，其每一个元素,$$C_{ij}=\\sum_{k=1}^{n}a_{ik} \\times b_{kj}$$在`numpy`中使用`dot`运算符来进行数学上矩阵乘法运算，而普通的`*`运算则是$A,B$矩阵对应位置元素的乘积。"
   ]
  },
  {
   "cell_type": "markdown",
   "metadata": {
    "collapsed": true
   },
   "source": [
    "## 1.2 向量和矩阵相乘\n",
    "+ 向量右乘  \n",
    "$\\Bigg[v_1\\ v_2\\ v_3\\Bigg]\\begin{bmatrix}3\\\\4\\\\5\\end{bmatrix}=3v_1+4v_2+5v_3$  \n",
    "\n",
    "向量$v_1,v_2,v_3$分别代表列向量，当$v_1,v_2,v_3$组成的矩阵右乘一个列向量，则相当于使用右边的列向量中的数值对$v_1,v_2,v_3$进行线性组合。    \n",
    "+ 向量左乘  \n",
    "$\\begin{bmatrix}1&2&7\\end{bmatrix}\\begin{bmatrix} row_1\\\\row_2\\\\row_3\\end{bmatrix}=1row_1+2row_2+7row3$ \n",
    "\n",
    "向量$row_1,row_2,row_3$分别代表了行向量，当$row_1,row_2,row_3$组成的的矩阵左乘一个行向量，则相当于使用左边行向量中的数值对$row_1,row_2,row_3$进行线性组合。"
   ]
  },
  {
   "cell_type": "markdown",
   "metadata": {},
   "source": [
    "## 1.3 置换矩阵\n",
    "由1.2的向量和矩阵相乘后的分析，当若干个向量拼接在一起组成矩阵的时候，将会更多的向量的线性组合。$$\\begin{bmatrix} a & b \\\\ c & d \\end{bmatrix}\\begin{bmatrix}0 & 1 \\\\ 1 & 0 \\end{bmatrix}=\\begin{bmatrix}b & a \\\\ d & c \\end{bmatrix}$$  \n",
    "\n",
    "将矩阵乘法拆分如下：\n",
    "\n",
    "\n",
    "$\\begin{bmatrix} b \\\\ d \\end{bmatrix} = \\begin{bmatrix} a & b \\\\ c & d \\end{bmatrix} \\begin{bmatrix}0 \\\\ 1 \\end{bmatrix}=0 \\times \\begin{bmatrix} a \\\\ c \\end{bmatrix} + 1 \\times \\begin{bmatrix} b \\\\ d \\end{bmatrix}$  \n",
    "\n",
    "$\\begin{bmatrix} a \\\\ c \\end{bmatrix} = \\begin{bmatrix} a & b \\\\ c & d \\end{bmatrix} \\begin{bmatrix}1 \\\\ 0 \\end{bmatrix}=1 \\times \\begin{bmatrix} a \\\\ c \\end{bmatrix} + 0 \\times \\begin{bmatrix} b \\\\ d \\end{bmatrix}$   \n",
    "其等价效果为**交换矩阵的两列**。  \n",
    "同理，当左乘一个矩阵的时候\n",
    "$$\\begin{bmatrix} 0 & 1 \\\\ 1 & 0 \\end{bmatrix}\\begin{bmatrix}a & b \\\\ c & d \\end{bmatrix}=\\begin{bmatrix}c & d \\\\ a & b \\end{bmatrix}$$   \n",
    "其等价效果为**交换矩阵的两行**。\n",
    "\n",
    "置换矩阵定义： \n",
    "当一个矩阵的系数为0或者1的方阵，其每一行和每一列上*恰好*只有一个1，其余的为0，那么该矩阵则为置换矩阵。"
   ]
  },
  {
   "cell_type": "markdown",
   "metadata": {},
   "source": [
    "# 1.4 消元矩阵\n",
    "通过矩阵行之间的运算，使得矩阵达到精简的程度，比如：\n",
    "$$\\begin{bmatrix}\\underline{1}&2&1\\\\3&8&1\\\\0&4&1\\end{bmatrix}\\xrightarrow{row_2-3row_1}\\begin{bmatrix}\\underline{1}&2&1\\\\0&2&-2\\\\0&4&1\\end{bmatrix} \\xrightarrow{row_3-2row_1}\\begin{bmatrix}\\underline{1}&2&1\\\\0&\\underline{2}&-2\\\\0&0&\\underline{5}\\end{bmatrix}$$ \n",
    "\n",
    "每一个行之间的运算可以看成矩阵右乘一个矩阵:  \n",
    "$row_2-3row_1 \\Rightarrow E_{12}=\\begin{bmatrix}1 & 0 & 0 \\\\ -3 & 1 & 0 \\\\ 0 & 0 & 1 \\end{bmatrix}$  \n",
    "\n",
    "$row_3-2row_1 \\Rightarrow E_{23}= \\begin{bmatrix}1 & 0 & 0 \\\\ 0 & 1 & 0 \\\\ -2 & 0 & 1 \\end{bmatrix}$  \n",
    "综上所述：\n",
    "$$E_{23}(E_{12}A)=(E_{23}E_{12})A=U$$,其中$U$为上三角矩阵，进一步来讲$$(E_{23}E_{12})A=U \\Rightarrow A=(E_{23}E_{12})^{-1}U=LU$$\n",
    "这就是矩阵的LU分解，其中$L$为下三角矩阵。有时矩阵的主元**pivot**为零，那么就需要进行交换有关的行，即在矩阵A右乘一个置换矩阵P，则$PA=LU$"
   ]
  },
  {
   "cell_type": "markdown",
   "metadata": {},
   "source": [
    "# 1.5 矩阵求逆\n",
    "如果矩阵A为$n$阶方阵，那么$AA^{-1}=I$,称$A^{-1}$为逆矩阵，矩阵求逆的方法: $$[ A | I ] \\Rightarrow [I | A^{-1}]$$ 在矩阵A的右边写上相同阶的单位阵，形成一个$n \\times 2n$的矩阵，通过行变换，将左边矩阵A转换成单位矩阵的时候，矩阵右边的单位阵将会转换为A的逆。  \n",
    "**证明**\n",
    "对于矩阵A而言，每一部行操作都会被右边的矩阵记录下来，当矩阵A转换成单位阵的时候，相当于左乘了一个$A^{-1}$,所以$$A^{-1}[A|I]=[A^{-1}A | A^{-1}I]=[I|A^{-1}]$$"
   ]
  }
 ],
 "metadata": {
  "anaconda-cloud": {},
  "kernelspec": {
   "display_name": "Python 2",
   "language": "python",
   "name": "python2"
  },
  "language_info": {
   "codemirror_mode": {
    "name": "ipython",
    "version": 2
   },
   "file_extension": ".py",
   "mimetype": "text/x-python",
   "name": "python",
   "nbconvert_exporter": "python",
   "pygments_lexer": "ipython2",
   "version": "2.7.12"
  }
 },
 "nbformat": 4,
 "nbformat_minor": 1
}
