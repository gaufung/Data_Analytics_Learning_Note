{
 "cells": [
  {
   "cell_type": "markdown",
   "metadata": {},
   "source": [
    "# 2 向量空间\n",
    "向量空间是线性代数重要的概念，其性质：\n",
    "+ 对加法的封闭性  \n",
    "向量 $u$ 和向量 $v$ 均属于向量空间 $S$ ，即 $u \\in S,v \\in S$, 那么 $(u+v) \\in S$  \n",
    "+ 对数乘的封闭性  \n",
    "若 $\\alpha$ 为标量数值，那么 $v \\in S$，则 $\\alpha v \\in S$"
   ]
  },
  {
   "cell_type": "markdown",
   "metadata": {},
   "source": [
    "## 2.1 列空间和零空间\n",
    "矩阵 $A_{m \\times n},\\space x_{n\\times 1},\\space b_{m \\times 1}$  \n",
    "\n",
    "矩阵A的所有列向量组成的子空间称之为**列空间**  \n",
    "- 如果 $Ax=b$有非零解 $\\Rightarrow$ $b$属于$A$的列空间;  \n",
    "- 如果 $Ax=0$的所有解的集合 $\\Rightarrow$ $A$的零空间。"
   ]
  },
  {
   "cell_type": "markdown",
   "metadata": {},
   "source": [
    "### 2.1.1 Ax=0 解\n",
    "通过消元法将矩阵 A 转换成上三角矩阵 U 的形式，令其中自由列（free column）中的自由变量（free variable）依次为1，其余为0，解得主元变量的值，将解得的向量进行线性组合为方程 $Ax=0$ 的解。   \n",
    "**实例**  \n",
    "$A=\\begin{bmatrix} 1 & 2 & 2 & 2 \\\\ 2 & 4 & 6 & 8 \\\\ 3 & 6 & 8 & 0 \\end{bmatrix} \\xrightarrow{eliminate}  \\begin{bmatrix} \\underline{1} & 2 & 2 & 4 \\\\ 0 & 0 & \\underline{2} & 4 \\\\ 0 & 0 & 0 & 0 \\end{bmatrix} = U$   \n",
    "\n",
    "下划线的元素就是主元（pivot），其所在的列为主列（pivot column），对应x向量中的值为主元变量（pivot varibales）；其余的向量为free column，对应的x向量的值为自由变量（free variable)。\n",
    "\n",
    "令 $x_2=1,x_4=0 \\Rightarrow x_1+2+2x_3=0 \\Rightarrow x=c_1\\begin{bmatrix}-2 \\\\1\\\\0\\\\0\\end{bmatrix}$   \n",
    "\n",
    "再令 $x_2=0,x_4=0 \\Rightarrow 2x_3+4=0 \\Rightarrow x=c_2\\begin{bmatrix}2\\\\0\\\\-2\\\\1\\end{bmatrix}$   \n",
    "所以方程组$Ax=0$的解：$X=c_1\\begin{bmatrix}-2 \\\\1\\\\0\\\\0\\end{bmatrix} + c_2\\begin{bmatrix}2\\\\0\\\\-2\\\\1\\end{bmatrix}$   \n",
    "\n",
    "Ax=0 中x组成的所有空间为**零空间**"
   ]
  },
  {
   "cell_type": "markdown",
   "metadata": {},
   "source": [
    "### 2.1.2 Ax=b 解\n",
    "先按照$Ax=0$的方法，将矩阵进行$A$消元操作，将其转换为上三角矩阵$U$，令所有自由变量为零，求解出特解，再求解出$Ax=0$的解，两者组合为$Ax=b$的解。  \n",
    "**实例**  \n",
    "如果$b=\\begin{bmatrix}1 & 5 & 6 \\end{bmatrix}^{T}$,通过消元操作后得到$$\\begin{bmatrix} \\underline{1} & 2 & 2 & 4 \\\\ 0 & 0 & \\underline{2} & 4 \\\\ 0 & 0 & 0 & 0 \\end{bmatrix} \\begin{bmatrix}x_1\\\\x_2\\\\x_3\\\\x_4\\end{bmatrix}=\\begin{bmatrix}1\\\\3\\\\0\\end{bmatrix}$$  \n",
    "令$x_2=x_4=0$，得到$\\begin{cases}x_1+2x_3=1 \\\\ 2x_3=3\\end{cases}$, 解方程得到$\\begin{cases}x_1=-1 \\\\ x_3=\\frac{3}{2}\\end{cases}$,所以$Ax=b$的一个特解为$x=\\begin{bmatrix}-1\\\\0\\\\ \\frac{3}{2}\\\\0\\end{bmatrix}$,加上Ax=0的解，则Ax=b的全部解为$X=\\begin{bmatrix}-1\\\\0\\\\ \\frac{3}{2}\\\\0\\end{bmatrix}+c_1\\begin{bmatrix}-2\\\\1\\\\0\\\\0\\end{bmatrix}+c_2\\begin{bmatrix}2\\\\0\\\\-2\\\\1\\end{bmatrix}$"
   ]
  },
  {
   "cell_type": "markdown",
   "metadata": {},
   "source": [
    "## 2.1.3 Ax=b 解的特征\n",
    "矩阵主元的个数就是该矩阵的秩（Rank）记为r \n",
    "\n",
    "秩的情况 | 解的情况 \n",
    "--- | --- \n",
    "r=m=n | 只有1个解\n",
    "r=n<m  | 0个或者1个解 \n",
    "r=m<n | 无穷多个解\n",
    "r<min(m,n) | 0或者无穷多个解 \n"
   ]
  },
  {
   "cell_type": "markdown",
   "metadata": {},
   "source": [
    "# 2.2 行空间和左零空间  \n",
    "矩阵A的行向量组成的空间称之为**行空间**  \n",
    "\n",
    "$A^{T}y=0 \\rightarrow (A^{T}y)^{T}=0^T \\rightarrow y^{T}A=0^T$, 那么称$y$为矩阵$A$的**左零空间**"
   ]
  },
  {
   "cell_type": "markdown",
   "metadata": {},
   "source": [
    "## 2.3 四个基本空间 \n",
    "对于矩阵 $A_{m \\times n}$, $Rank(A)=r$  \n",
    "+ 列空间 \n",
    "\n",
    "$C(A) \\in R^{m},\\dim C(A)=r$,主元所在的列向量组成一组基；  \n",
    "+ 零空间  \n",
    "\n",
    "$N(A) \\in R^{n},\\dim N(A)=n-r$,自由元所在的列组成的零空间；  \n",
    "+ 行空间\n",
    "\n",
    "$C(A^{T}) \\in R^{n},\\dim C(A^T)=r$  \n",
    "+ 左零空间  \n",
    "\n",
    "$N(A^{T}) \\in R^{m}, \\dim N(A^{T})=r$"
   ]
  },
  {
   "cell_type": "code",
   "execution_count": null,
   "metadata": {
    "collapsed": true
   },
   "outputs": [],
   "source": []
  }
 ],
 "metadata": {
  "anaconda-cloud": {},
  "kernelspec": {
   "display_name": "Python 2",
   "language": "python",
   "name": "python2"
  },
  "language_info": {
   "codemirror_mode": {
    "name": "ipython",
    "version": 2
   },
   "file_extension": ".py",
   "mimetype": "text/x-python",
   "name": "python",
   "nbconvert_exporter": "python",
   "pygments_lexer": "ipython2",
   "version": "2.7.12"
  }
 },
 "nbformat": 4,
 "nbformat_minor": 1
}
