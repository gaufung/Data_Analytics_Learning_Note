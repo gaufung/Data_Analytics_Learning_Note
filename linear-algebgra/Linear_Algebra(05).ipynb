{
 "cells": [
  {
   "cell_type": "markdown",
   "metadata": {},
   "source": [
    "# 5 特征值和特征向量\n",
    "## 5.1 定义  \n",
    "矩阵$A$,向量$x$和标量$\\lambda$满足：  $Ax=\\lambda x$  \n",
    "则称$\\lambda$为特征值(eigen value)，$x$为特征向量（eigen vector）   \n",
    "\n",
    "**性质** ： \n",
    "\n",
    "- 如果$Ax=0$有非零解，则拥有特征值$\\lambda=0$  \n",
    "- 对于$n\\times n$矩阵，将会有$n$个特征值，其中特征值之和与对角线元素之和相等，$\\sum_{i=1}^{n}\\lambda_{i}=\\sum_{i=1}^{n}a_{ii}$"
   ]
  },
  {
   "cell_type": "markdown",
   "metadata": {
    "collapsed": true
   },
   "source": [
    "## 5.2 求解特征值和特征向量 \n",
    "$Ax=\\lambda x \\space \\Rightarrow (A - \\lambda I)x=0$  \n",
    "若使方程有解，则矩阵$(A-\\lambda I)$必定奇异，则$det(A-\\lambda I)=0$，称方程为特征方程(characteries equation)  \n",
    "\n",
    "**推论：**  \n",
    "- 如果$Ax=\\lambda x$ ,则$(A+3I)x=\\lambda x+3x=(\\lambda+3)x$   \n",
    "- 特征值可能会出现复数，并且成*共轭*出现\n",
    "- 存在重复特征值"
   ]
  },
  {
   "cell_type": "markdown",
   "metadata": {},
   "source": [
    "## 5.3 对角化矩阵 \n",
    "### 5.3.1 对角化\n",
    "有矩阵$A$,其特征值为$\\lambda_1,\\lambda_2,\\ldots,\\lambda_n$,其对应的特征向量为$x_1,x_2,\\ldots,x_n$,并且各个特征向量线性无关，将特征向量按照列向量组成矩阵$S=\\Bigg[x_1x_2\\ldots x_n\\Bigg]$,则$$S^{-1}AS=\\Lambda$$,其中$\\Lambda=\\begin{vmatrix}\\lambda_1 & 0 & \\ldots & 0 \\\\ 0 & \\lambda_2 & \\ldots & 0 \\\\ \\vdots & \\vdots & \\ddots & \\vdots \\\\ 0 & 0 & \\ldots & \\lambda_n \\end{vmatrix}$   \n",
    "\n",
    "**证明**  \n",
    "$AS=\\Bigg[(\\lambda_1x_1)(\\lambda_2x_2)\\ldots(\\lambda_3x_3)\\Bigg]$ 按照右乘向量相当于对列进行操作，则  \n",
    "$AS=\\Bigg[x_1x_2\\ldots x_3\\Bigg]\\begin{vmatrix}\\lambda_1 & 0 & \\ldots & 0 \\\\ 0 & \\lambda_2 & \\ldots & 0 \\\\ \\vdots & \\vdots & \\ddots & \\vdots \\\\ 0 & 0 & \\ldots & \\lambda_n \\end{vmatrix} = S\\Lambda $   \n",
    "所以  \n",
    "$S^{-1}AS=\\Lambda$   \n",
    "### 5.3.2 幂次方\n",
    "因为 $A^kx=A^{k-1}Ax=A^{k-1}\\lambda x=\\lambda ^k x \\Rightarrow \\lambda^k$是矩阵$A^k$的特征值，但特征向量与$A$相同，均为$x$。所以$$A^k=S^{-1}\\Lambda ^k S$$   \n",
    "如果特征向量组成的矩阵可逆，还可以这样表达：$A=S\\Lambda^{-1}S^{-1},A^k=S\\Lambda^kS^{-1}$"
   ]
  }
 ],
 "metadata": {
  "anaconda-cloud": {},
  "kernelspec": {
   "display_name": "Python [default]",
   "language": "python",
   "name": "python2"
  },
  "language_info": {
   "codemirror_mode": {
    "name": "ipython",
    "version": 2
   },
   "file_extension": ".py",
   "mimetype": "text/x-python",
   "name": "python",
   "nbconvert_exporter": "python",
   "pygments_lexer": "ipython2",
   "version": "2.7.12"
  }
 },
 "nbformat": 4,
 "nbformat_minor": 1
}
