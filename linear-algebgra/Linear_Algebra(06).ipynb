{
 "cells": [
  {
   "cell_type": "markdown",
   "metadata": {},
   "source": [
    "# 6 对称矩阵，正定矩阵和相似矩阵"
   ]
  },
  {
   "cell_type": "markdown",
   "metadata": {
    "collapsed": true
   },
   "source": [
    "## 6.1 对称矩阵\n",
    "\n",
    "$A^T=A$ \n",
    "\n",
    "**性质**： \n",
    "- 特征值均为实数据   \n",
    "- 特征向量相互正交   \n",
    "\n",
    "通常情况下，一个矩阵可以转化为$A=S\\Lambda S^{-1}$，在对称矩阵中，由于$SS^T=I$,所以一般用矩阵$Q$来表达矩阵$S$,其中$Q^{-1}=Q^T$,所以$A=Q\\Lambda Q^T$\n",
    "## 6.2 正定矩阵 \n",
    "正定矩阵为对称矩阵的子集，当所有的特征值为**正数**时，矩阵为正定举证。 \n",
    "\n",
    "**正定性判断**  \n",
    "- 所有特征值均大于零：$\\lambda_i \\gt 0$ \n",
    "- 所有的顺序主子阵的行列式$det(A_i) \\gt 0$\n",
    "- 矩阵消元后的主元均大于零\n",
    "- $x^TAx \\gt 0$ \n",
    "\n",
    "**性质**  \n",
    "- 正定矩阵$A=S\\Lambda S^{-1},A^{-1}=S\\Lambda^{-1}S^{-1}$ 正定矩阵的逆也是正定 \n",
    "- $A,B$矩阵为正定，$x^TAx \\gt 0,x^TBx \\gt 0$,则$x^T(A+B)x= x^TAx + x^TBx \\gt 0$,则$A+B$也是正定矩阵\n",
    "- $m \\times n$ 的矩阵 $A^TA$：$x^TA^TAx = (Ax)^T(Ax) = |Ax|^2$,若满足大于零条件，则要求$A$的零空间只有零向量，及A的各列线性无关。\n",
    "- 正定矩阵在消元过程中不需要交换行 "
   ]
  },
  {
   "cell_type": "markdown",
   "metadata": {},
   "source": [
    "## 6.3 相似矩阵\n",
    "**定义**  \n",
    "\n",
    "矩阵$A,B$,如果某矩阵$M$满足，$B=M^{-1}AM$,则称$A,B$互为相似矩阵。  \n",
    "\n",
    "**充要条件** \n",
    "如果$A,B$有相同的特征值，则$A,B$相似。 \n",
    "- 充分性  \n",
    "\n",
    "如果$A,B$有相同的特征值，则对角化$A=S_1 \\Lambda S_1^{-1}, B=S_2 \\Lambda S_2^{-1}$, 令$M=S_1S_2^{-1}$,则$$M^{-1}AM=S_2S_1^{-1}S_1 \\Lambda S_1^{-1}S_1S_2^{-1}=S_2 \\Lambda S_2^{-1}=B$$  \n",
    "- 必要性 \n",
    "\n",
    "如果$B=M^{-1}AM$   \n",
    "$$Ax=\\lambda x \\Rightarrow AMM^{-1}x=\\lambda x \\Rightarrow M^{-1}AMM^{-1}x=\\lambda M^{-1}x \\Rightarrow BM^{-1}x=\\lambda M^{-1}x$$  \n",
    "所以$B$的特征值为$\\lambda$,特征向量$M^{-1}x$"
   ]
  },
  {
   "cell_type": "code",
   "execution_count": null,
   "metadata": {
    "collapsed": true
   },
   "outputs": [],
   "source": []
  }
 ],
 "metadata": {
  "kernelspec": {
   "display_name": "Python [default]",
   "language": "python",
   "name": "python2"
  },
  "language_info": {
   "codemirror_mode": {
    "name": "ipython",
    "version": 2
   },
   "file_extension": ".py",
   "mimetype": "text/x-python",
   "name": "python",
   "nbconvert_exporter": "python",
   "pygments_lexer": "ipython2",
   "version": "2.7.12"
  }
 },
 "nbformat": 4,
 "nbformat_minor": 1
}
