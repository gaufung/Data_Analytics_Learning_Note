{
 "cells": [
  {
   "cell_type": "markdown",
   "metadata": {},
   "source": [
    "# 4 行列式"
   ]
  },
  {
   "cell_type": "markdown",
   "metadata": {},
   "source": [
    "## 4.1 性质"
   ]
  },
  {
   "cell_type": "markdown",
   "metadata": {},
   "source": [
    "### 性质1 \n",
    "单位矩阵的行列式的值为1  \n",
    "$detI=1$ \n",
    "### 性质2 \n",
    "交换行列的行变号，交换一次变一次号  \n",
    "### 性质3  \n",
    "+ I   \n",
    "$\\begin{vmatrix}ta & tb \\\\ tc & td \\end{vmatrix} = t\\begin{vmatrix}a & b \\\\ c & d \\end{vmatrix}$ \n",
    "+ II  \n",
    "$\\begin{vmatrix}a+a' & b+b' \\\\ c & d \\end{vmatrix} = \\begin{vmatrix} a & b \\\\ c & d \\end{vmatrix} + \\begin{vmatrix}a' & b' \\\\ c & d \\end{vmatrix}$ \n",
    "\n",
    "### 性质4 \n",
    "如果有两行相等，则行列式为零。  \n",
    "### 性质5  \n",
    "从$k$行中减去第$i$行的$l$倍，行列式不变。  \n",
    "**proof:**   \n",
    "$\\begin{vmatrix}a&b\\\\c&d\\end{vmatrix}\\rightarrow{}\\begin{vmatrix}a&b\\\\c-la&d-lb\\end{vmatrix}=\\begin{vmatrix}a&b\\\\c&d\\end{vmatrix}+\\begin{vmatrix}a&b\\\\-la&-lb\\end{vmatrix}=\\begin{vmatrix}a&b\\\\c&d\\end{vmatrix}-l\\begin{vmatrix}a&b\\\\a&b\\end{vmatrix}=\\begin{vmatrix}a&b\\\\c&d\\end{vmatrix}$  \n",
    "### 性质6  \n",
    "某一行全为零，则行列式为零。  \n",
    "### 性质7 \n",
    "上三角矩阵$U=\\begin{vmatrix}d_1 & \\star & \\ldots & \\star \\\\ 0 & d_2 & \\ldots & \\star \\\\ \\vdots & \\vdots & \\ddots & \\vdots \\\\ 0 & 0 & \\ldots & d_n \\end{vmatrix}$   \n",
    "则 $detU=d_1d_2\\ldots d_n$  \n",
    "### 性质8\n",
    "当$A$为奇异矩阵时，$detA=0$,iff A可逆时候$detA \\ne 0$  \n",
    "### 性质9 \n",
    "$det(AB)=det(A)det(B)$  \n",
    "$\\Rightarrow detI=det(A^{-1}A)=det(A^{-1})det(A) \\rightarrow det(A^{-1})=\\frac{1}{det(A)}$  \n",
    "$\\Rightarrow det(A^2)=(det(A))^2$  \n",
    "$\\Rightarrow det(2A)=2^ndet(A)$ \n",
    "### 性质10 \n",
    "$detA^T=detA$"
   ]
  },
  {
   "cell_type": "markdown",
   "metadata": {
    "collapsed": true
   },
   "source": [
    "## 4.2 代数余数式"
   ]
  },
  {
   "cell_type": "markdown",
   "metadata": {},
   "source": [
    "### 4.2.1 二阶行列式 \n",
    "运用上一节的有关行列式的相关性质   \n",
    "$\\begin{vmatrix}a&b\\\\c&d\\end{vmatrix}=\\begin{vmatrix}a&0\\\\c&d\\end{vmatrix}+\\begin{vmatrix}0&b\\\\c&d\\end{vmatrix}=\\begin{vmatrix}a&0\\\\c&0\\end{vmatrix}+\\begin{vmatrix}a&0\\\\0&d\\end{vmatrix}+\\begin{vmatrix}0&b\\\\c&0\\end{vmatrix}+\\begin{vmatrix}0&b\\\\0&d\\end{vmatrix}=ad-cd$"
   ]
  },
  {
   "cell_type": "markdown",
   "metadata": {},
   "source": [
    "### 4.2.2 代数余子式  \n",
    "对于矩阵$A$的的第$i$行和第$j$列数据而言\n",
    "$\\begin{vmatrix}a_{11}&a_{12} & \\ldots & \\underline{a_{1j}} & \\ldots & a_{1n} \\\\ a_{21} & a_{22} & \\ldots & \\underline{a_{2j}} & \\ldots & a_{2n} \\\\ \\vdots & \\vdots & \\ddots & \\underline{\\vdots} & \\ddots & \\vdots \\\\ \\underline{a_{i1}} & \\underline{a_{i2}} & \\underline{\\ldots} & \\underline{a_{ij}} & \\underline{\\ldots} & \\underline{a_{in}} \\\\ \\vdots & \\vdots & \\ddots & \\underline{\\vdots} & \\ddots & \\vdots \\\\ a_{n1}&a_{n2} & \\ldots & \\underline{a_{nj}} &\\ldots & a_{nn} \\end{vmatrix}$  \n",
    "将其所在的行和所在的列的元素删除，即下划线部分的元素，形成的新的行列式M，那么矩阵A的第i行第j元素的行列式$C_{ij}=(-1)^{i+j}M$,而 $detA=a_{11}C_{11}+a_{12}C_{12}+\\ldots+a_{1n}C_{1n}$,当然也可以选择其他行展开。"
   ]
  },
  {
   "cell_type": "markdown",
   "metadata": {},
   "source": [
    "### 4.2.3 逆矩阵\n",
    "$AC^T=\\begin{vmatrix}a_{11} & a_{12} & \\ldots & a_{1n} \\\\ \\vdots & \\vdots & \\ddots & \\vdots \\\\ a_{n1} & a_{n2} & \\ldots & a_{nn}\\end{vmatrix} \\begin{vmatrix}C_{11} & C_{21} & \\ldots & C_{n1} \\\\ C_{12} & C_{22} & \\ldots & C_{n2} \\\\ \\vdots & \\vdots & \\ddots & \\vdots \\\\ C_{1n} & C_{2n} & \\ldots & C_{nn} \\end{vmatrix}=detA I$  \n",
    "所以 \n",
    "$A^{-1}=\\frac{1}{detA}C^T$"
   ]
  },
  {
   "cell_type": "code",
   "execution_count": null,
   "metadata": {
    "collapsed": true
   },
   "outputs": [],
   "source": []
  }
 ],
 "metadata": {
  "anaconda-cloud": {},
  "kernelspec": {
   "display_name": "Python 2",
   "language": "python",
   "name": "python2"
  },
  "language_info": {
   "codemirror_mode": {
    "name": "ipython",
    "version": 2
   },
   "file_extension": ".py",
   "mimetype": "text/x-python",
   "name": "python",
   "nbconvert_exporter": "python",
   "pygments_lexer": "ipython2",
   "version": "2.7.12"
  }
 },
 "nbformat": 4,
 "nbformat_minor": 1
}
