{
 "cells": [
  {
   "cell_type": "markdown",
   "metadata": {},
   "source": [
    "K-Nest-Neighbors "
   ]
  },
  {
   "cell_type": "markdown",
   "metadata": {
    "collapsed": true
   },
   "source": [
    "# 1 Unsupervised Neast Neighbors\n",
    "It acts as a uniform unterface to three different nestest neighbors algorithms: `BallTree`, `KDTree`, and burte-force algorithm based on routines in `sklearn.metrics.pariwise`"
   ]
  },
  {
   "cell_type": "code",
   "execution_count": 1,
   "metadata": {
    "collapsed": false
   },
   "outputs": [
    {
     "data": {
      "text/plain": [
       "array([[0, 1],\n",
       "       [1, 0],\n",
       "       [2, 3],\n",
       "       [3, 2],\n",
       "       [4, 3]])"
      ]
     },
     "execution_count": 1,
     "metadata": {},
     "output_type": "execute_result"
    }
   ],
   "source": [
    "from sklearn.neighbors import NearestNeighbors\n",
    "import numpy as np\n",
    "X = np.array([[-1,-1],[-2, -1],[1,1],[2,1],[3,2]])\n",
    "nbrs = NearestNeighbors(n_neighbors=2, algorithm='ball_tree').fit(X)\n",
    "distance, indices = nbrs.kneighbors(X)\n",
    "indices"
   ]
  },
  {
   "cell_type": "code",
   "execution_count": 3,
   "metadata": {
    "collapsed": false
   },
   "outputs": [
    {
     "data": {
      "text/plain": [
       "array([[ 0.        ,  1.        ],\n",
       "       [ 0.        ,  1.        ],\n",
       "       [ 0.        ,  1.        ],\n",
       "       [ 0.        ,  1.        ],\n",
       "       [ 0.        ,  1.41421356]])"
      ]
     },
     "execution_count": 3,
     "metadata": {},
     "output_type": "execute_result"
    }
   ],
   "source": [
    "distance"
   ]
  },
  {
   "cell_type": "markdown",
   "metadata": {},
   "source": [
    "We can also use the `KDTree` and `BallTree` classes directly to find the nearest neighbors, alternatively."
   ]
  },
  {
   "cell_type": "code",
   "execution_count": 4,
   "metadata": {
    "collapsed": false
   },
   "outputs": [
    {
     "data": {
      "text/plain": [
       "array([[0, 1],\n",
       "       [1, 0],\n",
       "       [2, 3],\n",
       "       [3, 2],\n",
       "       [4, 3]])"
      ]
     },
     "execution_count": 4,
     "metadata": {},
     "output_type": "execute_result"
    }
   ],
   "source": [
    "from sklearn.neighbors import KDTree\n",
    "import numpy as np\n",
    "X = np.array([[-1,-1],[-2, -1],[1,1],[2,1],[3,2]])\n",
    "kdt=KDTree(X, leaf_size=30, metric='euclidean')\n",
    "kdt.query(X, k=2, return_distance=False)"
   ]
  },
  {
   "cell_type": "markdown",
   "metadata": {},
   "source": [
    "# 2 Nearest Neighbors Classification\n",
    "`scikit-learn` implements two different nearest neghbors classifiers: `KNeighborsClassifier` which based on the `k` nearest neighbors of each query point, where k is specified by the users. `RadiusNeighborsClassifier` based ont the number of neighbors with in a fixed radius `r` of each training point."
   ]
  },
  {
   "cell_type": "markdown",
   "metadata": {},
   "source": [
    "# 3 Nearest Neighbors Regression\n",
    "`scikit-learn` provides two different neighbors regressors: `KNeighborsResgressor` implements learning based on the `k` nearest neighbors of each query points. And `RadiusNeighborsRegressor` implements learning based on the neighbors within a fixed radius."
   ]
  },
  {
   "cell_type": "markdown",
   "metadata": {},
   "source": [
    "# 4 Nearest Neighbor Algorithm\n",
    "- Brute Force   \n",
    "\n",
    "calculate the all pairs of points in the dataset: for $N$ samples in $D$ dimension  \n",
    "- K-D Tree  \n",
    "\n",
    "Reduce the required number of distance calculations by efficiently encoding aggerate distance information for the sample. \n",
    "\n",
    "- Ball Tree  \n",
    "\n",
    "Divide the data into nodes defined by a centroid $C$ and radius $r$, such that each point in the node lies within the  hyper-sphere defined by $r$ and $C$."
   ]
  }
 ],
 "metadata": {
  "kernelspec": {
   "display_name": "Python 3",
   "language": "python",
   "name": "python3"
  },
  "language_info": {
   "codemirror_mode": {
    "name": "ipython",
    "version": 3
   },
   "file_extension": ".py",
   "mimetype": "text/x-python",
   "name": "python",
   "nbconvert_exporter": "python",
   "pygments_lexer": "ipython3",
   "version": "3.6.0"
  }
 },
 "nbformat": 4,
 "nbformat_minor": 2
}
