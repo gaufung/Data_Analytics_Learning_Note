{
 "cells": [
  {
   "cell_type": "markdown",
   "metadata": {},
   "source": [
    "Python Request 库入门"
   ]
  },
  {
   "cell_type": "markdown",
   "metadata": {
    "collapsed": true
   },
   "source": [
    "# 1 urllib2 和 Request对比\n",
    "*Get*请求至`https://api.github.com/`"
   ]
  },
  {
   "cell_type": "code",
   "execution_count": 4,
   "metadata": {
    "collapsed": false
   },
   "outputs": [
    {
     "name": "stdout",
     "output_type": "stream",
     "text": [
      "issues_url https://api.github.com/issues\n",
      "current_user_repositories_url https://api.github.com/user/repos{?type,page,per_page,sort}\n",
      "rate_limit_url https://api.github.com/rate_limit\n",
      "repository_search_url https://api.github.com/search/repositories?q={query}{&page,per_page,sort,order}\n",
      "user_organizations_url https://api.github.com/user/orgs\n",
      "commit_search_url https://api.github.com/search/commits?q={query}{&page,per_page,sort,order}\n",
      "repository_url https://api.github.com/repos/{owner}/{repo}\n",
      "emojis_url https://api.github.com/emojis\n",
      "hub_url https://api.github.com/hub\n",
      "keys_url https://api.github.com/user/keys\n",
      "following_url https://api.github.com/user/following{/target}\n",
      "emails_url https://api.github.com/user/emails\n",
      "authorizations_url https://api.github.com/authorizations\n",
      "code_search_url https://api.github.com/search/code?q={query}{&page,per_page,sort,order}\n",
      "followers_url https://api.github.com/user/followers\n",
      "public_gists_url https://api.github.com/gists/public\n",
      "organization_url https://api.github.com/orgs/{org}\n",
      "gists_url https://api.github.com/gists{/gist_id}\n",
      "feeds_url https://api.github.com/feeds\n",
      "user_search_url https://api.github.com/search/users?q={query}{&page,per_page,sort,order}\n",
      "user_url https://api.github.com/users/{user}\n",
      "events_url https://api.github.com/events\n",
      "organization_repositories_url https://api.github.com/orgs/{org}/repos{?type,page,per_page,sort}\n",
      "current_user_url https://api.github.com/user\n",
      "issue_search_url https://api.github.com/search/issues?q={query}{&page,per_page,sort,order}\n",
      "notifications_url https://api.github.com/notifications\n",
      "starred_url https://api.github.com/user/starred{/owner}{/repo}\n",
      "starred_gists_url https://api.github.com/gists/starred\n",
      "current_user_authorizations_html_url https://github.com/settings/connections/applications{/client_id}\n",
      "user_repositories_url https://api.github.com/users/{user}/repos{?type,page,per_page,sort}\n",
      "team_url https://api.github.com/teams\n"
     ]
    }
   ],
   "source": [
    "import urllib2\n",
    "import requests\n",
    "import json\n",
    "gh_url = 'https://api.github.com'\n",
    "gh_user = 'gaufung'\n",
    "gh_pw = 'gaofenggit123'\n",
    "req = urllib2.Request(gh_url)\n",
    "\n",
    "password_manager = urllib2.HTTPPasswordMgrWithDefaultRealm()\n",
    "password_manager.add_password(None, gh_url, gh_user, gh_pw)\n",
    "\n",
    "auth_manager = urllib2.HTTPBasicAuthHandler(password_manager)\n",
    "opener = urllib2.build_opener(auth_manager)\n",
    "\n",
    "urllib2.install_opener(opener)\n",
    "\n",
    "handler = urllib2.urlopen(req)\n",
    "\n",
    "if handler.getcode() == requests.codes.ok:\n",
    "    text = handler.read()\n",
    "    d_text = json.loads(text)\n",
    "    for k, v in d_text.items():\n",
    "        print k, v"
   ]
  },
  {
   "cell_type": "code",
   "execution_count": 7,
   "metadata": {
    "collapsed": false
   },
   "outputs": [],
   "source": [
    "import requests\n",
    "import json\n",
    "gh_url = 'https://api.github.com'\n",
    "gh_user = 'gaufung'\n",
    "gh_pw = 'gaofenggit123'\n",
    "r = requests.get(gh_url,auth=(gh_user,gh_pw))\n",
    "if r.status_code == requests.codes.ok:\n",
    "    for k, v in r.json().items():\n",
    "        print k,v"
   ]
  },
  {
   "cell_type": "markdown",
   "metadata": {},
   "source": [
    "# 2 基本用法"
   ]
  },
  {
   "cell_type": "code",
   "execution_count": 12,
   "metadata": {
    "collapsed": false
   },
   "outputs": [],
   "source": [
    "import requests\n",
    "cs_url = 'http://httpbin.org'\n",
    "r = requests.get(\"%s/%s\" % (cs_url, 'get'))\n",
    "r = requests.post(\"%s/%s\" % (cs_url, 'post'))\n",
    "r = requests.put(\"%s/%s\" % (cs_url, 'put'))\n",
    "r = requests.delete(\"%s/%s\" % (cs_url, 'delete'))\n",
    "r = requests.patch(\"%s/%s\" % (cs_url, 'patch'))\n",
    "r = requests.options(\"%s/%s\" % (cs_url, 'get'))"
   ]
  },
  {
   "cell_type": "markdown",
   "metadata": {},
   "source": [
    "# 3 URL 传参 \n",
    "> https://encrypted.google.com/search?q=hello \n",
    "\n",
    "> <协议>://<域名>/<接口>?<键1>=<值1>&<键2>=<值2>  \n",
    "\n",
    "requests 库提供的 HTTP 方法，都提供了名为 params 的参数。这个参数可以接受一个 Python 字典，并自动格式化为上述格式。"
   ]
  },
  {
   "cell_type": "code",
   "execution_count": 18,
   "metadata": {
    "collapsed": false
   },
   "outputs": [
    {
     "name": "stdout",
     "output_type": "stream",
     "text": [
      "https://www.so.com/s?q=query&ie=utf-8\n"
     ]
    }
   ],
   "source": [
    "import requests\n",
    "cs_url =  'https://www.so.com/s'\n",
    "param = {'ie':'utf-8','q':'query'}\n",
    "r = requests.get(cs_url,params = param)\n",
    "print r.url"
   ]
  },
  {
   "cell_type": "markdown",
   "metadata": {},
   "source": [
    "# 4 设置超时\n",
    "requests 的超时设置以秒为单位。例如，对请求加参数 timeout = 5 即可设置超时为 5 秒"
   ]
  },
  {
   "cell_type": "code",
   "execution_count": 22,
   "metadata": {
    "collapsed": false
   },
   "outputs": [],
   "source": [
    "import requests\n",
    "cs_url = 'https://www.zhihu.com'\n",
    "r = requests.get(cs_url,timeout=100)"
   ]
  },
  {
   "cell_type": "markdown",
   "metadata": {},
   "source": [
    "# 5 请求头"
   ]
  },
  {
   "cell_type": "code",
   "execution_count": 23,
   "metadata": {
    "collapsed": false
   },
   "outputs": [
    {
     "name": "stdout",
     "output_type": "stream",
     "text": [
      "{\n",
      "  \"args\": {}, \n",
      "  \"headers\": {\n",
      "    \"Accept\": \"*/*\", \n",
      "    \"Accept-Encoding\": \"gzip, deflate\", \n",
      "    \"Host\": \"httpbin.org\", \n",
      "    \"User-Agent\": \"python-requests/2.11.1\"\n",
      "  }, \n",
      "  \"origin\": \"117.136.68.150\", \n",
      "  \"url\": \"http://httpbin.org/get\"\n",
      "}\n",
      "\n"
     ]
    }
   ],
   "source": [
    "import requests\n",
    "\n",
    "cs_url = 'http://httpbin.org/get'\n",
    "r = requests.get (cs_url)\n",
    "print r.content"
   ]
  },
  {
   "cell_type": "markdown",
   "metadata": {},
   "source": [
    "通常我们比较关注其中的 User-Agent 和 Accept-Encoding。如果我们要修改 HTTP 头中的这两项内容，只需要将一个合适的字典参数传给 headers 即可。"
   ]
  },
  {
   "cell_type": "code",
   "execution_count": 24,
   "metadata": {
    "collapsed": false
   },
   "outputs": [
    {
     "name": "stdout",
     "output_type": "stream",
     "text": [
      "{\n",
      "  \"args\": {}, \n",
      "  \"headers\": {\n",
      "    \"Accept\": \"*/*\", \n",
      "    \"Accept-Encoding\": \"gzip\", \n",
      "    \"Host\": \"httpbin.org\", \n",
      "    \"User-Agent\": \"From Liam Huang\"\n",
      "  }, \n",
      "  \"origin\": \"117.136.68.150\", \n",
      "  \"url\": \"http://httpbin.org/get\"\n",
      "}\n",
      "\n"
     ]
    }
   ],
   "source": [
    "import requests\n",
    "\n",
    "my_headers = {'User-Agent' : 'From Liam Huang', 'Accept-Encoding' : 'gzip'}\n",
    "cs_url = 'http://httpbin.org/get'\n",
    "r = requests.get (cs_url, headers = my_headers)\n",
    "print r.content"
   ]
  },
  {
   "cell_type": "markdown",
   "metadata": {},
   "source": [
    "# 6 响应头"
   ]
  },
  {
   "cell_type": "code",
   "execution_count": 25,
   "metadata": {
    "collapsed": false
   },
   "outputs": [
    {
     "name": "stdout",
     "output_type": "stream",
     "text": [
      "{'Content-Length': '239', 'Server': 'nginx', 'Connection': 'keep-alive', 'Access-Control-Allow-Credentials': 'true', 'Date': 'Fri, 06 Jan 2017 07:29:47 GMT', 'Access-Control-Allow-Origin': '*', 'Content-Type': 'application/json'}\n"
     ]
    }
   ],
   "source": [
    "import requests\n",
    "\n",
    "cs_url = 'http://httpbin.org/get'\n",
    "r = requests.get (cs_url)\n",
    "print r.headers"
   ]
  },
  {
   "cell_type": "markdown",
   "metadata": {},
   "source": [
    "# 7 响应内容"
   ]
  },
  {
   "cell_type": "markdown",
   "metadata": {},
   "source": [
    "长期以来，互联网都存在带宽有限的情况。因此，网络上传输的数据，很多情况下都是经过压缩的。经由 requests 发送的请求，当收到的响应内容经过 gzip 或 deflate 压缩时，requests 会自动为我们解包。我们可以用 Response.content 来获得以字节形式返回的相应内容。"
   ]
  },
  {
   "cell_type": "code",
   "execution_count": 26,
   "metadata": {
    "collapsed": true
   },
   "outputs": [],
   "source": [
    "import requests\n",
    "\n",
    "cs_url = 'https://www.zhihu.com'\n",
    "r = requests.get (cs_url)\n",
    "\n",
    "if r.status_code == requests.codes.ok:\n",
    "    print r.content"
   ]
  },
  {
   "cell_type": "markdown",
   "metadata": {},
   "source": [
    "如果相应内容不是文本，而是二进制数据（比如图片），则需要进行响应的解码"
   ]
  },
  {
   "cell_type": "code",
   "execution_count": 27,
   "metadata": {
    "collapsed": true
   },
   "outputs": [],
   "source": [
    "import requests\n",
    "from PIL import Image\n",
    "from StringIO import StringIO\n",
    "\n",
    "cs_url = 'http://liam0205.me/uploads/avatar/avatar-2.jpg'\n",
    "r = requests.get (cs_url)\n",
    "\n",
    "if r.status_code == requests.codes.ok:\n",
    "    Image.open(StringIO(r.content)).show()"
   ]
  },
  {
   "cell_type": "markdown",
   "metadata": {},
   "source": [
    "文本模式解码"
   ]
  },
  {
   "cell_type": "code",
   "execution_count": 29,
   "metadata": {
    "collapsed": false
   },
   "outputs": [
    {
     "name": "stdout",
     "output_type": "stream",
     "text": [
      "bad request\n"
     ]
    }
   ],
   "source": [
    "import requests\n",
    "\n",
    "cs_url = 'https://www.zhihu.com'\n",
    "r = requests.get (cs_url,auth=('gaofengcumt@126.com','gaofengcumt'))\n",
    "\n",
    "if r.status_code == requests.codes.ok:\n",
    "    print r.text\n",
    "else:\n",
    "    print 'bad request'"
   ]
  },
  {
   "cell_type": "markdown",
   "metadata": {},
   "source": [
    "# 8 反序列化 JSON 数据"
   ]
  },
  {
   "cell_type": "code",
   "execution_count": 30,
   "metadata": {
    "collapsed": false
   },
   "outputs": [
    {
     "name": "stdout",
     "output_type": "stream",
     "text": [
      "美国\n"
     ]
    }
   ],
   "source": [
    "import requests\n",
    "\n",
    "cs_url   = 'http://ip.taobao.com/service/getIpInfo.php'\n",
    "my_param = {'ip':'8.8.8.8'}\n",
    "\n",
    "r = requests.get(cs_url, params = my_param)\n",
    "\n",
    "print r.json()['data']['country'].encode('utf-8')"
   ]
  },
  {
   "cell_type": "code",
   "execution_count": null,
   "metadata": {
    "collapsed": true
   },
   "outputs": [],
   "source": []
  }
 ],
 "metadata": {
  "anaconda-cloud": {},
  "kernelspec": {
   "display_name": "Python 2",
   "language": "python",
   "name": "python2"
  },
  "language_info": {
   "codemirror_mode": {
    "name": "ipython",
    "version": 2
   },
   "file_extension": ".py",
   "mimetype": "text/x-python",
   "name": "python",
   "nbconvert_exporter": "python",
   "pygments_lexer": "ipython2",
   "version": "2.7.12"
  }
 },
 "nbformat": 4,
 "nbformat_minor": 1
}
