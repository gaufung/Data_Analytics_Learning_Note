{
 "cells": [
  {
   "cell_type": "markdown",
   "metadata": {},
   "source": [
    "Python 单例模式"
   ]
  },
  {
   "cell_type": "markdown",
   "metadata": {
    "collapsed": true
   },
   "source": [
    "# 1 \\__new\\__ 方法\n",
    "+ \\__new\\__(cls, \\*args, \\*\\*kwargs)  创建对象时调用，返回当前对象的一个实例;注意：这里的第一个参数是cls即class本身  \n",
    "+ \\__init\\__(self, \\*args, \\*\\*kwargs) 创建完对象后调用，对当前对象的实例的一些初始化，无返回值,即在调用\\__new\\__之后，根据返回的实例初始化；注意，这里的第一个参数是self即对象本身"
   ]
  },
  {
   "cell_type": "code",
   "execution_count": 4,
   "metadata": {
    "collapsed": true
   },
   "outputs": [],
   "source": [
    "class Singleton(object):  \n",
    "    def __new__(cls, *args, **kwargs):  \n",
    "        if not hasattr(cls, '_instance'):  \n",
    "            cls._instance = super(Singleton, cls).__new__(cls, *args, **kwargs)  \n",
    "        return cls._instance\n",
    "class MyClass(object):\n",
    "    pass"
   ]
  },
  {
   "cell_type": "code",
   "execution_count": 6,
   "metadata": {
    "collapsed": false
   },
   "outputs": [
    {
     "name": "stdout",
     "output_type": "stream",
     "text": [
      "True\n",
      "False\n"
     ]
    }
   ],
   "source": [
    "single1 = Singleton()\n",
    "single2 = Singleton()\n",
    "myclass1 = MyClass()\n",
    "myclass2 = MyClass()\n",
    "print id(single1) == id(single2)\n",
    "print id(myclass1) == id(myclass2)"
   ]
  },
  {
   "cell_type": "markdown",
   "metadata": {},
   "source": [
    "# 2 使用类(class)装饰器"
   ]
  },
  {
   "cell_type": "code",
   "execution_count": 7,
   "metadata": {
    "collapsed": true
   },
   "outputs": [],
   "source": [
    "from functools import wraps\n",
    "def singleton(cls):  \n",
    "    instances = {}  \n",
    "    @wraps(cls)  \n",
    "    def wrapper(*args, **kwargs):  \n",
    "        if cls not in instances:  \n",
    "            instances[cls] = cls(*args, **kwargs)  \n",
    "        return instances[cls]  \n",
    "    return wrapper\n",
    "@singleton  \n",
    "class MyClass(object):  \n",
    "    pass"
   ]
  },
  {
   "cell_type": "code",
   "execution_count": 8,
   "metadata": {
    "collapsed": false
   },
   "outputs": [
    {
     "name": "stdout",
     "output_type": "stream",
     "text": [
      "True\n"
     ]
    }
   ],
   "source": [
    "myclass1 = MyClass()\n",
    "myclass2 = MyClass()\n",
    "print id(myclass1) == id(myclass2)"
   ]
  },
  {
   "cell_type": "markdown",
   "metadata": {},
   "source": [
    "# 3 使用GetInstance方法，非线程安全"
   ]
  },
  {
   "cell_type": "code",
   "execution_count": 11,
   "metadata": {
    "collapsed": false
   },
   "outputs": [
    {
     "name": "stdout",
     "output_type": "stream",
     "text": [
      "True\n"
     ]
    }
   ],
   "source": [
    "class MySingleton(object):  \n",
    "    @classmethod\n",
    "    def getInstance(cls):  \n",
    "        if not hasattr(cls, '_instance'):  \n",
    "            cls._instance = cls()  \n",
    "        return cls._instance\n",
    "mysingleton1 = MySingleton.getInstance()\n",
    "mysingleton2 = MySingleton.getInstance()\n",
    "print id(mysingleton1) == id(mysingleton2)"
   ]
  }
 ],
 "metadata": {
  "anaconda-cloud": {},
  "kernelspec": {
   "display_name": "Python 2",
   "language": "python",
   "name": "python2"
  },
  "language_info": {
   "codemirror_mode": {
    "name": "ipython",
    "version": 2
   },
   "file_extension": ".py",
   "mimetype": "text/x-python",
   "name": "python",
   "nbconvert_exporter": "python",
   "pygments_lexer": "ipython2",
   "version": "2.7.12"
  }
 },
 "nbformat": 4,
 "nbformat_minor": 1
}
