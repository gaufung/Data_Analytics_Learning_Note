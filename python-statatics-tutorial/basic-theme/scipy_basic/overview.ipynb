{
 "cells": [
  {
   "cell_type": "markdown",
   "metadata": {},
   "source": [
    "Scipy 库总览"
   ]
  },
  {
   "cell_type": "markdown",
   "metadata": {},
   "source": [
    "模块名 | 功能\n",
    "--- | ---\n",
    "scipy.cluster | 矢量化,Kmeans\n",
    "scipy.constants | 数学，物理常量\n",
    "scipy.fftpack | 傅里叶变换\n",
    "scipy.integrate | 积分\n",
    "scipy.interpolate | 插值计算\n",
    "scipy.io | 输入输出\n",
    "scipy.linalg | 线性代数\n",
    "scipy.ndimage | n维图像处理包\n",
    "scipy.odr | 正交距离回归\n",
    "scipy.optimize | 优化\n",
    "scipy.signal | 信号处理\n",
    "scipy.sparse | 稀疏矩阵\n",
    "scipy.spatial | 空间数据\n",
    "scipy.special | 特殊数学函数\n",
    "scipy.stats | 统计"
   ]
  },
  {
   "cell_type": "code",
   "execution_count": null,
   "metadata": {
    "collapsed": true
   },
   "outputs": [],
   "source": []
  }
 ],
 "metadata": {
  "anaconda-cloud": {},
  "kernelspec": {
   "display_name": "Python 2",
   "language": "python",
   "name": "python2"
  },
  "language_info": {
   "codemirror_mode": {
    "name": "ipython",
    "version": 2
   },
   "file_extension": ".py",
   "mimetype": "text/x-python",
   "name": "python",
   "nbconvert_exporter": "python",
   "pygments_lexer": "ipython2",
   "version": "2.7.12"
  }
 },
 "nbformat": 4,
 "nbformat_minor": 1
}
