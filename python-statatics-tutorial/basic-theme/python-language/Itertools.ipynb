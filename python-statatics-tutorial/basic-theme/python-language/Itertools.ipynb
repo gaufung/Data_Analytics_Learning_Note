{
 "cells": [
  {
   "cell_type": "markdown",
   "metadata": {},
   "source": [
    "itertools module"
   ]
  },
  {
   "cell_type": "code",
   "execution_count": 1,
   "metadata": {
    "collapsed": true
   },
   "outputs": [],
   "source": [
    "from itertools import *"
   ]
  },
  {
   "cell_type": "markdown",
   "metadata": {
    "collapsed": true
   },
   "source": [
    "# 1 chain(*iterables) \n",
    "Make an iterator that returns elements from the first iterable until it is exhausted, then proceeds to the next iterable, until all of the iterables are exhausted. "
   ]
  },
  {
   "cell_type": "code",
   "execution_count": 3,
   "metadata": {
    "collapsed": false
   },
   "outputs": [
    {
     "name": "stdout",
     "output_type": "stream",
     "text": [
      "g a u f u n g\n"
     ]
    }
   ],
   "source": [
    "for value in chain('gau', 'fung'):\n",
    "    print value,"
   ]
  },
  {
   "cell_type": "markdown",
   "metadata": {},
   "source": [
    "# 2 combinations(iterable, r)\n",
    "Return r length subsequences of elements from the input iterable."
   ]
  },
  {
   "cell_type": "code",
   "execution_count": 6,
   "metadata": {
    "collapsed": false
   },
   "outputs": [
    {
     "name": "stdout",
     "output_type": "stream",
     "text": [
      "('g', 'a', 'u', 'f', 'u')\n",
      "('g', 'a', 'u', 'f', 'n')\n",
      "('g', 'a', 'u', 'f', 'g')\n",
      "('g', 'a', 'u', 'u', 'n')\n",
      "('g', 'a', 'u', 'u', 'g')\n",
      "('g', 'a', 'u', 'n', 'g')\n",
      "('g', 'a', 'f', 'u', 'n')\n",
      "('g', 'a', 'f', 'u', 'g')\n",
      "('g', 'a', 'f', 'n', 'g')\n",
      "('g', 'a', 'u', 'n', 'g')\n",
      "('g', 'u', 'f', 'u', 'n')\n",
      "('g', 'u', 'f', 'u', 'g')\n",
      "('g', 'u', 'f', 'n', 'g')\n",
      "('g', 'u', 'u', 'n', 'g')\n",
      "('g', 'f', 'u', 'n', 'g')\n",
      "('a', 'u', 'f', 'u', 'n')\n",
      "('a', 'u', 'f', 'u', 'g')\n",
      "('a', 'u', 'f', 'n', 'g')\n",
      "('a', 'u', 'u', 'n', 'g')\n",
      "('a', 'f', 'u', 'n', 'g')\n",
      "('u', 'f', 'u', 'n', 'g')\n"
     ]
    }
   ],
   "source": [
    "for value in combinations('gaufung', 5):\n",
    "    print value"
   ]
  },
  {
   "cell_type": "markdown",
   "metadata": {},
   "source": [
    "# 3 combinations_with_replacement(iterable, r) \n",
    "Return r length subsequences of elements from the input iterable allowing individual elements to be repeated more than once."
   ]
  },
  {
   "cell_type": "code",
   "execution_count": 9,
   "metadata": {
    "collapsed": false
   },
   "outputs": [
    {
     "name": "stdout",
     "output_type": "stream",
     "text": [
      "('a', 'a')\n",
      "('a', 'b')\n",
      "('a', 'c')\n",
      "('b', 'b')\n",
      "('b', 'c')\n",
      "('c', 'c')\n"
     ]
    }
   ],
   "source": [
    "for value in combinations_with_replacement('abc', 2):\n",
    "    print value"
   ]
  },
  {
   "cell_type": "markdown",
   "metadata": {},
   "source": [
    "# 4 compress(data, selectors)\n",
    "Make an iterator that filters elements from data returning only those that have a corresponding element in selectors that evaluates to True. Stops when either the data or selectors iterables has been exhausted."
   ]
  },
  {
   "cell_type": "code",
   "execution_count": 12,
   "metadata": {
    "collapsed": false
   },
   "outputs": [
    {
     "name": "stdout",
     "output_type": "stream",
     "text": [
      "g f\n"
     ]
    }
   ],
   "source": [
    "for value in compress('gaufung',[1,0,0,1,0,0,0]):\n",
    "    print value,"
   ]
  },
  {
   "cell_type": "markdown",
   "metadata": {},
   "source": [
    "# 5 count(start=0, step=1)\n",
    "Make an iterator that returns evenly spaced values starting with n. "
   ]
  },
  {
   "cell_type": "markdown",
   "metadata": {},
   "source": [
    "# 6 cycle(iterable)\n",
    "Make an iterator returning elements from the iterable and saving a copy of each. When the iterable is exhausted, return elements from the saved copy. Repeats indefinitely."
   ]
  },
  {
   "cell_type": "markdown",
   "metadata": {},
   "source": [
    "# 7 dropwhile(predicate, iterable)\n",
    "Make an iterator that drops elements from the begining of iterable as long as the predicate is true; afterwards, returns every element. Note, the iterator does not produce any output until the predicate first becomes false, so it may have a lengthy start-up time."
   ]
  },
  {
   "cell_type": "code",
   "execution_count": 28,
   "metadata": {
    "collapsed": false
   },
   "outputs": [
    {
     "name": "stdout",
     "output_type": "stream",
     "text": [
      "4 6 4 1\n"
     ]
    }
   ],
   "source": [
    "for value in dropwhile(lambda x: x>5, [7,4,6,4,1]):\n",
    "    print value,"
   ]
  },
  {
   "cell_type": "markdown",
   "metadata": {},
   "source": [
    "# 8 groupby(iterable[, key])\n",
    "Make an iterator that returns consecutive keys and groups from the iterable. The key is a function computing a key value for each element. If not specified or is None, key defaults to an identity function and returns the element unchanged. Generally, the iterable needs to already be sorted on the same key function."
   ]
  },
  {
   "cell_type": "code",
   "execution_count": 31,
   "metadata": {
    "collapsed": false
   },
   "outputs": [
    {
     "name": "stdout",
     "output_type": "stream",
     "text": [
      "A ['A', 'A', 'A', 'A']\n",
      "B ['B', 'B', 'B']\n",
      "C ['C', 'C']\n",
      "D ['D']\n",
      "A ['A', 'A']\n",
      "B ['B', 'B', 'B']\n"
     ]
    }
   ],
   "source": [
    "for k, g in groupby('AAAABBBCCDAABBB'):\n",
    "    print k,list(g)"
   ]
  },
  {
   "cell_type": "markdown",
   "metadata": {},
   "source": [
    "# 9 迭代器函数\n",
    "+ ifilter(predicate, iterable)\n",
    "+ ifilter(predicate, iterable)\n",
    "+ imap(function, *iterables)\n",
    "+ islice(iterable, stop) \n",
    "+ izip(*iterables)\n",
    "+ izip_longest(*iterables[, fillvalue])"
   ]
  },
  {
   "cell_type": "markdown",
   "metadata": {},
   "source": [
    "# 10 product(*iterables[, repeat]) \n",
    "Cartesian product of input iterables.  \n",
    "((x,y) for x in A for y in B)."
   ]
  },
  {
   "cell_type": "code",
   "execution_count": 33,
   "metadata": {
    "collapsed": false
   },
   "outputs": [
    {
     "name": "stdout",
     "output_type": "stream",
     "text": [
      "('g', 'f')\n",
      "('g', 'u')\n",
      "('g', 'n')\n",
      "('g', 'g')\n",
      "('a', 'f')\n",
      "('a', 'u')\n",
      "('a', 'n')\n",
      "('a', 'g')\n",
      "('u', 'f')\n",
      "('u', 'u')\n",
      "('u', 'n')\n",
      "('u', 'g')\n"
     ]
    }
   ],
   "source": [
    "for value in product('gau','fung'):\n",
    "    print value"
   ]
  },
  {
   "cell_type": "code",
   "execution_count": 35,
   "metadata": {
    "collapsed": false
   },
   "outputs": [
    {
     "name": "stdout",
     "output_type": "stream",
     "text": [
      "(0, 0, 0)\n",
      "(0, 0, 1)\n",
      "(0, 1, 0)\n",
      "(0, 1, 1)\n",
      "(1, 0, 0)\n",
      "(1, 0, 1)\n",
      "(1, 1, 0)\n",
      "(1, 1, 1)\n"
     ]
    }
   ],
   "source": [
    "for value in product(range(2), repeat=3):\n",
    "    print value"
   ]
  },
  {
   "cell_type": "markdown",
   "metadata": {},
   "source": [
    "# 11 repeat(object[, times])\n",
    "Make an iterator that returns object over and over again. Runs indefinitely unless the times argument is specified. "
   ]
  },
  {
   "cell_type": "code",
   "execution_count": 39,
   "metadata": {
    "collapsed": false
   },
   "outputs": [
    {
     "name": "stdout",
     "output_type": "stream",
     "text": [
      "gau gau gau gau\n"
     ]
    }
   ],
   "source": [
    "for value in repeat('gau', 4):\n",
    "    print value,"
   ]
  },
  {
   "cell_type": "markdown",
   "metadata": {},
   "source": [
    "# 12 takewhile(predicate, iterable)\n",
    "Make an iterator that returns elements from the iterable as long as the predicate is true."
   ]
  },
  {
   "cell_type": "code",
   "execution_count": 41,
   "metadata": {
    "collapsed": false
   },
   "outputs": [
    {
     "name": "stdout",
     "output_type": "stream",
     "text": [
      "1 4\n"
     ]
    }
   ],
   "source": [
    "for value in takewhile(lambda x: x<5, [1,4,6,4,1]):\n",
    "    print value,"
   ]
  },
  {
   "cell_type": "markdown",
   "metadata": {},
   "source": [
    "# 13 tee(iterable[, n=2])\n",
    "Return n independent iterators from a single iterable. "
   ]
  }
 ],
 "metadata": {
  "anaconda-cloud": {},
  "kernelspec": {
   "display_name": "Python 2",
   "language": "python",
   "name": "python2"
  },
  "language_info": {
   "codemirror_mode": {
    "name": "ipython",
    "version": 2
   },
   "file_extension": ".py",
   "mimetype": "text/x-python",
   "name": "python",
   "nbconvert_exporter": "python",
   "pygments_lexer": "ipython2",
   "version": "2.7.12"
  }
 },
 "nbformat": 4,
 "nbformat_minor": 1
}
