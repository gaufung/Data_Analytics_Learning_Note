{
 "cells": [
  {
   "cell_type": "markdown",
   "metadata": {},
   "source": [
    "struct module  \n",
    "This module performs conversions between Python values and C structs represented as Python strings."
   ]
  },
  {
   "cell_type": "code",
   "execution_count": 2,
   "metadata": {
    "collapsed": true
   },
   "outputs": [],
   "source": [
    "from struct import *"
   ]
  },
  {
   "cell_type": "markdown",
   "metadata": {
    "collapsed": true
   },
   "source": [
    "# 1 Convert\n",
    "Format | C Type\t| Python | byte-size\n",
    "--- | --- | --- | ---\n",
    "x\t| pad byte\t| no value\t| 1\n",
    "c\t| char\t|string of length 1 |\t1\n",
    "b\t| signed char\t|integer |\t1\n",
    "B\t| unsigned char\t| integer\t| 1\n",
    "?\t| Bool\t| bool\t|1\n",
    "h\t| short\t| integer\t| 2\n",
    "H\t| unsigned short\t| integer\t| 2\n",
    "i\t| int\t| integer\t| 4\n",
    "I\t| unsigned int\t| integer or long\t| 4\n",
    "l\t| long\t| integer | \t4\n",
    "L\t| unsigned long\t| long\t| 4\n",
    "q\t| long long\t| long\t| 8\n",
    "Q\t| unsigned long long\t| long\t| 8\n",
    "f\t| float\t| float\t| 4\n",
    "d\t| double\t| float\t| 8\n",
    "s\t| char[]\t| string\t| 1\n",
    "p\t| char[]\t| string\t| 1"
   ]
  },
  {
   "cell_type": "markdown",
   "metadata": {},
   "source": [
    "# 2 byte order\n",
    "Character\t| Byte order\t|  Size and alignment\n",
    "--- | --- | ---\n",
    "@\t| native\t| native  \n",
    "=\t| native\t| standard  \n",
    "<\t| little-endian| \tstandard    \n",
    "\\>\t| big-endian\t| standard\n",
    "!\t| network (= big-endian)\t| standard\n"
   ]
  },
  {
   "cell_type": "markdown",
   "metadata": {},
   "source": [
    "# 3 function"
   ]
  },
  {
   "cell_type": "code",
   "execution_count": 3,
   "metadata": {
    "collapsed": false
   },
   "outputs": [
    {
     "data": {
      "text/plain": [
       "'\\x01\\x00\\x02\\x00\\x00\\x00\\x00\\x00\\x03\\x00\\x00\\x00\\x00\\x00\\x00\\x00'"
      ]
     },
     "execution_count": 3,
     "metadata": {},
     "output_type": "execute_result"
    }
   ],
   "source": [
    "pack('hhl', 1, 2, 3)"
   ]
  },
  {
   "cell_type": "code",
   "execution_count": 4,
   "metadata": {
    "collapsed": false
   },
   "outputs": [
    {
     "data": {
      "text/plain": [
       "(1, 2, 3)"
      ]
     },
     "execution_count": 4,
     "metadata": {},
     "output_type": "execute_result"
    }
   ],
   "source": [
    "unpack('hhl', '\\x01\\x00\\x02\\x00\\x00\\x00\\x00\\x00\\x03\\x00\\x00\\x00\\x00\\x00\\x00\\x00')"
   ]
  }
 ],
 "metadata": {
  "anaconda-cloud": {},
  "kernelspec": {
   "display_name": "Python 2",
   "language": "python",
   "name": "python2"
  },
  "language_info": {
   "codemirror_mode": {
    "name": "ipython",
    "version": 2
   },
   "file_extension": ".py",
   "mimetype": "text/x-python",
   "name": "python",
   "nbconvert_exporter": "python",
   "pygments_lexer": "ipython2",
   "version": "2.7.12"
  }
 },
 "nbformat": 4,
 "nbformat_minor": 1
}
