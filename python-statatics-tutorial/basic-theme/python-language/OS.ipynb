{
 "cells": [
  {
   "cell_type": "markdown",
   "metadata": {},
   "source": [
    "OS module"
   ]
  },
  {
   "cell_type": "code",
   "execution_count": 2,
   "metadata": {
    "collapsed": false
   },
   "outputs": [
    {
     "name": "stdout",
     "output_type": "stream",
     "text": [
      "posix\n",
      "('Darwin', 'gaofeng.local', '15.6.0', 'Darwin Kernel Version 15.6.0: Thu Sep  1 15:01:16 PDT 2016; root:xnu-3248.60.11~2/RELEASE_X86_64', 'x86_64')\n"
     ]
    }
   ],
   "source": [
    "import os\n",
    "print os.name\n",
    "print os.uname()"
   ]
  },
  {
   "cell_type": "markdown",
   "metadata": {},
   "source": [
    "# 1 Process Parameter"
   ]
  },
  {
   "cell_type": "markdown",
   "metadata": {},
   "source": [
    "## 1.1  environ"
   ]
  },
  {
   "cell_type": "code",
   "execution_count": 4,
   "metadata": {
    "collapsed": false
   },
   "outputs": [
    {
     "name": "stdout",
     "output_type": "stream",
     "text": [
      "LESS : -R\n",
      "LC_CTYPE : UTF-8\n",
      "TERM_PROGRAM_VERSION : 361.1\n",
      "LOGNAME : gaufung\n",
      "USER : gaufung\n",
      "PATH : /usr/local/bin:/usr/bin:/bin:/usr/sbin:/sbin:/usr/local/share/dotnet:/Library/Frameworks/Mono.framework/Versions/Current/Commands:/Library/TeX/texbin\n",
      "HOME : /Users/gaufung\n",
      "ZSH : /Users/gaufung/.oh-my-zsh\n",
      "TERM_PROGRAM : Apple_Terminal\n",
      "TERM : xterm-color\n",
      "Apple_PubSub_Socket_Render : /private/tmp/com.apple.launchd.TRa4EnwkzR/Render\n",
      "SHLVL : 2\n",
      "SECURITYSESSIONID : 186a7\n",
      "XPC_FLAGS : 0x0\n",
      "_ : /Users/gaufung/Anaconda/anaconda/bin/jupyter-notebook\n",
      "TERM_SESSION_ID : 40F8BF53-E44D-4E5C-B952-186849629CAA\n",
      "XPC_SERVICE_NAME : 0\n",
      "JPY_PARENT_PID : 76767\n",
      "SSH_AUTH_SOCK : /private/tmp/com.apple.launchd.Uguwt4L5K5/Listeners\n",
      "SHELL : /bin/zsh\n",
      "GIT_PAGER : cat\n",
      "TMPDIR : /var/folders/k9/2cxh1k2115s_lw4wtq9mzj9m0000gp/T/\n",
      "LSCOLORS : Gxfxcxdxbxegedabagacad\n",
      "MPLBACKEND : module://ipykernel.pylab.backend_inline\n",
      "CLICOLOR : 1\n",
      "__CF_USER_TEXT_ENCODING : 0x1F6:0x0:0x0\n",
      "PWD : /Users/gaufung\n",
      "PAGER : cat\n"
     ]
    }
   ],
   "source": [
    "for k, v in os.environ.items():\n",
    "    print k,':',v"
   ]
  },
  {
   "cell_type": "markdown",
   "metadata": {},
   "source": [
    "## 1.2 getcwd()\n",
    "get current work directionary"
   ]
  },
  {
   "cell_type": "code",
   "execution_count": 6,
   "metadata": {
    "collapsed": false
   },
   "outputs": [
    {
     "data": {
      "text/plain": [
       "'/Users/gaufung/WorkSpace/Python/Data_Analytics_Learning_Note/python-statatics-tutorial/basic-theme/python-language'"
      ]
     },
     "execution_count": 6,
     "metadata": {},
     "output_type": "execute_result"
    }
   ],
   "source": [
    "os.getcwd()"
   ]
  },
  {
   "cell_type": "markdown",
   "metadata": {},
   "source": [
    "## 1.3 process infomation"
   ]
  },
  {
   "cell_type": "markdown",
   "metadata": {},
   "source": [
    "+ os.ctermid()  \n",
    "Return the filename corresponding to the controlling terminal of the process.\n",
    "\n",
    "Availability: Unix.\n",
    "\n",
    "+ os.getegid()  \n",
    "Return the effective group id of the current process. This corresponds to the “set id” bit on the file being executed in the current process.\n",
    "\n",
    "Availability: Unix.\n",
    "\n",
    "+ os.geteuid()  \n",
    "Return the current process’s effective user id.\n",
    "\n",
    "Availability: Unix.\n",
    "\n",
    "+ os.getgid()  \n",
    "Return the real group id of the current process.\n",
    "\n",
    "Availability: Unix.\n",
    "\n",
    "+ os.getgroups()  \n",
    "Return list of supplemental group ids associated with the current process.\n",
    "\n",
    "Availability: Unix.\n",
    "\n",
    "+ os.getlogin()  \n",
    "Return the name of the user logged in on the controlling terminal of the process. For most purposes, it is more useful to use the environment variable LOGNAME to find out who the user is, or pwd.getpwuid(os.getuid())[0] to get the login name of the process’s real user id.\n",
    "\n",
    "Availability: Unix.\n",
    "\n",
    "+ os.getpgid(pid)  \n",
    "Return the process group id of the process with process id pid. If pid is 0, the process group id of the current process is returned.\n",
    "\n",
    "Availability: Unix.\n",
    "\n",
    "New in version 2.3.\n",
    "\n",
    "+ os.getpgrp()  \n",
    "Return the id of the current process group.\n",
    "\n",
    "Availability: Unix.\n",
    "\n",
    "+ os.getpid()  \n",
    "Return the current process id.\n",
    "\n",
    "Availability: Unix, Windows.\n",
    "\n",
    "+ os.getppid()  \n",
    "Return the parent’s process id.\n",
    "\n",
    "Availability: Unix."
   ]
  },
  {
   "cell_type": "markdown",
   "metadata": {},
   "source": [
    "# 2 File and Directionary operations\n",
    "+ os.makedirs()    \n",
    "可生成多层递归目录  \n",
    "+ os.removedirs()    \n",
    "可删除多层递归空目录，若目录不为空则无法删除\n",
    "+ os.mkdir()    \n",
    "生成单级目录\n",
    "+ os.rmdir()    \n",
    "删除单级空目录，若目录不为空则无法删除，报错\n",
    "+ os.pardir()    \n",
    "获取当前目录的父目录字符串名\n",
    "+ os.listdir()    \n",
    "列出指定目录下的所有文件和子目录，包括隐藏文件\n",
    "+ os.tmpfile()    \n",
    "创建并打开‘w+b’一个新的临时文件\n",
    "+ os.remove()    \n",
    "删除一个文件\n",
    "+ os.rename(\"oldname\",\"newname\")    \n",
    "重命名文件\n",
    "+ os.sep    \n",
    "输出操作系统特定的路径分隔符。win下为\"\\\\\",macx下为\"/\"\n",
    "+ os.linesep    \n",
    "输出当前平台使用的行终止符\n",
    "+ os.pathsep    \n",
    "输出用于分割文件路径的字符串\n",
    "+ os.name    \n",
    "输出字符串指示当前使用平台。win->'nt'; mac->'posix'\n",
    "+ os.system(command)    \n",
    "运行shell命令,其中command为 `shell` 命令"
   ]
  },
  {
   "cell_type": "markdown",
   "metadata": {},
   "source": [
    "# 3 os.path Module"
   ]
  },
  {
   "cell_type": "markdown",
   "metadata": {},
   "source": [
    "## 3.1 os.path.split()"
   ]
  },
  {
   "cell_type": "code",
   "execution_count": 7,
   "metadata": {
    "collapsed": false
   },
   "outputs": [
    {
     "data": {
      "text/plain": [
       "('/User/gaufung', '1.py')"
      ]
     },
     "execution_count": 7,
     "metadata": {},
     "output_type": "execute_result"
    }
   ],
   "source": [
    "os.path.split('/User/gaufung/1.py')"
   ]
  },
  {
   "cell_type": "markdown",
   "metadata": {},
   "source": [
    "## 3.2 isFile or isdir"
   ]
  },
  {
   "cell_type": "code",
   "execution_count": 10,
   "metadata": {
    "collapsed": false
   },
   "outputs": [
    {
     "data": {
      "text/plain": [
       "True"
      ]
     },
     "execution_count": 10,
     "metadata": {},
     "output_type": "execute_result"
    }
   ],
   "source": [
    "os.path.isdir(os.getcwd())"
   ]
  },
  {
   "cell_type": "code",
   "execution_count": 13,
   "metadata": {
    "collapsed": false
   },
   "outputs": [
    {
     "data": {
      "text/plain": [
       "False"
      ]
     },
     "execution_count": 13,
     "metadata": {},
     "output_type": "execute_result"
    }
   ],
   "source": [
    "os.path.isfile('/User/1.txt')"
   ]
  },
  {
   "cell_type": "markdown",
   "metadata": {},
   "source": [
    "## 3.3 exists"
   ]
  },
  {
   "cell_type": "code",
   "execution_count": 14,
   "metadata": {
    "collapsed": false
   },
   "outputs": [
    {
     "data": {
      "text/plain": [
       "True"
      ]
     },
     "execution_count": 14,
     "metadata": {},
     "output_type": "execute_result"
    }
   ],
   "source": [
    "os.path.exists(os.getcwd())"
   ]
  },
  {
   "cell_type": "code",
   "execution_count": 15,
   "metadata": {
    "collapsed": false
   },
   "outputs": [
    {
     "data": {
      "text/plain": [
       "False"
      ]
     },
     "execution_count": 15,
     "metadata": {},
     "output_type": "execute_result"
    }
   ],
   "source": [
    "os.path.exists('/User/gaofeng')"
   ]
  },
  {
   "cell_type": "markdown",
   "metadata": {},
   "source": [
    "## 3.4 abspath"
   ]
  },
  {
   "cell_type": "code",
   "execution_count": 21,
   "metadata": {
    "collapsed": false
   },
   "outputs": [
    {
     "name": "stdout",
     "output_type": "stream",
     "text": [
      ".\n"
     ]
    },
    {
     "data": {
      "text/plain": [
       "'/Users/gaufung/WorkSpace/Python/Data_Analytics_Learning_Note/python-statatics-tutorial/basic-theme/python-language'"
      ]
     },
     "execution_count": 21,
     "metadata": {},
     "output_type": "execute_result"
    }
   ],
   "source": [
    "print os.curdir\n",
    "os.path.abspath(os.curdir)"
   ]
  },
  {
   "cell_type": "markdown",
   "metadata": {},
   "source": [
    "## 3.5 getsize"
   ]
  },
  {
   "cell_type": "code",
   "execution_count": 22,
   "metadata": {
    "collapsed": false
   },
   "outputs": [
    {
     "data": {
      "text/plain": [
       "544"
      ]
     },
     "execution_count": 22,
     "metadata": {},
     "output_type": "execute_result"
    }
   ],
   "source": [
    "os.path.getsize(os.getcwd())"
   ]
  },
  {
   "cell_type": "markdown",
   "metadata": {},
   "source": [
    "## 3.6 splitext"
   ]
  },
  {
   "cell_type": "code",
   "execution_count": 24,
   "metadata": {
    "collapsed": false
   },
   "outputs": [
    {
     "data": {
      "text/plain": [
       "('1', '.txt')"
      ]
     },
     "execution_count": 24,
     "metadata": {},
     "output_type": "execute_result"
    }
   ],
   "source": [
    "os.path.splitext('1.txt')"
   ]
  },
  {
   "cell_type": "markdown",
   "metadata": {},
   "source": [
    "## 3.7 join"
   ]
  },
  {
   "cell_type": "code",
   "execution_count": 28,
   "metadata": {
    "collapsed": false
   },
   "outputs": [
    {
     "data": {
      "text/plain": [
       "'/Users/gaofeng/1.txt'"
      ]
     },
     "execution_count": 28,
     "metadata": {},
     "output_type": "execute_result"
    }
   ],
   "source": [
    "os.path.join('/Users','gaofeng','1.txt')"
   ]
  },
  {
   "cell_type": "markdown",
   "metadata": {},
   "source": [
    "## 3.8 basename and dirname"
   ]
  },
  {
   "cell_type": "code",
   "execution_count": 30,
   "metadata": {
    "collapsed": false
   },
   "outputs": [
    {
     "name": "stdout",
     "output_type": "stream",
     "text": [
      "1.txt\n",
      "/Users/gaufung\n"
     ]
    }
   ],
   "source": [
    "path = '/Users/gaufung/1.txt'\n",
    "print os.path.basename(path)\n",
    "print os.path.dirname(path)"
   ]
  }
 ],
 "metadata": {
  "anaconda-cloud": {},
  "kernelspec": {
   "display_name": "Python 2",
   "language": "python",
   "name": "python2"
  },
  "language_info": {
   "codemirror_mode": {
    "name": "ipython",
    "version": 2
   },
   "file_extension": ".py",
   "mimetype": "text/x-python",
   "name": "python",
   "nbconvert_exporter": "python",
   "pygments_lexer": "ipython2",
   "version": "2.7.12"
  }
 },
 "nbformat": 4,
 "nbformat_minor": 1
}
