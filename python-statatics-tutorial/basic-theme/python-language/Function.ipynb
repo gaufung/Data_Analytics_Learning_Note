{
 "cells": [
  {
   "cell_type": "markdown",
   "metadata": {},
   "source": [
    "**函数**"
   ]
  },
  {
   "cell_type": "markdown",
   "metadata": {
    "collapsed": true
   },
   "source": [
    "# 1 默认参数\n",
    "函数的参数中如果有默认参数，那么函数在定义的时候将被计算而不是等到函数被调用的时候"
   ]
  },
  {
   "cell_type": "code",
   "execution_count": 1,
   "metadata": {
    "collapsed": false
   },
   "outputs": [
    {
     "data": {
      "text/plain": [
       "20"
      ]
     },
     "execution_count": 1,
     "metadata": {},
     "output_type": "execute_result"
    }
   ],
   "source": [
    "bigx = 10\n",
    "def double_times(x = bigx):\n",
    "    return x * 2\n",
    "bigx = 1000\n",
    "double_times()"
   ]
  },
  {
   "cell_type": "markdown",
   "metadata": {},
   "source": [
    "在可变的集合类型中（list和dictionary）中，如果默认参数为该类型，那么所有的操作调用该函数的操作将会发生变化"
   ]
  },
  {
   "cell_type": "code",
   "execution_count": 4,
   "metadata": {
    "collapsed": false
   },
   "outputs": [
    {
     "data": {
      "text/plain": [
       "[0, 1, 2]"
      ]
     },
     "execution_count": 4,
     "metadata": {},
     "output_type": "execute_result"
    }
   ],
   "source": [
    "def foo(values, x=[]):\n",
    "    for value in values:\n",
    "        x.append(value)\n",
    "    return x\n",
    "foo([0,1,2])"
   ]
  },
  {
   "cell_type": "code",
   "execution_count": 5,
   "metadata": {
    "collapsed": false
   },
   "outputs": [
    {
     "data": {
      "text/plain": [
       "[0, 1, 2, 4, 5]"
      ]
     },
     "execution_count": 5,
     "metadata": {},
     "output_type": "execute_result"
    }
   ],
   "source": [
    "foo([4,5])"
   ]
  },
  {
   "cell_type": "code",
   "execution_count": 8,
   "metadata": {
    "collapsed": false
   },
   "outputs": [
    {
     "data": {
      "text/plain": [
       "[0, 1, 2]"
      ]
     },
     "execution_count": 8,
     "metadata": {},
     "output_type": "execute_result"
    }
   ],
   "source": [
    "def foo_fix(values, x=[]):\n",
    "    if len(x) != 0:\n",
    "        x = []\n",
    "    for value in values:\n",
    "        x.append(value)\n",
    "    return x\n",
    "foo_fix([0,1,2])"
   ]
  },
  {
   "cell_type": "code",
   "execution_count": 9,
   "metadata": {
    "collapsed": false
   },
   "outputs": [
    {
     "data": {
      "text/plain": [
       "[4, 5]"
      ]
     },
     "execution_count": 9,
     "metadata": {},
     "output_type": "execute_result"
    }
   ],
   "source": [
    "foo_fix([4,5])"
   ]
  },
  {
   "cell_type": "markdown",
   "metadata": {},
   "source": [
    "# 2 global 参数"
   ]
  },
  {
   "cell_type": "code",
   "execution_count": 14,
   "metadata": {
    "collapsed": false
   },
   "outputs": [
    {
     "name": "stdout",
     "output_type": "stream",
     "text": [
      "inner x is 10\n",
      "global x is 5\n"
     ]
    }
   ],
   "source": [
    "x = 5 \n",
    "def set_x(y):\n",
    "    x = y\n",
    "    print 'inner x is {}'.format(x)\n",
    "set_x(10)\n",
    "print 'global x is {}'.format(x)"
   ]
  },
  {
   "cell_type": "markdown",
   "metadata": {},
   "source": [
    "x = 5 表明为global变量，但是在set_x函数内部中，出现了x,但是其为局部变量,因此全局变量x并没有发生改变。"
   ]
  },
  {
   "cell_type": "code",
   "execution_count": 16,
   "metadata": {
    "collapsed": false
   },
   "outputs": [
    {
     "name": "stdout",
     "output_type": "stream",
     "text": [
      "global x is 10\n",
      "global x now is 10\n"
     ]
    }
   ],
   "source": [
    "def set_global_x(y):\n",
    "    global x\n",
    "    x = y \n",
    "    print 'global x is {}'.format(x)\n",
    "set_global_x(10)\n",
    "print 'global x now is {}'.format(x)"
   ]
  },
  {
   "cell_type": "markdown",
   "metadata": {},
   "source": [
    "通过添加global关键字，使得global变量x发生了改变。"
   ]
  },
  {
   "cell_type": "markdown",
   "metadata": {},
   "source": [
    "# 3 Exercise"
   ]
  },
  {
   "cell_type": "markdown",
   "metadata": {},
   "source": [
    "## Fibonacci sequence\n",
    "$F_{n+1}=F_{n}+F_{n-1}$ 其中 $F_{0}=0,F_{1}=1,F_{2}=1,F_{3}=2 \\cdots$"
   ]
  },
  {
   "cell_type": "markdown",
   "metadata": {},
   "source": [
    "+ 递归版本  \n",
    "算法时间时间复杂度高达 $T(n)=n^2$"
   ]
  },
  {
   "cell_type": "code",
   "execution_count": 1,
   "metadata": {
    "collapsed": false
   },
   "outputs": [
    {
     "data": {
      "text/plain": [
       "55"
      ]
     },
     "execution_count": 1,
     "metadata": {},
     "output_type": "execute_result"
    }
   ],
   "source": [
    "def fib_recursive(n):\n",
    "    if n == 0 or n == 1:\n",
    "        return n\n",
    "    else:\n",
    "        return fib_recursive(n-1) + fib_recursive(n-2)\n",
    "fib_recursive(10)"
   ]
  },
  {
   "cell_type": "markdown",
   "metadata": {
    "collapsed": true
   },
   "source": [
    "+ 迭代版本  \n",
    "算法时间复杂度为$T(n)=n$"
   ]
  },
  {
   "cell_type": "code",
   "execution_count": 3,
   "metadata": {
    "collapsed": false
   },
   "outputs": [
    {
     "data": {
      "text/plain": [
       "55"
      ]
     },
     "execution_count": 3,
     "metadata": {},
     "output_type": "execute_result"
    }
   ],
   "source": [
    "def fib_iterator(n):\n",
    "    g = 0\n",
    "    h = 1\n",
    "    i = 0\n",
    "    while i < n:\n",
    "        h = g + h \n",
    "        g = h - g\n",
    "        i += 1\n",
    "    return g\n",
    "fib_iterator(10)"
   ]
  },
  {
   "cell_type": "markdown",
   "metadata": {},
   "source": [
    "+ 迭代器版本  \n",
    "使用 yield 关键字可以实现迭代器"
   ]
  },
  {
   "cell_type": "code",
   "execution_count": 8,
   "metadata": {
    "collapsed": false
   },
   "outputs": [
    {
     "name": "stdout",
     "output_type": "stream",
     "text": [
      "1 1 2 3 5 8 13 21 34 55\n"
     ]
    }
   ],
   "source": [
    "def fib_iter(n):\n",
    "    g = 0\n",
    "    h = 1 \n",
    "    i = 0\n",
    "    while i < n:\n",
    "        h = g + h\n",
    "        g = h -g\n",
    "        i += 1\n",
    "        yield g\n",
    "for value in fib_iter(10):\n",
    "    print value,"
   ]
  },
  {
   "cell_type": "markdown",
   "metadata": {},
   "source": [
    "+ 矩阵求解法  \n",
    "$$\\begin{bmatrix}F_{n+1}\\\\F_{n}\\end{bmatrix}=\\begin{bmatrix}1&1\\\\1&0\\end{bmatrix}\\begin{bmatrix}F_{n}\\\\F_{n-1}\\end{bmatrix}$$   \n",
    "令$u_{n+1}=Au_{n}$ 其中 $u_{n+1}=\\begin{bmatrix}F_{n+1}\\\\F_{n}\\end{bmatrix}$\n",
    "通过矩阵的迭代求解\n",
    "$u_{n+1}=A^{n}u_{0}$，其中 $u_{0}=\\begin{bmatrix}1 \\\\0 \\end{bmatrix}$，对于$A^n$ 可以通过 $(A^{n/2})^{2}$ 方式求解，使得算法时间复杂度达到 $log(n)$"
   ]
  },
  {
   "cell_type": "code",
   "execution_count": 20,
   "metadata": {
    "collapsed": false
   },
   "outputs": [
    {
     "data": {
      "text/plain": [
       "55"
      ]
     },
     "execution_count": 20,
     "metadata": {},
     "output_type": "execute_result"
    }
   ],
   "source": [
    "import numpy as np\n",
    "a = np.array([[1,1],[1,0]])\n",
    "def pow_n(n):\n",
    "    if n == 1:\n",
    "        return a \n",
    "    elif n % 2 == 0:\n",
    "        half = pow_n(n/2)\n",
    "        return half.dot(half)\n",
    "    else:\n",
    "        half = pow_n((n-1)/2)\n",
    "        return a.dot(half).dot(half)\n",
    "def fib_pow(n):\n",
    "    a_n = pow_n(n)\n",
    "    u_0 = np.array([1,0])\n",
    "    return a_n.dot(u_0)[1]\n",
    "fib_pow(10)"
   ]
  },
  {
   "cell_type": "markdown",
   "metadata": {},
   "source": [
    "## Quick Sort"
   ]
  },
  {
   "cell_type": "code",
   "execution_count": 22,
   "metadata": {
    "collapsed": false
   },
   "outputs": [
    {
     "data": {
      "text/plain": [
       "[3, 9, 10, 11, 21, 22]"
      ]
     },
     "execution_count": 22,
     "metadata": {},
     "output_type": "execute_result"
    }
   ],
   "source": [
    "def quick_sort(array):\n",
    "    if len(array) < 2:\n",
    "        return array\n",
    "    else:\n",
    "        pivot = array[0]\n",
    "        left = [item for item  in array[1:] if item < pivot]\n",
    "        right = [item for item  in array[1:] if item >= pivot]\n",
    "        return quick_sort(left)+[pivot]+quick_sort(right)\n",
    "quick_sort([10,11,3,21,9,22])"
   ]
  },
  {
   "cell_type": "code",
   "execution_count": null,
   "metadata": {
    "collapsed": true
   },
   "outputs": [],
   "source": []
  }
 ],
 "metadata": {
  "anaconda-cloud": {},
  "kernelspec": {
   "display_name": "Python 2",
   "language": "python",
   "name": "python2"
  },
  "language_info": {
   "codemirror_mode": {
    "name": "ipython",
    "version": 2
   },
   "file_extension": ".py",
   "mimetype": "text/x-python",
   "name": "python",
   "nbconvert_exporter": "python",
   "pygments_lexer": "ipython2",
   "version": "2.7.12"
  }
 },
 "nbformat": 4,
 "nbformat_minor": 1
}
