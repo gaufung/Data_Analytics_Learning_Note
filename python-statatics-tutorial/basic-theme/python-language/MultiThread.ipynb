{
 "cells": [
  {
   "cell_type": "markdown",
   "metadata": {},
   "source": [
    "Python 多线程"
   ]
  },
  {
   "cell_type": "markdown",
   "metadata": {
    "collapsed": true
   },
   "source": [
    "# 1 Python 全局解释器锁（GIL）\n",
    "对Python虚拟机的访问由全局解释器锁(Global interpreter lock)来控制，正是这个锁能够保证同一时刻只有一个线程在运行，在多线程的环境中，Python虚拟机按照如下的方式进行。\n",
    "1. 设置GIL  \n",
    "2. 切换到一个线程去运行\n",
    "3. 运行\n",
    "    + 指定数量的字节码的指令，或者\n",
    "    + 线程主动让出控制（可以调用`time.sleep(0)`)\n",
    "4. 把线程设置为睡眠状态\n",
    "5. 解锁GIL\n",
    "6. 再次重复以上所有步骤"
   ]
  },
  {
   "cell_type": "markdown",
   "metadata": {},
   "source": [
    "# 2 非多线程"
   ]
  },
  {
   "cell_type": "code",
   "execution_count": 5,
   "metadata": {
    "collapsed": false
   },
   "outputs": [
    {
     "name": "stdout",
     "output_type": "stream",
     "text": [
      "starting at:  Wed Feb  1 15:45:34 2017\n",
      "start loop 0 at:  Wed Feb  1 15:45:34 2017\n",
      "loop 0 done at:  Wed Feb  1 15:45:38 2017\n",
      "start loop 1 at:  Wed Feb  1 15:45:38 2017\n",
      "loop 1 done at:  Wed Feb  1 15:45:40 2017\n",
      "all Done at: Wed Feb  1 15:45:40 2017\n"
     ]
    }
   ],
   "source": [
    "from time import sleep, ctime\n",
    "def loop0():\n",
    "    print 'start loop 0 at: ',ctime()\n",
    "    sleep(4)\n",
    "    print 'loop 0 done at: ', ctime()\n",
    "def loop1():\n",
    "    print 'start loop 1 at: ', ctime()\n",
    "    sleep(2)\n",
    "    print 'loop 1 done at: ', ctime()\n",
    "def main():\n",
    "    print 'starting at: ', ctime()\n",
    "    loop0()\n",
    "    loop1()\n",
    "    print 'all Done at:', ctime()\n",
    "main()"
   ]
  },
  {
   "cell_type": "markdown",
   "metadata": {},
   "source": [
    "# 3 Thread 模块\n",
    "1. start_new_thread(function, args, kwargs=None)  \n",
    "    产生一个新的线程，用指定参数和可选参数来调用该函数\n",
    "2. allocate_lock()  \n",
    "    分配一个LockType类型的对象\n",
    "3. exit()   \n",
    "    让该线程退出  \n",
    "## 3.1 多线程1"
   ]
  },
  {
   "cell_type": "code",
   "execution_count": 4,
   "metadata": {
    "collapsed": false
   },
   "outputs": [
    {
     "name": "stdout",
     "output_type": "stream",
     "text": [
      "start at:  Wed Feb  1 15:45:26 2017\n",
      "start loop 1 at:  Wed Feb  1 15:45:26 2017start loop 0 at: \n",
      "Wed Feb  1 15:45:26 2017\n",
      "loop 1 done at:  Wed Feb  1 15:45:28 2017\n",
      "loop 0 done at:  Wed Feb  1 15:45:30 2017\n",
      "all Done at:  Wed Feb  1 15:45:32 2017\n"
     ]
    }
   ],
   "source": [
    "import thread \n",
    "from time import ctime, sleep\n",
    "def loop0():\n",
    "    print 'start loop 0 at: ',ctime()\n",
    "    sleep(4)\n",
    "    print 'loop 0 done at: ', ctime()\n",
    "def loop1():\n",
    "    print 'start loop 1 at: ', ctime()\n",
    "    sleep(2)\n",
    "    print 'loop 1 done at: ', ctime()\n",
    "def main():\n",
    "    print 'start at: ', ctime()\n",
    "    thread.start_new_thread(loop0, ())\n",
    "    thread.start_new_thread(loop1, ())\n",
    "    sleep(6)\n",
    "    print 'all Done at: ', ctime()\n",
    "main()"
   ]
  },
  {
   "cell_type": "markdown",
   "metadata": {},
   "source": [
    "## 3.2 多线程2 \n",
    "使用锁"
   ]
  },
  {
   "cell_type": "code",
   "execution_count": 9,
   "metadata": {
    "collapsed": false
   },
   "outputs": [
    {
     "name": "stdout",
     "output_type": "stream",
     "text": [
      "starting at:  Wed Feb  1 15:55:39 2017\n",
      "start loop 1 atstart loop  Wed Feb  1 15:55:39 2017\n",
      "0 at Wed Feb  1 15:55:39 2017\n",
      "loop 1 done at: Wed Feb  1 15:55:41 2017\n",
      "loop 0 done at: Wed Feb  1 15:55:43 2017\n",
      "all Done at:  Wed Feb  1 15:55:43 2017\n"
     ]
    }
   ],
   "source": [
    "import thread\n",
    "from time import ctime, sleep\n",
    "loops = [4, 2]\n",
    "def loop(nloop, nsec, lock):\n",
    "    print 'start loop', nloop, 'at', ctime()\n",
    "    sleep(nsec)\n",
    "    print 'loop', nloop, 'done at:', ctime()\n",
    "    lock.release()\n",
    "def main():\n",
    "    print 'starting at: ', ctime()\n",
    "    locks = []\n",
    "    nloops = range(len(loops))\n",
    "    for i in nloops:\n",
    "        lock= thread.allocate_lock()\n",
    "        lock.acquire()\n",
    "        locks.append(lock)\n",
    "    for i in nloops:\n",
    "        thread.start_new_thread(loop,(i, loops[i], locks[i]))\n",
    "    for i in nloops:\n",
    "        while locks[i].locked():\n",
    "            pass\n",
    "    print 'all Done at: ', ctime()\n",
    "main()"
   ]
  },
  {
   "cell_type": "markdown",
   "metadata": {},
   "source": [
    "# 4 Threading 模块\n",
    "1. Thread \n",
    "   表示线程执行对象\n",
    "2. Lock   \n",
    "   锁对象\n",
    "3. Condition  \n",
    "   条件变量对象能让一个线程能够停下来，等待其他线程满足了某个条件\n",
    "4. Event  \n",
    "   通用的事件变量，多个线程等待某个事情的发生\n",
    "5. Timer  \n",
    "   等待一定时间后才能发生。"
   ]
  },
  {
   "cell_type": "markdown",
   "metadata": {},
   "source": [
    "## 4.1 Thread 类使用\n",
    "使用方法\n",
    "1. 创建一个Thread实例，传给它一个函数\n",
    "2. 创建一个Thread实例，传给它一个可调用的类对象\n",
    "3. 从Thread派生出一个子类，创建一个这个子类的实例（推荐）\n",
    "\n",
    "### 4.1.1 传函数"
   ]
  },
  {
   "cell_type": "code",
   "execution_count": 10,
   "metadata": {
    "collapsed": false
   },
   "outputs": [
    {
     "name": "stdout",
     "output_type": "stream",
     "text": [
      "starting at:  Wed Feb  1 16:16:45 2017\n",
      "start loop 0 at:  Wed Feb  1 16:16:45 2017\n",
      "start loop 1 at:  Wed Feb  1 16:16:45 2017\n",
      "loop 1 done at:  Wed Feb  1 16:16:47 2017\n",
      "loop 0 done at:  Wed Feb  1 16:16:49 2017\n",
      "all Done at:  Wed Feb  1 16:16:49 2017\n"
     ]
    }
   ],
   "source": [
    "import threading\n",
    "from time import ctime, sleep\n",
    "loops = [4, 2]\n",
    "def loop(nloop, nsec):\n",
    "    print 'start loop', nloop, 'at: ', ctime()\n",
    "    sleep(nsec)\n",
    "    print 'loop', nloop, 'done at: ', ctime()\n",
    "def main():\n",
    "    print 'starting at: ', ctime()\n",
    "    threads = []\n",
    "    nloops = range(len(loops))\n",
    "    for i in nloops:\n",
    "        t = threading.Thread(target=loop, args=(i, loops[i]))\n",
    "        threads.append(t)\n",
    "    for i in nloops:\n",
    "        threads[i].start()\n",
    "    for i in nloops:\n",
    "        threads[i].join()\n",
    "    print 'all Done at: ', ctime()\n",
    "main()"
   ]
  },
  {
   "cell_type": "markdown",
   "metadata": {},
   "source": [
    "### 4.1.2 传递对象"
   ]
  },
  {
   "cell_type": "code",
   "execution_count": 14,
   "metadata": {
    "collapsed": false
   },
   "outputs": [
    {
     "name": "stdout",
     "output_type": "stream",
     "text": [
      "starting at:  Wed Feb  1 16:37:20 2017\n",
      "start loop 0 at:  Wed Feb  1 16:37:20 2017\n",
      "start loop 1 at:  Wed Feb  1 16:37:20 2017\n",
      "loop 1 done at:  Wed Feb  1 16:37:22 2017\n",
      "loop 0 done at:  Wed Feb  1 16:37:24 2017\n"
     ]
    }
   ],
   "source": [
    "import threading\n",
    "from time import ctime, sleep\n",
    "loops = [4, 2]\n",
    "class ThreadFunc(object):\n",
    "    def __init__(self, func, args, name=''):\n",
    "        self.name = name\n",
    "        self.func = func\n",
    "        self.args = args\n",
    "    def __call__(self):\n",
    "        apply(self.func, self.args)\n",
    "def loop(nloop, nsec):\n",
    "    print 'start loop', nloop, 'at: ', ctime()\n",
    "    sleep(nsec)\n",
    "    print 'loop', nloop, 'done at: ',ctime()\n",
    "def main():\n",
    "    print 'starting at: ', ctime()\n",
    "    threads = []\n",
    "    nloops = range(len(loops))\n",
    "    for i in nloops:\n",
    "        t = threading.Thread(target=ThreadFunc(loop, (i, loops[i]), loop.__name__))\n",
    "        threads.append(t)\n",
    "    for i in nloops:\n",
    "        threads[i].start()\n",
    "    for i in nloops:\n",
    "        threads[i].join()\n",
    "main()"
   ]
  },
  {
   "cell_type": "markdown",
   "metadata": {},
   "source": [
    "### 4.1.3 派生类"
   ]
  },
  {
   "cell_type": "code",
   "execution_count": 21,
   "metadata": {
    "collapsed": false
   },
   "outputs": [
    {
     "name": "stdout",
     "output_type": "stream",
     "text": [
      "*** SINGLE THREAD\n",
      "starting fib at:  Wed Feb  1 16:59:09 2017\n",
      "144\n",
      "fib finished at:  Wed Feb  1 16:59:11 2017\n",
      "starting fac at:  Wed Feb  1 16:59:11 2017\n",
      "479001600\n",
      "fac finished at:  Wed Feb  1 16:59:13 2017\n",
      "starting sum at:  Wed Feb  1 16:59:13 2017\n",
      "78\n",
      "sum finished at:  Wed Feb  1 16:59:14 2017\n",
      "\n",
      " *** MULTI THREAD\n",
      "starting fib at:  Wed Feb  1 16:59:14 2017\n",
      "starting fac at:  Wed Feb  1 16:59:14 2017\n",
      "starting sum at:  Wed Feb  1 16:59:14 2017\n",
      "facsum  finished at: finished at:   Wed Feb  1 16:59:15 2017Wed Feb  1 16:59:15 2017\n",
      "\n",
      "fib finished at:  Wed Feb  1 16:59:17 2017\n",
      "144\n",
      "479001600\n",
      "78\n",
      "all done\n"
     ]
    }
   ],
   "source": [
    "import threading\n",
    "from time import ctime, sleep\n",
    "class MyThread(threading.Thread):\n",
    "    def __init__(self, func, args, name =''):\n",
    "        threading.Thread.__init__(self)\n",
    "        self.name = name\n",
    "        self.func = func\n",
    "        self.args = args\n",
    "    def getResult(self):\n",
    "        return self.result\n",
    "    def run(self):\n",
    "        print 'starting', self.name, 'at: ', ctime()\n",
    "        self.result = apply(self.func, self.args)\n",
    "        print self.name, 'finished at: ', ctime()\n",
    "def fib(x):\n",
    "    sleep(0.005)\n",
    "    if x < 2: return x\n",
    "    return fib(x-1) + fib(x-2)\n",
    "def fac(x):\n",
    "    sleep(0.1)\n",
    "    if x < 2: return x\n",
    "    return fac(x-1) * x\n",
    "\n",
    "def sum(x):\n",
    "    sleep(0.1)\n",
    "    if x<2: return x\n",
    "    return x+sum(x-1)\n",
    "funcs = [fib, fac, sum]\n",
    "n = 12 \n",
    "def main():\n",
    "    nfuncs = range(len(funcs))\n",
    "    print '*** SINGLE THREAD'\n",
    "    for i in nfuncs:\n",
    "        print 'starting', funcs[i].__name__, 'at: ', ctime()\n",
    "        print funcs[i](n)\n",
    "        print funcs[i].__name__, 'finished at: ', ctime()\n",
    "    print '\\n *** MULTI THREAD'\n",
    "    threads = []\n",
    "    for i in nfuncs:\n",
    "        t = MyThread(funcs[i], (n,), funcs[i].__name__)\n",
    "        threads.append(t)\n",
    "    for i in nfuncs:\n",
    "        threads[i].start()\n",
    "    for i in nfuncs:\n",
    "        threads[i].join()\n",
    "        print threads[i].getResult()\n",
    "    print 'all done'\n",
    "main()"
   ]
  },
  {
   "cell_type": "markdown",
   "metadata": {},
   "source": [
    "# 4 Queue 模块\n",
    "使用Queue结构来共享线程之间的数据\n",
    "\n",
    "函数 | 描述 \n",
    "--- | --- \n",
    "queue(size) | 构造函数\n",
    "qsize() | 返回队列的大小  \n",
    "empty() | 是否为空\n",
    "full() | 是否满 \n",
    "put(item, block=0) | 把item放入到队列中，如果block不为0，函数阻塞到队列中有空间为止 \n",
    "get(block=0) | 从队列中获取对象，如果block中不为0，函数阻塞只队列中有对象\n",
    " "
   ]
  },
  {
   "cell_type": "code",
   "execution_count": 24,
   "metadata": {
    "collapsed": false
   },
   "outputs": [
    {
     "name": "stdout",
     "output_type": "stream",
     "text": [
      "starting writer at:  Wed Feb  1 18:39:33 2017\n",
      "producting object for Q... None\n",
      "size now 1\n",
      "starting reader at:  Wed Feb  1 18:39:33 2017\n",
      "consumed object from Q... 0\n",
      "producting object for Q... None\n",
      "size nowconsumed object from Q...  00\n",
      "\n",
      "producting object for Q... None\n",
      "size now 1\n",
      "producting object for Q... None\n",
      "size now 2\n",
      "consumed object from Q... 1\n",
      "writer finished at:  Wed Feb  1 18:39:42 2017\n",
      "consumed object from Q... 0\n",
      "reader finished at:  Wed Feb  1 18:39:48 2017\n",
      "all Done\n"
     ]
    }
   ],
   "source": [
    "from random import randint\n",
    "from time import sleep\n",
    "from Queue import Queue\n",
    "import threading\n",
    "class MyThread(threading.Thread):\n",
    "    def __init__(self, func, args, name =''):\n",
    "        threading.Thread.__init__(self)\n",
    "        self.name = name\n",
    "        self.func = func\n",
    "        self.args = args\n",
    "    def getResult(self):\n",
    "        return self.result\n",
    "    def run(self):\n",
    "        print 'starting', self.name, 'at: ', ctime()\n",
    "        self.result = apply(self.func, self.args)\n",
    "        print self.name, 'finished at: ', ctime()\n",
    "def writeQ(queue):\n",
    "    print 'producting object for Q...',queue.put('xxx', 1)\n",
    "    print 'size now', queue.qsize()\n",
    "def readQ(queue):\n",
    "    val = queue.get(1)\n",
    "    print 'consumed object from Q...', queue.qsize()\n",
    "def writer(queue, loops):\n",
    "    for i in range(loops):\n",
    "        writeQ(queue)\n",
    "        sleep(randint(1, 3))\n",
    "def reader(queue, loops):\n",
    "    for i in range(loops):\n",
    "        readQ(queue)\n",
    "        sleep(randint(2, 5))\n",
    "funcs = [writer, reader]\n",
    "nfuncs = range(len(funcs))\n",
    "def main():\n",
    "    nloops = randint(2,5)\n",
    "    q = Queue(32)\n",
    "    threads = []\n",
    "    for i in nfuncs:\n",
    "        t= MyThread(funcs[i], (q, nloops), funcs[i].__name__)\n",
    "        threads.append(t)\n",
    "    for i in nfuncs:\n",
    "        threads[i].start()\n",
    "    for i in nfuncs:\n",
    "        threads[i].join()\n",
    "    print 'all Done'\n",
    "main()"
   ]
  },
  {
   "cell_type": "code",
   "execution_count": 26,
   "metadata": {
    "collapsed": true
   },
   "outputs": [],
   "source": [
    "import Tkinter\n",
    "top = Tkinter.Tk()\n",
    "hello = Tkinter.Label(top, text = 'hello world!')\n",
    "hello.pack()\n",
    "quit = Tkinter.Button(top, text='quit', command=top.quit, bg='red', fg='white')\n",
    "quit.pack(fill = Tkinter.X, expand=1)\n",
    "Tkinter.mainloop()"
   ]
  },
  {
   "cell_type": "code",
   "execution_count": null,
   "metadata": {
    "collapsed": true
   },
   "outputs": [],
   "source": []
  }
 ],
 "metadata": {
  "anaconda-cloud": {},
  "kernelspec": {
   "display_name": "Python 2",
   "language": "python",
   "name": "python2"
  },
  "language_info": {
   "codemirror_mode": {
    "name": "ipython",
    "version": 2
   },
   "file_extension": ".py",
   "mimetype": "text/x-python",
   "name": "python",
   "nbconvert_exporter": "python",
   "pygments_lexer": "ipython2",
   "version": "2.7.12"
  }
 },
 "nbformat": 4,
 "nbformat_minor": 1
}
