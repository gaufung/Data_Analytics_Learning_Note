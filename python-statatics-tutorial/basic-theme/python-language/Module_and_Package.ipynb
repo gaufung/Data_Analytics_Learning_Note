{
 "cells": [
  {
   "cell_type": "markdown",
   "metadata": {},
   "source": [
    "**模块和包管理**"
   ]
  },
  {
   "cell_type": "markdown",
   "metadata": {
    "collapsed": true
   },
   "source": [
    "# 1 模块管理\n",
    "当我们在代码中使用 `import moudule_name`的语句的时候，python将会在一系列给定的文件夹中查找，如果查找不到将会报错。"
   ]
  },
  {
   "cell_type": "code",
   "execution_count": 1,
   "metadata": {
    "collapsed": false
   },
   "outputs": [
    {
     "data": {
      "text/plain": [
       "['',\n",
       " '/Users/gaufung/Anaconda/anaconda/lib/python27.zip',\n",
       " '/Users/gaufung/Anaconda/anaconda/lib/python2.7',\n",
       " '/Users/gaufung/Anaconda/anaconda/lib/python2.7/plat-darwin',\n",
       " '/Users/gaufung/Anaconda/anaconda/lib/python2.7/plat-mac',\n",
       " '/Users/gaufung/Anaconda/anaconda/lib/python2.7/plat-mac/lib-scriptpackages',\n",
       " '/Users/gaufung/Anaconda/anaconda/lib/python2.7/lib-tk',\n",
       " '/Users/gaufung/Anaconda/anaconda/lib/python2.7/lib-old',\n",
       " '/Users/gaufung/Anaconda/anaconda/lib/python2.7/lib-dynload',\n",
       " '/Users/gaufung/Anaconda/anaconda/lib/python2.7/site-packages',\n",
       " '/Users/gaufung/Anaconda/anaconda/lib/python2.7/site-packages/Sphinx-1.4.6-py2.7.egg',\n",
       " '/Users/gaufung/Anaconda/anaconda/lib/python2.7/site-packages/aeosa',\n",
       " '/Users/gaufung/Anaconda/anaconda/lib/python2.7/site-packages/setuptools-27.2.0-py2.7.egg',\n",
       " '/Users/gaufung/Anaconda/anaconda/lib/python2.7/site-packages/IPython/extensions',\n",
       " '/Users/gaufung/.ipython']"
      ]
     },
     "execution_count": 1,
     "metadata": {},
     "output_type": "execute_result"
    }
   ],
   "source": [
    "import sys\n",
    "sys.path"
   ]
  },
  {
   "cell_type": "markdown",
   "metadata": {},
   "source": [
    "如果想要在继续添加查找的包的文件夹位置，在Linux和Unix操作系统下可以使用一下操作  \n",
    "```Shell\n",
    "export PYTHONPATH = $PYTHONPATH:/home/mymodule\n",
    "```  \n",
    "\n",
    "使用Python代码添加  \n",
    "\n",
    "``` Python:n\n",
    "import sys\n",
    "module_path='/home/mymodule'\n",
    "if module_path not in sys.path:\n",
    "    sys.path.append(module_path)\n",
    "``` "
   ]
  },
  {
   "cell_type": "markdown",
   "metadata": {},
   "source": [
    "# 2 Package\n",
    "package 是一组包的管理工作，比如一个文件下中有多个模块或者子模块，通常情况下，在该文件下有一个`__init__.py`文件，表明该文件夹为一个*package*"
   ]
  },
  {
   "cell_type": "code",
   "execution_count": 2,
   "metadata": {
    "collapsed": false
   },
   "outputs": [
    {
     "data": {
      "text/plain": [
       "'/Users/gaufung/Anaconda/anaconda/lib/python2.7/site-packages/scipy/__init__.pyc'"
      ]
     },
     "execution_count": 2,
     "metadata": {},
     "output_type": "execute_result"
    }
   ],
   "source": [
    "import scipy\n",
    "scipy.__file__"
   ]
  },
  {
   "cell_type": "code",
   "execution_count": 4,
   "metadata": {
    "collapsed": false
   },
   "outputs": [
    {
     "data": {
      "text/plain": [
       "'0.18.1'"
      ]
     },
     "execution_count": 4,
     "metadata": {},
     "output_type": "execute_result"
    }
   ],
   "source": [
    "import scipy.version\n",
    "scipy.version.version"
   ]
  }
 ],
 "metadata": {
  "anaconda-cloud": {},
  "kernelspec": {
   "display_name": "Python 2",
   "language": "python",
   "name": "python2"
  },
  "language_info": {
   "codemirror_mode": {
    "name": "ipython",
    "version": 2
   },
   "file_extension": ".py",
   "mimetype": "text/x-python",
   "name": "python",
   "nbconvert_exporter": "python",
   "pygments_lexer": "ipython2",
   "version": "2.7.12"
  }
 },
 "nbformat": 4,
 "nbformat_minor": 1
}
